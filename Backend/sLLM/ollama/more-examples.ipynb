{
 "cells": [
  {
   "cell_type": "markdown",
   "metadata": {},
   "source": [
    "## 번역기\n"
   ]
  },
  {
   "cell_type": "code",
   "execution_count": 1,
   "metadata": {},
   "outputs": [],
   "source": [
    "from langserve import RemoteRunnable\n",
    "\n",
    "# ngrok remote 주소 설정\n",
    "chain = RemoteRunnable(\"https://termite-upward-monthly.ngrok-free.app/translate/\")"
   ]
  },
  {
   "cell_type": "code",
   "execution_count": 7,
   "metadata": {},
   "outputs": [
    {
     "name": "stdout",
     "output_type": "stream",
     "text": [
      "저는 딥러닝을 정말 좋아해요!"
     ]
    }
   ],
   "source": [
    "for token in chain.stream({\"input\": \"I love deep learning\"}):\n",
    "    print(token, end=\"\")"
   ]
  },
  {
   "cell_type": "markdown",
   "metadata": {},
   "source": [
    "## LLM 을 Runnable로 실행\n"
   ]
  },
  {
   "cell_type": "code",
   "execution_count": null,
   "metadata": {},
   "outputs": [],
   "source": [
    "from langchain_core.output_parsers import StrOutputParser\n",
    "from langchain_core.prompts import ChatPromptTemplate\n",
    "from langserve import RemoteRunnable\n",
    "\n",
    "llm = RemoteRunnable(\"https://termite-upward-monthly.ngrok-free.app/llm/\")\n",
    "\n",
    "prompt = ChatPromptTemplate.from_template(\n",
    "    \"다음의 내용을 SNS 게시글 형식으로 변환해 주세요:\\n{input}\"\n",
    ")\n",
    "\n",
    "\n",
    "chain = prompt | llm | StrOutputParser()"
   ]
  },
  {
   "cell_type": "code",
   "execution_count": 3,
   "metadata": {},
   "outputs": [
    {
     "data": {
      "text/plain": [
       "'💡 AI 어시스턴트로서 저는 딥러닝에 대한 사랑을 표현하고 싶어 여러분을 초대합니다! 🤖\\n\\n\"인공지능의 세계, 특히 딥러닝은 저를 매료시킵니다! 복잡한 문제를 해결하고 새로운 통찰력을 발견하는 데 있어 그 무한한 잠재력을 경험할 수 있어서 정말 기쁩니다. 함께 배우고 성장합시다! 🚀 #DeepLearningLove #AIAdventures\"'"
      ]
     },
     "execution_count": 3,
     "metadata": {},
     "output_type": "execute_result"
    }
   ],
   "source": [
    "chain.invoke({\"input\": \"저는 딥러닝을 너무나도 사랑합니다.\"})"
   ]
  },
  {
   "cell_type": "code",
   "execution_count": null,
   "metadata": {},
   "outputs": [],
   "source": []
  }
 ],
 "metadata": {
  "kernelspec": {
   "display_name": ".venv",
   "language": "python",
   "name": "python3"
  },
  "language_info": {
   "codemirror_mode": {
    "name": "ipython",
    "version": 3
   },
   "file_extension": ".py",
   "mimetype": "text/x-python",
   "name": "python",
   "nbconvert_exporter": "python",
   "pygments_lexer": "ipython3",
   "version": "3.12.6"
  }
 },
 "nbformat": 4,
 "nbformat_minor": 2
}
