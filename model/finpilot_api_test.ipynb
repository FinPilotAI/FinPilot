{
 "cells": [
  {
   "cell_type": "code",
   "execution_count": 1,
   "metadata": {},
   "outputs": [],
   "source": [
    "from config.secret_keys import OPENAI_API_KEY, TAVILY_API_KEY, USER_AGENT\n",
    "import os\n",
    "\n",
    "os.environ[\"OPENAI_API_KEY\"] = OPENAI_API_KEY\n",
    "os.environ[\"TAVILY_API_KEY\"] = TAVILY_API_KEY\n",
    "os.environ[\"USER_AGENT\"] = USER_AGENT"
   ]
  },
  {
   "cell_type": "markdown",
   "metadata": {},
   "source": [
    "---"
   ]
  },
  {
   "cell_type": "code",
   "execution_count": 2,
   "metadata": {},
   "outputs": [],
   "source": [
    "from finpilot.writer import WriterProcess"
   ]
  },
  {
   "cell_type": "code",
   "execution_count": 3,
   "metadata": {},
   "outputs": [
    {
     "name": "stderr",
     "output_type": "stream",
     "text": [
      "c:\\Users\\marti\\AppData\\Local\\anaconda3\\envs\\finpilot\\Lib\\site-packages\\langsmith\\client.py:241: LangSmithMissingAPIKeyWarning: API key must be provided when using hosted LangSmith API\n",
      "  warnings.warn(\n"
     ]
    }
   ],
   "source": [
    "writer_process = WriterProcess()"
   ]
  },
  {
   "cell_type": "code",
   "execution_count": 4,
   "metadata": {},
   "outputs": [],
   "source": [
    "retrieve_node = writer_process.get_retrieve_node()\n",
    "write_node = writer_process.get_write_node()\n",
    "filter_documents_node = writer_process.get_filter_documents_node()\n",
    "transform_query_node = writer_process.get_transform_query_node()\n",
    "web_search_node = writer_process.get_web_search_node()\n",
    "decide_write_or_rewrite_query, decide_to_retrieve_or_web_search, decide_to_regenerate_or_rewrite_query_or_end = writer_process.get_conditional_edge_func()"
   ]
  },
  {
   "cell_type": "code",
   "execution_count": 5,
   "metadata": {},
   "outputs": [],
   "source": [
    "from typing_extensions import TypedDict\n",
    "from typing import Annotated, List\n",
    "from langgraph.graph.message import add_messages\n",
    "\n",
    "class State(TypedDict):\n",
    "    \"\"\"\n",
    "    Represents the state of graph.\n",
    "\n",
    "    Args:\n",
    "        question : question that user ask\n",
    "        generation : LLM generation\n",
    "        documents : list of documents\n",
    "    \"\"\"\n",
    "    question : str\n",
    "    generation : str\n",
    "    messages : Annotated[list, add_messages]\n",
    "    documents : List[str]"
   ]
  },
  {
   "cell_type": "code",
   "execution_count": 6,
   "metadata": {},
   "outputs": [],
   "source": [
    "from langgraph.graph import StateGraph, START, END\n",
    "\n",
    "workflow = StateGraph(State)\n",
    "\n",
    "# Add Nodes\n",
    "workflow.add_node(\"retriever\", retrieve_node)\n",
    "workflow.add_node(\"filter_documents\", filter_documents_node)\n",
    "workflow.add_node(\"writer\", write_node)\n",
    "workflow.add_node(\"transform_query\", transform_query_node)\n",
    "workflow.add_node(\"web_search\", web_search_node)\n",
    "\n",
    "# connects edges\n",
    "workflow.add_edge(START, \"retriever\")\n",
    "workflow.add_edge(\"retriever\", \"filter_documents\")\n",
    "workflow.add_conditional_edges(\n",
    "    \"filter_documents\",\n",
    "    decide_write_or_rewrite_query,\n",
    "    {\n",
    "        \"writer\" : \"writer\",\n",
    "        \"transform_query\" : \"transform_query\"\n",
    "    },\n",
    ")\n",
    "workflow.add_conditional_edges(\n",
    "    \"transform_query\",\n",
    "    decide_to_retrieve_or_web_search,\n",
    "    {\n",
    "        \"retriever\" : \"retriever\",\n",
    "        \"web_search\" : \"web_search\"\n",
    "    }\n",
    ")\n",
    "workflow.add_edge(\"web_search\", \"writer\")\n",
    "workflow.add_conditional_edges(\n",
    "    \"writer\",\n",
    "    decide_to_regenerate_or_rewrite_query_or_end,\n",
    "    {\n",
    "        \"not supported\" : \"writer\",\n",
    "        \"useful\" : END,\n",
    "        \"not useful\" : \"transform_query\"\n",
    "    }\n",
    ")\n",
    "\n",
    "app = workflow.compile()"
   ]
  },
  {
   "cell_type": "code",
   "execution_count": null,
   "metadata": {},
   "outputs": [],
   "source": []
  }
 ],
 "metadata": {
  "kernelspec": {
   "display_name": "finpilot",
   "language": "python",
   "name": "python3"
  },
  "language_info": {
   "codemirror_mode": {
    "name": "ipython",
    "version": 3
   },
   "file_extension": ".py",
   "mimetype": "text/x-python",
   "name": "python",
   "nbconvert_exporter": "python",
   "pygments_lexer": "ipython3",
   "version": "3.11.11"
  }
 },
 "nbformat": 4,
 "nbformat_minor": 2
}
