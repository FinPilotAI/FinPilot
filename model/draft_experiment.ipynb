{
 "cells": [
  {
   "cell_type": "code",
   "execution_count": 1,
   "metadata": {},
   "outputs": [],
   "source": [
    "import os\n",
    "from config.secret_keys import OPENAI_API_KEY, TAVILY_API_KEY, POLYGON_API_KEY, USER_AGENT\n",
    "\n",
    "os.environ['OPENAI_API_KEY'] = OPENAI_API_KEY\n",
    "os.environ['TAVILY_API_KEY'] = TAVILY_API_KEY\n",
    "os.environ['POLYGON_API_KEY'] = POLYGON_API_KEY\n",
    "os.environ['USER_AGENT'] = USER_AGENT"
   ]
  },
  {
   "cell_type": "code",
   "execution_count": 8,
   "metadata": {},
   "outputs": [],
   "source": [
    "from langchain_openai import ChatOpenAI\n",
    "from pydantic import BaseModel\n",
    "from typing import List, Annotated\n",
    "from operator import add"
   ]
  },
  {
   "cell_type": "code",
   "execution_count": 4,
   "metadata": {},
   "outputs": [],
   "source": [
    "llm = ChatOpenAI(\n",
    "    model='gpt-4o-mini',\n",
    "    verbose=True\n",
    ")"
   ]
  },
  {
   "cell_type": "code",
   "execution_count": 9,
   "metadata": {},
   "outputs": [],
   "source": [
    "class OutlineModel(BaseModel):\n",
    "    outlines : Annotated[List[str], add]"
   ]
  },
  {
   "cell_type": "code",
   "execution_count": 10,
   "metadata": {},
   "outputs": [],
   "source": [
    "llm = llm.with_structured_output(OutlineModel)"
   ]
  },
  {
   "cell_type": "code",
   "execution_count": 13,
   "metadata": {},
   "outputs": [
    {
     "name": "stdout",
     "output_type": "stream",
     "text": [
      "['1. 서론', '   1.1. 보고서 목적', '   1.2. 기업 개요', '2. 기업 역사', '   2.1. 설립 배경', '   2.2. 주요 연혁', '3. 산업 분석', '   3.1. 시장 현황', '   3.2. 경쟁 분석', '4. 재무 분석', '   4.1. 손익계산서', '   4.2. 재무상태표', '   4.3. 현금흐름표', '5. 경영 전략', '   5.1. 비전 및 목표', '   5.2. 주요 전략', '6. 기술 혁신', '   6.1. 연구 개발(R&D)', '   6.2. 특허 및 기술력', '7. 글로벌 시장 현황', '   7.1. 해외 진출 현황', '   7.2. 주요 국가별 전략', '8. 결론', '   8.1. 주요 시사점', '   8.2. 향후 전망']\n"
     ]
    }
   ],
   "source": [
    "response = llm.invoke(input=\"삼성전자 기업 분석 보고서에 대한 보고서 목차를 정리해줘\")\n",
    "outlines = response.outlines\n",
    "\n",
    "print(outlines)"
   ]
  },
  {
   "cell_type": "markdown",
   "metadata": {},
   "source": [
    "---"
   ]
  },
  {
   "cell_type": "code",
   "execution_count": 14,
   "metadata": {},
   "outputs": [],
   "source": [
    "from pykrx import stock"
   ]
  },
  {
   "cell_type": "code",
   "execution_count": 15,
   "metadata": {},
   "outputs": [],
   "source": [
    "def fetch_ticker_list():\n",
    "    tickers = stock.get_market_ticker_list(market=\"ALL\")\n",
    "\n",
    "    return {\n",
    "        stock.get_market_ticker_name(ticker) : ticker for ticker in tickers\n",
    "    }\n",
    "\n",
    "def search_ticker_by_name(ticker_dict, name):\n",
    "    return ticker_dict[name]"
   ]
  },
  {
   "cell_type": "code",
   "execution_count": 16,
   "metadata": {},
   "outputs": [],
   "source": [
    "ticker_dict = fetch_ticker_list()"
   ]
  },
  {
   "cell_type": "code",
   "execution_count": 26,
   "metadata": {},
   "outputs": [
    {
     "data": {
      "text/plain": [
       "'005930'"
      ]
     },
     "execution_count": 26,
     "metadata": {},
     "output_type": "execute_result"
    }
   ],
   "source": [
    "search_ticker_by_name(ticker_dict, \"삼성전자\")"
   ]
  },
  {
   "cell_type": "markdown",
   "metadata": {},
   "source": [
    "---"
   ]
  },
  {
   "cell_type": "code",
   "execution_count": 95,
   "metadata": {},
   "outputs": [],
   "source": [
    "llm = ChatOpenAI(\n",
    "    model='gpt-4o-mini',\n",
    "    verbose=True\n",
    ")"
   ]
  },
  {
   "cell_type": "code",
   "execution_count": 96,
   "metadata": {},
   "outputs": [],
   "source": [
    "class CompanyNameModel(BaseModel):\n",
    "    company_name : Annotated[str, \"기업명\"]"
   ]
  },
  {
   "cell_type": "code",
   "execution_count": 97,
   "metadata": {},
   "outputs": [],
   "source": [
    "input=\"\"\"\"\n",
    "    다음 사용자 질문에서 '기업명'만 분리해서 알려줘.\n",
    "    '기업명'을 찾을 수 없다면 '없음' 이라고 답변해줘.\n",
    "\n",
    "    text : \n",
    "    삼성전자 기업 분석 보고서 초안을 작성해줘\n",
    "\n",
    "    다음의 답변 형식에 맞추어 답변해줘\n",
    "    \n",
    "    answer format:\n",
    "    'company_name' : {company_name}\n",
    "    \"\"\""
   ]
  },
  {
   "cell_type": "code",
   "execution_count": 98,
   "metadata": {},
   "outputs": [],
   "source": [
    "llm = llm.with_structured_output(CompanyNameModel)"
   ]
  },
  {
   "cell_type": "code",
   "execution_count": 99,
   "metadata": {},
   "outputs": [
    {
     "name": "stdout",
     "output_type": "stream",
     "text": [
      "삼성전자\n"
     ]
    }
   ],
   "source": [
    "response = llm.invoke(input=input)\n",
    "\n",
    "print(response.company_name)"
   ]
  },
  {
   "cell_type": "markdown",
   "metadata": {},
   "source": [
    "---"
   ]
  },
  {
   "cell_type": "code",
   "execution_count": null,
   "metadata": {},
   "outputs": [],
   "source": []
  }
 ],
 "metadata": {
  "kernelspec": {
   "display_name": "finpilot",
   "language": "python",
   "name": "python3"
  },
  "language_info": {
   "codemirror_mode": {
    "name": "ipython",
    "version": 3
   },
   "file_extension": ".py",
   "mimetype": "text/x-python",
   "name": "python",
   "nbconvert_exporter": "python",
   "pygments_lexer": "ipython3",
   "version": "3.10.16"
  }
 },
 "nbformat": 4,
 "nbformat_minor": 2
}
