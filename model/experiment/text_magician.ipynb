{
 "cells": [
  {
   "cell_type": "markdown",
   "metadata": {},
   "source": [
    "# Text Magician Process\n",
    "\n",
    "---"
   ]
  },
  {
   "cell_type": "markdown",
   "metadata": {},
   "source": [
    "## 1. Set API Keys"
   ]
  },
  {
   "cell_type": "code",
   "execution_count": 1,
   "metadata": {},
   "outputs": [],
   "source": [
    "import os\n",
    "\n",
    "from config.secret_keys import OPENAI_API_KEY\n",
    "\n",
    "os.environ[\"OPENAI_API_KEY\"] = OPENAI_API_KEY"
   ]
  },
  {
   "cell_type": "markdown",
   "metadata": {},
   "source": [
    "## 2. Import Modules"
   ]
  },
  {
   "cell_type": "code",
   "execution_count": 3,
   "metadata": {},
   "outputs": [],
   "source": [
    "# text magician\n",
    "from langchain_openai import ChatOpenAI\n",
    "from langchain_core.output_parsers import StrOutputParser\n",
    "\n",
    "# define graph state\n",
    "from typing import List\n",
    "from typing_extensions import TypedDict\n",
    "\n",
    "# construct graph\n",
    "from langgraph.graph import START, END, StateGraph"
   ]
  },
  {
   "cell_type": "markdown",
   "metadata": {},
   "source": [
    "## 3. Define Agents"
   ]
  },
  {
   "cell_type": "code",
   "execution_count": 4,
   "metadata": {},
   "outputs": [],
   "source": [
    "llm = ChatOpenAI(\n",
    "    model = \"gpt-4o-mini\",\n",
    "    temperature=0.5,\n",
    ")\n",
    "\n",
    "text_magician = llm | StrOutputParser()"
   ]
  },
  {
   "cell_type": "markdown",
   "metadata": {},
   "source": [
    "## 4. Construct Application"
   ]
  },
  {
   "cell_type": "markdown",
   "metadata": {},
   "source": [
    "### 4-1. Define Graph State"
   ]
  },
  {
   "cell_type": "code",
   "execution_count": 14,
   "metadata": {},
   "outputs": [],
   "source": [
    "class State(TypedDict):\n",
    "    \"\"\"\n",
    "    Represents the state of our graph.\n",
    "\n",
    "    Attributes:\n",
    "        question: question\n",
    "        generation: LLM generation\n",
    "    \"\"\"\n",
    "\n",
    "    question : str\n",
    "    generation : str"
   ]
  },
  {
   "cell_type": "markdown",
   "metadata": {},
   "source": [
    "### 4-2. Define Nodes"
   ]
  },
  {
   "cell_type": "code",
   "execution_count": 15,
   "metadata": {},
   "outputs": [],
   "source": [
    "def text_magician_node(state):\n",
    "    \"\"\"\n",
    "    Summary / Expand the given text.\n",
    "\n",
    "    Args : \n",
    "        state (dict) : The current graph state\n",
    "\n",
    "    Returns :\n",
    "        state (dict) : New key added to state, generation, that contains LLM generation\n",
    "    \"\"\"\n",
    "\n",
    "    print(\"[Graph Log] TEXT_MAGICIAN ...\")\n",
    "\n",
    "    question = state[\"question\"]\n",
    "\n",
    "    generation = text_magician.invoke(question)\n",
    "\n",
    "    return {\n",
    "        \"question\" : question,\n",
    "        \"generation\" : generation\n",
    "    }"
   ]
  },
  {
   "cell_type": "markdown",
   "metadata": {},
   "source": [
    "### 4-3. Construct Graph"
   ]
  },
  {
   "cell_type": "code",
   "execution_count": 16,
   "metadata": {},
   "outputs": [],
   "source": [
    "workflow = StateGraph(State)\n",
    "\n",
    "# Add Nodes\n",
    "workflow.add_node(\"text_magician\", text_magician_node)\n",
    "\n",
    "# Add Edges\n",
    "workflow.add_edge(START, \"text_magician\")\n",
    "workflow.add_edge(\"text_magician\", END)\n",
    "\n",
    "app = workflow.compile()"
   ]
  },
  {
   "cell_type": "markdown",
   "metadata": {},
   "source": [
    "### 4-4. Visualize Graph"
   ]
  },
  {
   "cell_type": "code",
   "execution_count": 17,
   "metadata": {},
   "outputs": [
    {
     "data": {
      "image/png": "[encoded data removed]",
      "text/plain": [
       "<IPython.core.display.Image object>"
      ]
     },
     "metadata": {},
     "output_type": "display_data"
    }
   ],
   "source": [
    "from IPython.display import Image, display\n",
    "\n",
    "try:\n",
    "    display(Image(app.get_graph(xray=True).draw_mermaid_png()))\n",
    "except Exception:\n",
    "    # This requires some extra dependencies and is optional\n",
    "    pass"
   ]
  },
  {
   "cell_type": "markdown",
   "metadata": {},
   "source": [
    "## 5. Test"
   ]
  },
  {
   "cell_type": "code",
   "execution_count": 18,
   "metadata": {},
   "outputs": [
    {
     "name": "stdout",
     "output_type": "stream",
     "text": [
      "[Graph Log] TEXT_MAGICIAN ...\n",
      "Node 'text_magician':\n",
      "\n",
      "---\n",
      "\n",
      "최근 한국의 주식 시장은 외국인 투자자와 기관 투자자들의 활발한 매수세 덕분에 긍정적인 흐름을 보이고 있습니다. 특히 코스피 지수는 2440선을 회복하며 2444.70을 기록했습니다. 이는 투자자들의 신뢰가 회복되고 있다는 신호로 해석될 수 있습니다. 외국인과 기관의 매수는 시장에 유동성을 공급하고, 이는 주가 상승에 긍정적인 영향을 미치고 있습니다.\n",
      "\n",
      "코스닥 지수 또한 장중 2% 상승하여 700선을 탈환하는 성과를 올렸습니다. 코스닥 시장의 상승은 기술주 및 중소형주에 대한 투자 심리가 개선되었음을 나타내며, 이는 전체 시장에 긍정적인 영향을 미치는 요소로 작용하고 있습니다. 투자자들은 기업 실적 개선, 글로벌 경제 회복, 그리고 정부의 정책 지원 등 다양한 긍정적인 요인들을 반영하여 적극적으로 매수에 나서고 있는 것으로 보입니다.\n",
      "\n",
      "전반적으로 국내 증시는 상승세를 보이며 투자자들의 기대감을 높이고 있습니다. 이러한 상승세는 앞으로의 경제 전망에 대한 긍정적인 신호로 해석될 수 있으며, 앞으로도 외국인과 기관의 지속적인 매수가 이어질 경우, 시장의 추가 상승 가능성도 열려 있습니다. 따라서 투자자들은 시장의 흐름을 주의 깊게 살펴보며, 적절한 투자 전략을 세우는 것이 중요할 것으로 보입니다.\n"
     ]
    }
   ],
   "source": [
    "inputs = {\"question\" : \"\"\"\n",
    "    최근 코스피는 외국인과 기관투자자의 매수 덕분에 2440선을 회복하며 2444.70을 기록했습니다. 코스닥 지수는 장중 2% 상승하여 700선을 탈환했습니다. 전반적으로 국내 증시는 상승세를 보이고 있습니다\n",
    "    \n",
    "    이 텍스트를 확장해줘\n",
    "\"\"\"}\n",
    "for output in app.stream(inputs):\n",
    "    for key, value in output.items():\n",
    "        # Node\n",
    "        print(f\"Node '{key}':\")\n",
    "        # Optional: print full state at each node\n",
    "        # pprint.pprint(value[\"keys\"], indent=2, width=80, depth=None)\n",
    "    print(\"\\n---\\n\")\n",
    "\n",
    "# Final generation\n",
    "print(value[\"generation\"])"
   ]
  },
  {
   "cell_type": "code",
   "execution_count": 19,
   "metadata": {},
   "outputs": [
    {
     "name": "stdout",
     "output_type": "stream",
     "text": [
      "[Graph Log] TEXT_MAGICIAN ...\n",
      "Node 'text_magician':\n",
      "\n",
      "---\n",
      "\n",
      "최근 한국 주식 시장은 외국인 및 기관 투자자들의 활발한 매수로 긍정적인 흐름을 보이고 있습니다. 코스피 지수는 2440선을 회복하며 2444.70을 기록했고, 코스닥 지수는 장중 2% 상승하여 700선을 탈환했습니다. 이는 투자자들의 신뢰 회복과 기술주 및 중소형주에 대한 투자 심리 개선을 나타냅니다. 기업 실적 개선, 글로벌 경제 회복, 정부의 정책 지원 등이 긍정적인 요인으로 작용하고 있으며, 이러한 상승세는 앞으로의 경제 전망에 대한 긍정적인 신호로 해석됩니다. 투자자들은 시장의 흐름을 주의 깊게 살펴보며 적절한 투자 전략을 세우는 것이 중요합니다.\n"
     ]
    }
   ],
   "source": [
    "texts = \"\"\"\n",
    "최근 한국의 주식 시장은 외국인 투자자와 기관 투자자들의 활발한 매수세 덕분에 긍정적인 흐름을 보이고 있습니다. 특히 코스피 지수는 2440선을 회복하며 2444.70을 기록했습니다. 이는 투자자들의 신뢰가 회복되고 있다는 신호로 해석될 수 있습니다. 외국인과 기관의 매수는 시장에 유동성을 공급하고, 이는 주가 상승에 긍정적인 영향을 미치고 있습니다.\n",
    "\n",
    "코스닥 지수 또한 장중 2% 상승하여 700선을 탈환하는 성과를 올렸습니다. 코스닥 시장의 상승은 기술주 및 중소형주에 대한 투자 심리가 개선되었음을 나타내며, 이는 전체 시장에 긍정적인 영향을 미치는 요소로 작용하고 있습니다. 투자자들은 기업 실적 개선, 글로벌 경제 회복, 그리고 정부의 정책 지원 등 다양한 긍정적인 요인들을 반영하여 적극적으로 매수에 나서고 있는 것으로 보입니다.\n",
    "\n",
    "전반적으로 국내 증시는 상승세를 보이며 투자자들의 기대감을 높이고 있습니다. 이러한 상승세는 앞으로의 경제 전망에 대한 긍정적인 신호로 해석될 수 있으며, 앞으로도 외국인과 기관의 지속적인 매수가 이어질 경우, 시장의 추가 상승 가능성도 열려 있습니다. 따라서 투자자들은 시장의 흐름을 주의 깊게 살펴보며, 적절한 투자 전략을 세우는 것이 중요할 것으로 보입니다.\n",
    "\"\"\"\n",
    "\n",
    "inputs = {\"question\" : texts + \"\\n 이 내용을 요약해줘\"}\n",
    "for output in app.stream(inputs):\n",
    "    for key, value in output.items():\n",
    "        # Node\n",
    "        print(f\"Node '{key}':\")\n",
    "        # Optional: print full state at each node\n",
    "        # pprint.pprint(value[\"keys\"], indent=2, width=80, depth=None)\n",
    "    print(\"\\n---\\n\")\n",
    "\n",
    "# Final generation\n",
    "print(value[\"generation\"])"
   ]
  }
 ],
 "metadata": {
  "kernelspec": {
   "display_name": "finpilot",
   "language": "python",
   "name": "python3"
  },
  "language_info": {
   "codemirror_mode": {
    "name": "ipython",
    "version": 3
   },
   "file_extension": ".py",
   "mimetype": "text/x-python",
   "name": "python",
   "nbconvert_exporter": "python",
   "pygments_lexer": "ipython3",
   "version": "3.10.16"
  }
 },
 "nbformat": 4,
 "nbformat_minor": 2
}
