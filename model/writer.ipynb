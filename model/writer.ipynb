{
 "cells": [
  {
   "cell_type": "markdown",
   "metadata": {},
   "source": [
    "# Writer Process\n",
    "\n",
    "---"
   ]
  },
  {
   "cell_type": "markdown",
   "metadata": {},
   "source": [
    "## 1. Set API Keys"
   ]
  },
  {
   "cell_type": "code",
   "execution_count": 42,
   "metadata": {},
   "outputs": [],
   "source": [
    "import os\n",
    "\n",
    "# Load API Keys\n",
    "from config.secret_keys import OPENAI_API_KEY, TAVILY_API_KEY, USER_AGENT\n",
    "\n",
    "os.environ[\"OPENAI_API_KEY\"] = OPENAI_API_KEY\n",
    "os.environ[\"TAVILY_API_KEY\"] = TAVILY_API_KEY\n",
    "os.environ[\"USER_AGENT\"] = USER_AGENT"
   ]
  },
  {
   "cell_type": "markdown",
   "metadata": {},
   "source": [
    "## 2. Import Modules"
   ]
  },
  {
   "cell_type": "code",
   "execution_count": 43,
   "metadata": {},
   "outputs": [],
   "source": [
    "# Construct Vector DB / Create retriever\n",
    "from langchain.text_splitter import RecursiveCharacterTextSplitter\n",
    "from langchain_community.document_loaders import WebBaseLoader\n",
    "from langchain_community.vectorstores import Chroma\n",
    "from langchain_openai import OpenAIEmbeddings\n",
    "\n",
    "# Retrieval Grader\n",
    "from langchain_core.prompts import ChatPromptTemplate\n",
    "from pydantic import BaseModel, Field\n",
    "from langchain_openai import ChatOpenAI\n",
    "\n",
    "# Writer\n",
    "from langchain import hub\n",
    "from langchain_core.output_parsers import StrOutputParser\n",
    "\n",
    "# define graph state\n",
    "from typing import List\n",
    "from typing_extensions import TypedDict\n",
    "\n",
    "# define tools\n",
    "from langchain_community.tools.tavily_search import TavilySearchResults\n",
    "\n",
    "# define Nodes\n",
    "from langchain.schema import Document\n",
    "\n",
    "# construct graph\n",
    "from langgraph.graph import START, END, StateGraph"
   ]
  },
  {
   "cell_type": "markdown",
   "metadata": {},
   "source": [
    "## 3. Construct Vector DB "
   ]
  },
  {
   "cell_type": "code",
   "execution_count": 44,
   "metadata": {},
   "outputs": [],
   "source": [
    "urls = [\n",
    "    'https://www.mk.co.kr/news/stock/11209083', # title : 돌아온 외국인에 코스피 모처럼 ‘활짝’…코스닥 700선 탈환\n",
    "    'https://www.mk.co.kr/news/stock/11209254', # title : 힘 못받는 증시에 밸류업 ETF 두 달째 마이너스 수익률\n",
    "    'https://www.mk.co.kr/news/stock/11209229', # title : 서학개미 한 달간 1조원 샀는데···테슬라 400달러 붕괴\n",
    "]\n",
    "\n",
    "docs = [WebBaseLoader(url).load() for url in urls]\n",
    "docs_list = [item for sublist in docs for item in sublist]\n",
    "\n",
    "text_splitter = RecursiveCharacterTextSplitter(\n",
    "    chunk_size=300, chunk_overlap=50\n",
    ")\n",
    "doc_splits = text_splitter.split_documents(docs_list)\n",
    "\n",
    "vectorstore = Chroma.from_documents(\n",
    "    documents=doc_splits,\n",
    "    collection_name = 'rag-chroma',\n",
    "    embedding=OpenAIEmbeddings(),\n",
    ")\n",
    "\n",
    "retrieve = vectorstore.as_retriever()"
   ]
  },
  {
   "cell_type": "markdown",
   "metadata": {},
   "source": [
    "## 4. Define Agents"
   ]
  },
  {
   "cell_type": "markdown",
   "metadata": {},
   "source": [
    "### 4-1. Retrieval Grader"
   ]
  },
  {
   "cell_type": "code",
   "execution_count": 45,
   "metadata": {},
   "outputs": [],
   "source": [
    "class GradeDocuments(BaseModel):\n",
    "    \"\"\"\n",
    "    Binary score for relevance check on retrieved documents.\n",
    "    \"\"\"\n",
    "\n",
    "    relevance_score : str = Field(\n",
    "        description=\"Document are relevant to the question, 'yes' or 'no'\"\n",
    "    )"
   ]
  },
  {
   "cell_type": "code",
   "execution_count": 46,
   "metadata": {},
   "outputs": [],
   "source": [
    "llm = ChatOpenAI(\n",
    "    model = \"gpt-4o-mini\",\n",
    "    temperature=0\n",
    ")\n",
    "structured_llm = llm.with_structured_output(GradeDocuments)\n",
    "\n",
    "system_prompt = \"\"\"\n",
    "    You are a grader assessing relevance of a retrieved document to a user question. \\n \n",
    "\n",
    "    It does not need to be a stringent test. The goal is to filter out erroneous retrievals. \\n\n",
    "\n",
    "    If the document contains keyword(s) or semantic meaning related to the user question, grade it as relevant. \\n\n",
    "\n",
    "    Give a binary score 'yes' or 'no' score to indicate whether the document is relevant to the question.\n",
    "\"\"\"\n",
    "\n",
    "grade_prompt = ChatPromptTemplate.from_messages(\n",
    "    [\n",
    "        (\"system\", system_prompt),\n",
    "        (\"human\", \"Retreived documents : \\n\\n {documents} \\n\\n User question : {question}\")\n",
    "    ]\n",
    ")\n",
    "\n",
    "retrieval_grader = grade_prompt | structured_llm"
   ]
  },
  {
   "cell_type": "markdown",
   "metadata": {},
   "source": [
    "### 4-2. Writer"
   ]
  },
  {
   "cell_type": "code",
   "execution_count": 47,
   "metadata": {},
   "outputs": [
    {
     "name": "stderr",
     "output_type": "stream",
     "text": [
      "c:\\Users\\USER\\anaconda3\\envs\\finpilot\\lib\\site-packages\\langsmith\\client.py:241: LangSmithMissingAPIKeyWarning: API key must be provided when using hosted LangSmith API\n",
      "  warnings.warn(\n"
     ]
    }
   ],
   "source": [
    "write_prompt = hub.pull(\"rlm/rag-prompt\")\n",
    "\n",
    "llm = ChatOpenAI(\n",
    "    model = \"gpt-4o-mini\",\n",
    "    temperature=0\n",
    ")\n",
    "\n",
    "def format_docs(docs):\n",
    "    return \"\\n\\n\".join(doc.page_content for doc in docs)\n",
    "\n",
    "writer = write_prompt | llm | StrOutputParser()"
   ]
  },
  {
   "cell_type": "markdown",
   "metadata": {},
   "source": [
    "### 4-3. Hallucination Grader"
   ]
  },
  {
   "cell_type": "code",
   "execution_count": 48,
   "metadata": {},
   "outputs": [],
   "source": [
    "class GradeHallucination(BaseModel):\n",
    "    \"\"\"\n",
    "    Binary Score for hallunination present in generation answer.\n",
    "    \"\"\"\n",
    "\n",
    "    hallucination_score : str = Field(\n",
    "        description=\"Answer is grounded in the facts, 'yes' or 'no'\"\n",
    "    )"
   ]
  },
  {
   "cell_type": "code",
   "execution_count": 49,
   "metadata": {},
   "outputs": [],
   "source": [
    "llm = ChatOpenAI(\n",
    "    model = \"gpt-4o-mini\",\n",
    "    temperature=0\n",
    ")\n",
    "structured_llm = llm.with_structured_output(GradeHallucination)\n",
    "\n",
    "system_prompt = \"\"\"\n",
    "    You are a grader assessing whether an LLM generation is grounded in / supported by a set of retrieved facts. \\n \n",
    "\n",
    "    Give a binary score 'yes' or 'no'. 'Yes' means that the answer is grounded in / supported by the set of facts.\n",
    "\"\"\"\n",
    "hallucination_prompt = ChatPromptTemplate.from_messages(\n",
    "    [\n",
    "        (\"system\", system_prompt),\n",
    "        (\"human\", \"Set of facts : \\n\\n {documents} \\n\\n LLM generation : {generation}\")\n",
    "    ]\n",
    ")\n",
    "\n",
    "hallucination_grader = hallucination_prompt | structured_llm"
   ]
  },
  {
   "cell_type": "markdown",
   "metadata": {},
   "source": [
    "### 4-4. Answer Grader"
   ]
  },
  {
   "cell_type": "code",
   "execution_count": 50,
   "metadata": {},
   "outputs": [],
   "source": [
    "class AnswerGrader(BaseModel):\n",
    "    \"\"\"\n",
    "    Binary Score to assess answer address question.\n",
    "    \"\"\"\n",
    "\n",
    "    answer_score : str = Field(\n",
    "        description=\"Answer address the question, 'yes' or 'no'\"\n",
    "    )"
   ]
  },
  {
   "cell_type": "code",
   "execution_count": 51,
   "metadata": {},
   "outputs": [],
   "source": [
    "llm = ChatOpenAI(\n",
    "    model='gpt-4o-mini',\n",
    "    temperature=0\n",
    ")\n",
    "structured_llm = llm.with_structured_output(AnswerGrader)\n",
    "\n",
    "system_prompt = \"\"\"\n",
    "    You are a grader assessing whether an answer addresses / resolves a question \\n \n",
    "    \n",
    "    Give a binary score 'yes' or 'no'. Yes' means that the answer resolves the question.\n",
    "\"\"\"\n",
    "answer_prompt = ChatPromptTemplate.from_messages(\n",
    "    [\n",
    "        (\"system\", system_prompt),\n",
    "        (\"human\", \"User question : \\n\\n {question} \\n\\n LLM generation : {generation}\")\n",
    "    ]\n",
    ")\n",
    "\n",
    "answer_grader = answer_prompt | structured_llm"
   ]
  },
  {
   "cell_type": "markdown",
   "metadata": {},
   "source": [
    "### 4-5. Query rewriter"
   ]
  },
  {
   "cell_type": "code",
   "execution_count": 52,
   "metadata": {},
   "outputs": [],
   "source": [
    "llm = ChatOpenAI(\n",
    "    model = \"gpt-4o-mini\",\n",
    "    temperature=0\n",
    ")\n",
    "\n",
    "system_prompt = \"\"\"\n",
    "    You a question re-writer that converts an input question to a better version that is optimized for vectorstore retrieval. \\n\n",
    "    \n",
    "    Look at the input and try to reason about the underlying semantic intent / meaning.\n",
    "\"\"\"\n",
    "rewrite_prompt = ChatPromptTemplate.from_messages(\n",
    "    [\n",
    "        (\"system\", system_prompt),\n",
    "        (\n",
    "            \"human\",\n",
    "            \"Here is the initial question : \\n\\n {question} \\n Formulation an improved question\"\n",
    "        )\n",
    "    ]\n",
    ")\n",
    "\n",
    "query_rewriter = rewrite_prompt | llm"
   ]
  },
  {
   "cell_type": "markdown",
   "metadata": {},
   "source": [
    "## 5. Construct Graph"
   ]
  },
  {
   "cell_type": "markdown",
   "metadata": {},
   "source": [
    "### 5-1. Define Graph State"
   ]
  },
  {
   "cell_type": "code",
   "execution_count": 53,
   "metadata": {},
   "outputs": [],
   "source": [
    "class State(TypedDict):\n",
    "    \"\"\"\n",
    "    Represents the state of our graph.\n",
    "\n",
    "    Attributes:\n",
    "        question: question\n",
    "        generation: LLM generation\n",
    "        documents: list of documents\n",
    "    \"\"\"\n",
    "\n",
    "    question : str\n",
    "    generation : str\n",
    "    documents : List[str]"
   ]
  },
  {
   "cell_type": "markdown",
   "metadata": {},
   "source": [
    "### 5-2. Define Tools"
   ]
  },
  {
   "cell_type": "code",
   "execution_count": 54,
   "metadata": {},
   "outputs": [],
   "source": [
    "# web search tool\n",
    "web_search_tool = TavilySearchResults(k=3)"
   ]
  },
  {
   "cell_type": "markdown",
   "metadata": {},
   "source": [
    "### 5-3. Define Nodes"
   ]
  },
  {
   "cell_type": "code",
   "execution_count": 55,
   "metadata": {},
   "outputs": [],
   "source": [
    "# Retriever\n",
    "def retrieve_node(state):\n",
    "    \"\"\"\n",
    "    Retrieve documents\n",
    "\n",
    "    Args:\n",
    "        state (dict): The current graph state\n",
    "\n",
    "    Returns:\n",
    "        state (dict): New key added to state, documents, that contains retrieved documents\n",
    "    \"\"\"\n",
    "    print(\"[Graph Log] RETRIEVE ...\")\n",
    "    question = state[\"question\"]\n",
    "    try : \n",
    "        prev_documents = state[\"documents\"]\n",
    "        retrieved_documents = retrieve.invoke(question)\n",
    "        documents = prev_documents + retrieved_documents\n",
    "    except:\n",
    "        documents = retrieve.invoke(question)\n",
    "    \n",
    "    return {\n",
    "        \"documents\" : documents,\n",
    "        \"question\" : question\n",
    "    }\n",
    "\n",
    "# writer\n",
    "def write_node(state):\n",
    "    \"\"\"\n",
    "    Generate answer\n",
    "\n",
    "    Args:\n",
    "        state (dict): The current graph state\n",
    "\n",
    "    Returns:\n",
    "        state (dict): New key added to state, generation, that contains LLM generation\n",
    "    \"\"\"\n",
    "\n",
    "    print(\"[Graph Log] WRITE ...\")\n",
    "\n",
    "    question = state[\"question\"]\n",
    "    documents = state[\"documents\"]\n",
    "\n",
    "    generation = writer.invoke({\"context\" : documents, \"question\" : question})\n",
    "\n",
    "    return {\n",
    "        \"documents\" : documents,\n",
    "        \"question\" : question,\n",
    "        \"generation\" : generation\n",
    "    }\n",
    "\n",
    "def filter_documents_node(state):\n",
    "    \"\"\"\n",
    "    Determines whether the retrieved documents are relevant to the question.\n",
    "\n",
    "    Args : \n",
    "        state (dict) : The current graph state\n",
    "\n",
    "    Returns : \n",
    "        state (dict) : Updates documents key with only filterd relevant documents\n",
    "    \"\"\"\n",
    "\n",
    "    print(\"[Graph Log] FILTER DOCUMENTS ...\")\n",
    "\n",
    "    question = state[\"question\"]\n",
    "    documents = state[\"documents\"]\n",
    "\n",
    "    filtered_docs = []\n",
    "    for doc in documents:\n",
    "        score = retrieval_grader.invoke(\n",
    "            {\"question\" : question, \"documents\" : doc.page_content}\n",
    "        )\n",
    "        relevance_grade = score.relevance_score\n",
    "\n",
    "        if relevance_grade == \"yes\":\n",
    "            print(\"[Relevance Grader Log] GRADE : DOCUMENT RELEVANT\")\n",
    "            filtered_docs.append(doc)\n",
    "        else:\n",
    "            print(\"[Relevance Grader Log] GRADE : DOCUMENT NOT RELEVANT\")\n",
    "            continue\n",
    "    \n",
    "    return {\"documents\" : filtered_docs, \"question\" : question}\n",
    "\n",
    "def improve_query_node(state):\n",
    "    \"\"\"\n",
    "    Transform the query to produce a better question.\n",
    "\n",
    "    Args :\n",
    "        state (dict) : The current graph state\n",
    "    \n",
    "    Returns : \n",
    "        state (dict) : Updateds question key with a re-phrase question\n",
    "    \"\"\"\n",
    "\n",
    "    print(\"[Graph Log] TRANSFORM QUERY ...\")\n",
    "\n",
    "    question = state[\"question\"]\n",
    "    documents = state[\"documents\"]\n",
    "\n",
    "    improved_query = query_rewriter.invoke({\"question\" : question})\n",
    "\n",
    "    return {\"documents\" : documents, \"question\" : improved_query.content}\n",
    "\n",
    "def web_search_node(state):\n",
    "    \"\"\"\n",
    "    Web search based on the re-phrased question.\n",
    "\n",
    "    Args :\n",
    "        state (dict) : The current graph state\n",
    "\n",
    "    Returns :\n",
    "        state (dict) : Updates documents key with appended web results\n",
    "    \"\"\"\n",
    "\n",
    "    print(\"[Graph Log] WEB SEARCH ...\")\n",
    "    question = state[\"question\"]\n",
    "    documents = state[\"documents\"]\n",
    "\n",
    "    if isinstance(question, str):\n",
    "        query = question\n",
    "    else:\n",
    "        query = str(question.content) if hasattr(question, 'content') else str(question)\n",
    "\n",
    "    docs = web_search_tool.invoke({\"query\" : query})\n",
    "    web_results = \"\\n\".join([doc[\"content\"] for doc in docs])\n",
    "    web_results = Document(page_content=web_results)\n",
    "    documents.append(web_results)\n",
    "\n",
    "    return {\"documents\" : documents, \"question\" : question}"
   ]
  },
  {
   "cell_type": "markdown",
   "metadata": {},
   "source": [
    "### 5-4. Define Conditional Edge Functions"
   ]
  },
  {
   "cell_type": "code",
   "execution_count": 56,
   "metadata": {},
   "outputs": [],
   "source": [
    "def decide_write_or_improve_query(state):\n",
    "    \"\"\"\n",
    "    Determines whether to generate an answer, or re-generate a question.\n",
    "\n",
    "    Args : \n",
    "        state (dict) : The current graph state\n",
    "    \n",
    "    Returns :\n",
    "        str : Binary decision for next node to call\n",
    "    \"\"\"\n",
    "\n",
    "    print(\"[Graph Log] DETERMINES 'WRITE' OR 'REWRITE QUESTION' ...\")\n",
    "\n",
    "    documents = state[\"documents\"]\n",
    "\n",
    "    if len(documents) >= 6:\n",
    "        print(\n",
    "            \"[Graph Log] DECISION : WRITE\"\n",
    "        )\n",
    "        return \"writer\"\n",
    "    else :\n",
    "        print(\n",
    "            \"[Graph Log] DECISION : REWRITE QUESTION\"\n",
    "        )\n",
    "        return \"improve_query\"\n",
    "\n",
    "def decide_to_regenerate_or_rewrite_query_or_end(state):\n",
    "    \"\"\"\n",
    "    Determines whether the generation is grounded in the document and answers question.\n",
    "\n",
    "    Args:\n",
    "        state (dict) : The current graph state\n",
    "    \n",
    "    Returns :\n",
    "        str : Decision for next node to call\n",
    "    \"\"\"\n",
    "\n",
    "    print(\"[Graph Log] CHECK HALLUCINATIONS ...\")\n",
    "\n",
    "    question = state[\"question\"]\n",
    "    documents = state[\"documents\"]\n",
    "    generation = state[\"generation\"]\n",
    "\n",
    "    score = hallucination_grader.invoke(\n",
    "        {\"documents\" : documents, \"generation\" : generation}\n",
    "    )\n",
    "    hallucination_grade = score.hallucination_score\n",
    "\n",
    "    if hallucination_grade == \"yes\":\n",
    "        print(\"[Graph Log] DECISION : ANSWER IS GROUNDED IN DOCUMENTS\")\n",
    "\n",
    "        print(\"[Graph Log] CHECK ANSWER IS USEFUL OR NOT ...\")\n",
    "\n",
    "        score = answer_grader.invoke(\n",
    "            {\"question\" : question, \"generation\" : generation}\n",
    "        )\n",
    "        answer_grade = score.answer_score\n",
    "\n",
    "        if answer_grade == \"yes\":\n",
    "            print(\"[Graph Log] DECISION : GENERATION ADDRESSES QUESTION\")\n",
    "\n",
    "            return \"useful\"\n",
    "        else :\n",
    "            print(\"[Graph Log] DECISION : GENERATION DOES NOT ADDRESS QUESTION\")\n",
    "\n",
    "            return \"not useful\"\n",
    "    else:\n",
    "        print(\"[Graph Log] DECISION : GENERATION IS NOT GROUNDED IN DOCUMENTS, RE-TRY\")\n",
    "        \n",
    "        return \"not supported\"\n"
   ]
  },
  {
   "cell_type": "markdown",
   "metadata": {},
   "source": [
    "### 5-5. Construct Graph"
   ]
  },
  {
   "cell_type": "code",
   "execution_count": 57,
   "metadata": {},
   "outputs": [],
   "source": [
    "workflow = StateGraph(State)\n",
    "\n",
    "# Add Nodes\n",
    "workflow.add_node(\"retriever\", retrieve_node)\n",
    "workflow.add_node(\"filter_documents\", filter_documents_node)\n",
    "workflow.add_node(\"writer\", write_node)\n",
    "workflow.add_node(\"improve_query\", improve_query_node)\n",
    "workflow.add_node(\"web_search\", web_search_node)\n",
    "\n",
    "# connects edges\n",
    "workflow.add_edge(START, \"retriever\")\n",
    "workflow.add_edge(\"retriever\", \"filter_documents\")\n",
    "workflow.add_conditional_edges(\n",
    "    \"filter_documents\",\n",
    "    decide_write_or_improve_query,\n",
    "    {\n",
    "        \"writer\" : \"writer\",\n",
    "        \"improve_query\" : \"improve_query\"\n",
    "    },\n",
    ")\n",
    "workflow.add_conditional_edges(\n",
    "    \"writer\",\n",
    "    decide_to_regenerate_or_rewrite_query_or_end,\n",
    "    {\n",
    "        \"not supported\" : \"writer\",\n",
    "        \"useful\" : END,\n",
    "        \"not useful\" : \"improve_query\"\n",
    "    }\n",
    ")\n",
    "workflow.add_edge(\"improve_query\", \"web_search\")\n",
    "workflow.add_edge(\"web_search\", \"retriever\")\n",
    "\n",
    "app = workflow.compile()"
   ]
  },
  {
   "cell_type": "markdown",
   "metadata": {},
   "source": [
    "### 5-6. Visualize Graph"
   ]
  },
  {
   "cell_type": "code",
   "execution_count": 58,
   "metadata": {},
   "outputs": [
    {
     "data": {
      "image/png": "[encoded data removed]",
      "text/plain": [
       "<IPython.core.display.Image object>"
      ]
     },
     "metadata": {},
     "output_type": "display_data"
    }
   ],
   "source": [
    "from IPython.display import Image, display\n",
    "\n",
    "try:\n",
    "    display(Image(app.get_graph(xray=True).draw_mermaid_png()))\n",
    "except Exception:\n",
    "    # This requires some extra dependencies and is optional\n",
    "    pass"
   ]
  },
  {
   "cell_type": "markdown",
   "metadata": {},
   "source": [
    "## 6. Test"
   ]
  },
  {
   "cell_type": "code",
   "execution_count": 59,
   "metadata": {},
   "outputs": [
    {
     "name": "stdout",
     "output_type": "stream",
     "text": [
      "[Graph Log] RETRIEVE ...\n",
      "Node 'retriever' : '{'documents': [Document(metadata={'description': '코스피가 외국인과 기관투자자의 쌍끌이 매수에 2440선을 회복했다. 코스닥 지수는 장중 2%대 상승하며 700선을 탈환했다. 3일 오전 11시 30분 현재 코스피는 전일 대비 45.76포인트(1.91%) 오른 2444.70을 가리키고 있다. 간밤 뉴욕증시는 약세로 마감했으나 국내 증시는 상승하는 모습이다. 지난 2일(현지시간) 뉴욕증시에서 다우지수는 전일 ', 'language': 'ko', 'source': 'https://www.mk.co.kr/news/stock/11209083', 'title': '돌아온 외국인에 코스피 모처럼 ‘활짝’…코스닥 700선 탈환 - 매일경제'}, page_content='돌아온 외국인에 코스피 모처럼 ‘활짝’…코스닥 700선 탈환\\n\\n\\n\\n\\n\\n\\n뉴스 요약쏙\\n\\n\\n뉴스 요약쏙\\nAI 요약은 OpenAI의 최신 기술을 활용해 핵심 내용을 빠르고 정확하게 제공합니다. 전체 맥락을 이해하려면 기사 본문을 함께 확인하는 것이 좋습니다.\\n닫기'), Document(metadata={'description': '코스피가 외국인과 기관투자자의 쌍끌이 매수에 2440선을 회복했다. 코스닥 지수는 장중 2%대 상승하며 700선을 탈환했다. 3일 오전 11시 30분 현재 코스피는 전일 대비 45.76포인트(1.91%) 오른 2444.70을 가리키고 있다. 간밤 뉴욕증시는 약세로 마감했으나 국내 증시는 상승하는 모습이다. 지난 2일(현지시간) 뉴욕증시에서 다우지수는 전일 ', 'language': 'ko', 'source': 'https://www.mk.co.kr/news/stock/11209083', 'title': '돌아온 외국인에 코스피 모처럼 ‘활짝’…코스닥 700선 탈환 - 매일경제'}, page_content='돌아온 외국인에 코스피 모처럼 ‘활짝’…코스닥 700선 탈환\\n\\n\\n\\n\\n\\n\\n뉴스 요약쏙\\n\\n\\n뉴스 요약쏙\\nAI 요약은 OpenAI의 최신 기술을 활용해 핵심 내용을 빠르고 정확하게 제공합니다. 전체 맥락을 이해하려면 기사 본문을 함께 확인하는 것이 좋습니다.\\n닫기'), Document(metadata={'description': '코스피가 외국인과 기관투자자의 쌍끌이 매수에 2440선을 회복했다. 코스닥 지수는 장중 2%대 상승하며 700선을 탈환했다. 3일 오전 11시 30분 현재 코스피는 전일 대비 45.76포인트(1.91%) 오른 2444.70을 가리키고 있다. 간밤 뉴욕증시는 약세로 마감했으나 국내 증시는 상승하는 모습이다. 지난 2일(현지시간) 뉴욕증시에서 다우지수는 전일 ', 'language': 'ko', 'source': 'https://www.mk.co.kr/news/stock/11209083', 'title': '돌아온 외국인에 코스피 모처럼 ‘활짝’…코스닥 700선 탈환 - 매일경제'}, page_content='있으며 운송장비(-0.38%)는 하락 중이다.코스피 시가총액 상위 10개 종목 가운데 기아(-1.48%)를 제외한 모든 종목에 빨간불이 켜졌다. 삼성전자(2.43%), SK하이닉스(5.67%), LG에너지솔루션(3.47%), 현대차(1.18%), KB금융(1.68%), 네이버(3.10%) 등이 강세다.같은 시각 코스닥 지수는 전일 대비 13.77포인트(2.01%) 오른 700.40을 가리키고 있다.지수가 장중 700선을 넘어선 것은 지난달 16일 이후 처음이다.코스닥 시장에서는 기관이 홀로 404억원어치 사들이고 있다. 외국인과'), Document(metadata={'description': '코스피가 외국인과 기관투자자의 쌍끌이 매수에 2440선을 회복했다. 코스닥 지수는 장중 2%대 상승하며 700선을 탈환했다. 3일 오전 11시 30분 현재 코스피는 전일 대비 45.76포인트(1.91%) 오른 2444.70을 가리키고 있다. 간밤 뉴욕증시는 약세로 마감했으나 국내 증시는 상승하는 모습이다. 지난 2일(현지시간) 뉴욕증시에서 다우지수는 전일 ', 'language': 'ko', 'source': 'https://www.mk.co.kr/news/stock/11209083', 'title': '돌아온 외국인에 코스피 모처럼 ‘활짝’…코스닥 700선 탈환 - 매일경제'}, page_content='있으며 운송장비(-0.38%)는 하락 중이다.코스피 시가총액 상위 10개 종목 가운데 기아(-1.48%)를 제외한 모든 종목에 빨간불이 켜졌다. 삼성전자(2.43%), SK하이닉스(5.67%), LG에너지솔루션(3.47%), 현대차(1.18%), KB금융(1.68%), 네이버(3.10%) 등이 강세다.같은 시각 코스닥 지수는 전일 대비 13.77포인트(2.01%) 오른 700.40을 가리키고 있다.지수가 장중 700선을 넘어선 것은 지난달 16일 이후 처음이다.코스닥 시장에서는 기관이 홀로 404억원어치 사들이고 있다. 외국인과')], 'question': '코스피와 코스닥에 대한 최근 이슈에 대한 인사이트를 작성해줘'}\n",
      "\n",
      "---\n",
      "\n",
      "[Graph Log] FILTER DOCUMENTS ...\n",
      "[Relevance Grader Log] GRADE : DOCUMENT RELEVANT\n",
      "[Relevance Grader Log] GRADE : DOCUMENT RELEVANT\n",
      "[Relevance Grader Log] GRADE : DOCUMENT RELEVANT\n",
      "[Relevance Grader Log] GRADE : DOCUMENT RELEVANT\n",
      "[Graph Log] DETERMINES 'WRITE' OR 'REWRITE QUESTION' ...\n",
      "[Graph Log] DECISION : REWRITE QUESTION\n",
      "Node 'filter_documents' : '{'documents': [Document(metadata={'description': '코스피가 외국인과 기관투자자의 쌍끌이 매수에 2440선을 회복했다. 코스닥 지수는 장중 2%대 상승하며 700선을 탈환했다. 3일 오전 11시 30분 현재 코스피는 전일 대비 45.76포인트(1.91%) 오른 2444.70을 가리키고 있다. 간밤 뉴욕증시는 약세로 마감했으나 국내 증시는 상승하는 모습이다. 지난 2일(현지시간) 뉴욕증시에서 다우지수는 전일 ', 'language': 'ko', 'source': 'https://www.mk.co.kr/news/stock/11209083', 'title': '돌아온 외국인에 코스피 모처럼 ‘활짝’…코스닥 700선 탈환 - 매일경제'}, page_content='돌아온 외국인에 코스피 모처럼 ‘활짝’…코스닥 700선 탈환\\n\\n\\n\\n\\n\\n\\n뉴스 요약쏙\\n\\n\\n뉴스 요약쏙\\nAI 요약은 OpenAI의 최신 기술을 활용해 핵심 내용을 빠르고 정확하게 제공합니다. 전체 맥락을 이해하려면 기사 본문을 함께 확인하는 것이 좋습니다.\\n닫기'), Document(metadata={'description': '코스피가 외국인과 기관투자자의 쌍끌이 매수에 2440선을 회복했다. 코스닥 지수는 장중 2%대 상승하며 700선을 탈환했다. 3일 오전 11시 30분 현재 코스피는 전일 대비 45.76포인트(1.91%) 오른 2444.70을 가리키고 있다. 간밤 뉴욕증시는 약세로 마감했으나 국내 증시는 상승하는 모습이다. 지난 2일(현지시간) 뉴욕증시에서 다우지수는 전일 ', 'language': 'ko', 'source': 'https://www.mk.co.kr/news/stock/11209083', 'title': '돌아온 외국인에 코스피 모처럼 ‘활짝’…코스닥 700선 탈환 - 매일경제'}, page_content='돌아온 외국인에 코스피 모처럼 ‘활짝’…코스닥 700선 탈환\\n\\n\\n\\n\\n\\n\\n뉴스 요약쏙\\n\\n\\n뉴스 요약쏙\\nAI 요약은 OpenAI의 최신 기술을 활용해 핵심 내용을 빠르고 정확하게 제공합니다. 전체 맥락을 이해하려면 기사 본문을 함께 확인하는 것이 좋습니다.\\n닫기'), Document(metadata={'description': '코스피가 외국인과 기관투자자의 쌍끌이 매수에 2440선을 회복했다. 코스닥 지수는 장중 2%대 상승하며 700선을 탈환했다. 3일 오전 11시 30분 현재 코스피는 전일 대비 45.76포인트(1.91%) 오른 2444.70을 가리키고 있다. 간밤 뉴욕증시는 약세로 마감했으나 국내 증시는 상승하는 모습이다. 지난 2일(현지시간) 뉴욕증시에서 다우지수는 전일 ', 'language': 'ko', 'source': 'https://www.mk.co.kr/news/stock/11209083', 'title': '돌아온 외국인에 코스피 모처럼 ‘활짝’…코스닥 700선 탈환 - 매일경제'}, page_content='있으며 운송장비(-0.38%)는 하락 중이다.코스피 시가총액 상위 10개 종목 가운데 기아(-1.48%)를 제외한 모든 종목에 빨간불이 켜졌다. 삼성전자(2.43%), SK하이닉스(5.67%), LG에너지솔루션(3.47%), 현대차(1.18%), KB금융(1.68%), 네이버(3.10%) 등이 강세다.같은 시각 코스닥 지수는 전일 대비 13.77포인트(2.01%) 오른 700.40을 가리키고 있다.지수가 장중 700선을 넘어선 것은 지난달 16일 이후 처음이다.코스닥 시장에서는 기관이 홀로 404억원어치 사들이고 있다. 외국인과'), Document(metadata={'description': '코스피가 외국인과 기관투자자의 쌍끌이 매수에 2440선을 회복했다. 코스닥 지수는 장중 2%대 상승하며 700선을 탈환했다. 3일 오전 11시 30분 현재 코스피는 전일 대비 45.76포인트(1.91%) 오른 2444.70을 가리키고 있다. 간밤 뉴욕증시는 약세로 마감했으나 국내 증시는 상승하는 모습이다. 지난 2일(현지시간) 뉴욕증시에서 다우지수는 전일 ', 'language': 'ko', 'source': 'https://www.mk.co.kr/news/stock/11209083', 'title': '돌아온 외국인에 코스피 모처럼 ‘활짝’…코스닥 700선 탈환 - 매일경제'}, page_content='있으며 운송장비(-0.38%)는 하락 중이다.코스피 시가총액 상위 10개 종목 가운데 기아(-1.48%)를 제외한 모든 종목에 빨간불이 켜졌다. 삼성전자(2.43%), SK하이닉스(5.67%), LG에너지솔루션(3.47%), 현대차(1.18%), KB금융(1.68%), 네이버(3.10%) 등이 강세다.같은 시각 코스닥 지수는 전일 대비 13.77포인트(2.01%) 오른 700.40을 가리키고 있다.지수가 장중 700선을 넘어선 것은 지난달 16일 이후 처음이다.코스닥 시장에서는 기관이 홀로 404억원어치 사들이고 있다. 외국인과')], 'question': '코스피와 코스닥에 대한 최근 이슈에 대한 인사이트를 작성해줘'}\n",
      "\n",
      "---\n",
      "\n",
      "[Graph Log] TRANSFORM QUERY ...\n",
      "Node 'improve_query' : '{'documents': [Document(metadata={'description': '코스피가 외국인과 기관투자자의 쌍끌이 매수에 2440선을 회복했다. 코스닥 지수는 장중 2%대 상승하며 700선을 탈환했다. 3일 오전 11시 30분 현재 코스피는 전일 대비 45.76포인트(1.91%) 오른 2444.70을 가리키고 있다. 간밤 뉴욕증시는 약세로 마감했으나 국내 증시는 상승하는 모습이다. 지난 2일(현지시간) 뉴욕증시에서 다우지수는 전일 ', 'language': 'ko', 'source': 'https://www.mk.co.kr/news/stock/11209083', 'title': '돌아온 외국인에 코스피 모처럼 ‘활짝’…코스닥 700선 탈환 - 매일경제'}, page_content='돌아온 외국인에 코스피 모처럼 ‘활짝’…코스닥 700선 탈환\\n\\n\\n\\n\\n\\n\\n뉴스 요약쏙\\n\\n\\n뉴스 요약쏙\\nAI 요약은 OpenAI의 최신 기술을 활용해 핵심 내용을 빠르고 정확하게 제공합니다. 전체 맥락을 이해하려면 기사 본문을 함께 확인하는 것이 좋습니다.\\n닫기'), Document(metadata={'description': '코스피가 외국인과 기관투자자의 쌍끌이 매수에 2440선을 회복했다. 코스닥 지수는 장중 2%대 상승하며 700선을 탈환했다. 3일 오전 11시 30분 현재 코스피는 전일 대비 45.76포인트(1.91%) 오른 2444.70을 가리키고 있다. 간밤 뉴욕증시는 약세로 마감했으나 국내 증시는 상승하는 모습이다. 지난 2일(현지시간) 뉴욕증시에서 다우지수는 전일 ', 'language': 'ko', 'source': 'https://www.mk.co.kr/news/stock/11209083', 'title': '돌아온 외국인에 코스피 모처럼 ‘활짝’…코스닥 700선 탈환 - 매일경제'}, page_content='돌아온 외국인에 코스피 모처럼 ‘활짝’…코스닥 700선 탈환\\n\\n\\n\\n\\n\\n\\n뉴스 요약쏙\\n\\n\\n뉴스 요약쏙\\nAI 요약은 OpenAI의 최신 기술을 활용해 핵심 내용을 빠르고 정확하게 제공합니다. 전체 맥락을 이해하려면 기사 본문을 함께 확인하는 것이 좋습니다.\\n닫기'), Document(metadata={'description': '코스피가 외국인과 기관투자자의 쌍끌이 매수에 2440선을 회복했다. 코스닥 지수는 장중 2%대 상승하며 700선을 탈환했다. 3일 오전 11시 30분 현재 코스피는 전일 대비 45.76포인트(1.91%) 오른 2444.70을 가리키고 있다. 간밤 뉴욕증시는 약세로 마감했으나 국내 증시는 상승하는 모습이다. 지난 2일(현지시간) 뉴욕증시에서 다우지수는 전일 ', 'language': 'ko', 'source': 'https://www.mk.co.kr/news/stock/11209083', 'title': '돌아온 외국인에 코스피 모처럼 ‘활짝’…코스닥 700선 탈환 - 매일경제'}, page_content='있으며 운송장비(-0.38%)는 하락 중이다.코스피 시가총액 상위 10개 종목 가운데 기아(-1.48%)를 제외한 모든 종목에 빨간불이 켜졌다. 삼성전자(2.43%), SK하이닉스(5.67%), LG에너지솔루션(3.47%), 현대차(1.18%), KB금융(1.68%), 네이버(3.10%) 등이 강세다.같은 시각 코스닥 지수는 전일 대비 13.77포인트(2.01%) 오른 700.40을 가리키고 있다.지수가 장중 700선을 넘어선 것은 지난달 16일 이후 처음이다.코스닥 시장에서는 기관이 홀로 404억원어치 사들이고 있다. 외국인과'), Document(metadata={'description': '코스피가 외국인과 기관투자자의 쌍끌이 매수에 2440선을 회복했다. 코스닥 지수는 장중 2%대 상승하며 700선을 탈환했다. 3일 오전 11시 30분 현재 코스피는 전일 대비 45.76포인트(1.91%) 오른 2444.70을 가리키고 있다. 간밤 뉴욕증시는 약세로 마감했으나 국내 증시는 상승하는 모습이다. 지난 2일(현지시간) 뉴욕증시에서 다우지수는 전일 ', 'language': 'ko', 'source': 'https://www.mk.co.kr/news/stock/11209083', 'title': '돌아온 외국인에 코스피 모처럼 ‘활짝’…코스닥 700선 탈환 - 매일경제'}, page_content='있으며 운송장비(-0.38%)는 하락 중이다.코스피 시가총액 상위 10개 종목 가운데 기아(-1.48%)를 제외한 모든 종목에 빨간불이 켜졌다. 삼성전자(2.43%), SK하이닉스(5.67%), LG에너지솔루션(3.47%), 현대차(1.18%), KB금융(1.68%), 네이버(3.10%) 등이 강세다.같은 시각 코스닥 지수는 전일 대비 13.77포인트(2.01%) 오른 700.40을 가리키고 있다.지수가 장중 700선을 넘어선 것은 지난달 16일 이후 처음이다.코스닥 시장에서는 기관이 홀로 404억원어치 사들이고 있다. 외국인과')], 'question': '최근 코스피와 코스닥의 주요 이슈 및 동향에 대한 인사이트를 제공해줄 수 있나요?'}\n",
      "\n",
      "---\n",
      "\n",
      "[Graph Log] WEB SEARCH ...\n",
      "Node 'web_search' : '{'documents': [Document(metadata={'description': '코스피가 외국인과 기관투자자의 쌍끌이 매수에 2440선을 회복했다. 코스닥 지수는 장중 2%대 상승하며 700선을 탈환했다. 3일 오전 11시 30분 현재 코스피는 전일 대비 45.76포인트(1.91%) 오른 2444.70을 가리키고 있다. 간밤 뉴욕증시는 약세로 마감했으나 국내 증시는 상승하는 모습이다. 지난 2일(현지시간) 뉴욕증시에서 다우지수는 전일 ', 'language': 'ko', 'source': 'https://www.mk.co.kr/news/stock/11209083', 'title': '돌아온 외국인에 코스피 모처럼 ‘활짝’…코스닥 700선 탈환 - 매일경제'}, page_content='돌아온 외국인에 코스피 모처럼 ‘활짝’…코스닥 700선 탈환\\n\\n\\n\\n\\n\\n\\n뉴스 요약쏙\\n\\n\\n뉴스 요약쏙\\nAI 요약은 OpenAI의 최신 기술을 활용해 핵심 내용을 빠르고 정확하게 제공합니다. 전체 맥락을 이해하려면 기사 본문을 함께 확인하는 것이 좋습니다.\\n닫기'), Document(metadata={'description': '코스피가 외국인과 기관투자자의 쌍끌이 매수에 2440선을 회복했다. 코스닥 지수는 장중 2%대 상승하며 700선을 탈환했다. 3일 오전 11시 30분 현재 코스피는 전일 대비 45.76포인트(1.91%) 오른 2444.70을 가리키고 있다. 간밤 뉴욕증시는 약세로 마감했으나 국내 증시는 상승하는 모습이다. 지난 2일(현지시간) 뉴욕증시에서 다우지수는 전일 ', 'language': 'ko', 'source': 'https://www.mk.co.kr/news/stock/11209083', 'title': '돌아온 외국인에 코스피 모처럼 ‘활짝’…코스닥 700선 탈환 - 매일경제'}, page_content='돌아온 외국인에 코스피 모처럼 ‘활짝’…코스닥 700선 탈환\\n\\n\\n\\n\\n\\n\\n뉴스 요약쏙\\n\\n\\n뉴스 요약쏙\\nAI 요약은 OpenAI의 최신 기술을 활용해 핵심 내용을 빠르고 정확하게 제공합니다. 전체 맥락을 이해하려면 기사 본문을 함께 확인하는 것이 좋습니다.\\n닫기'), Document(metadata={'description': '코스피가 외국인과 기관투자자의 쌍끌이 매수에 2440선을 회복했다. 코스닥 지수는 장중 2%대 상승하며 700선을 탈환했다. 3일 오전 11시 30분 현재 코스피는 전일 대비 45.76포인트(1.91%) 오른 2444.70을 가리키고 있다. 간밤 뉴욕증시는 약세로 마감했으나 국내 증시는 상승하는 모습이다. 지난 2일(현지시간) 뉴욕증시에서 다우지수는 전일 ', 'language': 'ko', 'source': 'https://www.mk.co.kr/news/stock/11209083', 'title': '돌아온 외국인에 코스피 모처럼 ‘활짝’…코스닥 700선 탈환 - 매일경제'}, page_content='있으며 운송장비(-0.38%)는 하락 중이다.코스피 시가총액 상위 10개 종목 가운데 기아(-1.48%)를 제외한 모든 종목에 빨간불이 켜졌다. 삼성전자(2.43%), SK하이닉스(5.67%), LG에너지솔루션(3.47%), 현대차(1.18%), KB금융(1.68%), 네이버(3.10%) 등이 강세다.같은 시각 코스닥 지수는 전일 대비 13.77포인트(2.01%) 오른 700.40을 가리키고 있다.지수가 장중 700선을 넘어선 것은 지난달 16일 이후 처음이다.코스닥 시장에서는 기관이 홀로 404억원어치 사들이고 있다. 외국인과'), Document(metadata={'description': '코스피가 외국인과 기관투자자의 쌍끌이 매수에 2440선을 회복했다. 코스닥 지수는 장중 2%대 상승하며 700선을 탈환했다. 3일 오전 11시 30분 현재 코스피는 전일 대비 45.76포인트(1.91%) 오른 2444.70을 가리키고 있다. 간밤 뉴욕증시는 약세로 마감했으나 국내 증시는 상승하는 모습이다. 지난 2일(현지시간) 뉴욕증시에서 다우지수는 전일 ', 'language': 'ko', 'source': 'https://www.mk.co.kr/news/stock/11209083', 'title': '돌아온 외국인에 코스피 모처럼 ‘활짝’…코스닥 700선 탈환 - 매일경제'}, page_content='있으며 운송장비(-0.38%)는 하락 중이다.코스피 시가총액 상위 10개 종목 가운데 기아(-1.48%)를 제외한 모든 종목에 빨간불이 켜졌다. 삼성전자(2.43%), SK하이닉스(5.67%), LG에너지솔루션(3.47%), 현대차(1.18%), KB금융(1.68%), 네이버(3.10%) 등이 강세다.같은 시각 코스닥 지수는 전일 대비 13.77포인트(2.01%) 오른 700.40을 가리키고 있다.지수가 장중 700선을 넘어선 것은 지난달 16일 이후 처음이다.코스닥 시장에서는 기관이 홀로 404억원어치 사들이고 있다. 외국인과'), Document(metadata={}, page_content='한국 주식 시장에서 코스닥과 코스피가 최근 상승세를 보이며 주목받고 있습니다. 이에 대한 상세한 분석과 투자 전망을 살펴보겠습니다. ... 주요 기업 및 업종 분석 ... 윤대통령 공매도 금지 발표에 대한 최신 뉴스 및 이슈.\\n- 코스피코스닥 향후 전망 및 투자 기회 - 최근 코스피와 코스닥은 경기 회복세에 힘입어 긍정적인 상승세를 보이고 있습니다.이러한 분위기는 투자자들의 신뢰도를 높이고 있으며, 앞으로의 시장은 더욱 활기를 띨 것으로 예상됩니다. - 특히 it 및 배터리 관련 주식들이 두각을 나타내며, 성장\\n블로그 내 검색 검색 코스피는 Korea Composite Stock Price Index의 약자로, 한국거래소에 상장된 대기업 중심의 주식시장을 의미합니다. 코스닥은 Korea Securities Dealers Automated Quotations의 약자로, 미국의 나스닥(NASDAQ)을 모델로 만들어졌어요. 🔍 코스피와 코스닥의 차이점 한눈에 보기! 🧐 주목해야 할 포인트는? 환율은 수출입 기업 및 투자자들에게 중요한 변수로, 글로벌 경제 동향을 함께 체크하는 것이 중요합니다! 코스피와 코스닥은 한국 경제를 대표하는 양대 주식시장으로, 각각의 특성과 투자 전략이 다릅니다. 경제에 관심 있다면 꼭 알아야 할 정보!📊✨\\xa0\\xa0(0)   2024.12.16 경제에 관심 있다면 꼭 알아야 할 정보!📊✨ 젠슨 황의 양자컴퓨터 관련 발언 💬 번역 코인시세 블록체인 금리 리플 경제 일본 XRP ETF 시장 기술 금융 관세 투자 경제기초 크립토 암호화폐 AI 주식 트럼프 코인전망 비트코인 국제 부동산 코인 업비트 경제용어 달러 한국 물가 미국\\n코스피와 코스닥의 오늘 증시 분석 및 전망 achromatic0912 님의 블로그 achromatic0912 님의 블로그 재테크(주식,코인,부동산,경제) achromatic0912 님의 블로그 2025년 리얼티인컴 (O) 주가 전망 및 배당수익률 ⋯ 코스피와 코스닥의 오늘 증시 분석 및 전망2024. 5. 22:15ㆍ재테크(주식,코인,부동산,경제) 코스피와 코스닥의 오늘 증시 분석 및 전망 코스피와 코스닥의 오늘 증시 분석 및 전망 투자자들은 배당주와 방어주 중심의 포트폴리오를 구성하는 동시에, 2차 전지 및 AI 관련주와 같은 성장주에 대한 분산 투자를 고려할 필요가 있습니다. achromatic0912 님의 블로그 \\'재테크(주식,코인,부동산,경제)\\' 카테고리의 다른 글 글로벌 경제 불확실성에 따른 주식시장 대응 전략\\xa0\\xa0(2)2024.12.05AI와 머신러닝 기술의 주식시장에 미치는 영향\\xa0\\xa0(0)2024.12.05반도체 산업의 현황과 미래 전망\\xa0\\xa0(0)2024.12.05금리 인상이 국내외 주식시장에 미치는 영향\\xa0\\xa0(1)2024.12.05미국 주식시장의 오늘 동향과 주요 종목 분석\\xa0\\xa0(1)2024.12.05 금리 인상이 국내외 주식시장에 미치는 영향 2024.12.05 미국 주식시장의 오늘 동향과 주요 종목 분석 2024.12.05\\n코스피 및 코스닥 지수 주요 동향과 기업 실적 분석 주가 상승 및 하락 종목 분석 전작 대비 데이터 전송 속도 및 읽기 성능 향상 분석 코스피 및 코스닥 주요 기업 실적과 전망 - 신규 종목 편입 전망 및 투자 전략 주가 상승 및 하락 종목 분석 전작 대비 데이터 전송 속도 및 읽기 성능 향상 분석 321단 1tb 낸드 플래시의 개발로 인해 기존 세대 대비 데이터 전송 속도 및 읽기 성능이 현저히 향상되었습니다. sk하이닉스의 321단 1tb 낸드 플래시는 혁신적인 기술을 적용하여 데이터 전송 속도와 읽기 성능이 업그레이드 되었습니다. 코스피 및 코스닥 주요 기업 실적과 전망 신규 종목 편입 전망 및 투자 전략 \"외국인과 기관의 매매 흐름, 신규 종목 편입 등 다양한 요소들을 종합적으로 고려하여 투자 전략을 수립하는 것이 중요하다.\"')], 'question': '최근 코스피와 코스닥의 주요 이슈 및 동향에 대한 인사이트를 제공해줄 수 있나요?'}\n",
      "\n",
      "---\n",
      "\n",
      "[Graph Log] RETRIEVE ...\n",
      "Node 'retriever' : '{'documents': [Document(metadata={'description': '코스피가 외국인과 기관투자자의 쌍끌이 매수에 2440선을 회복했다. 코스닥 지수는 장중 2%대 상승하며 700선을 탈환했다. 3일 오전 11시 30분 현재 코스피는 전일 대비 45.76포인트(1.91%) 오른 2444.70을 가리키고 있다. 간밤 뉴욕증시는 약세로 마감했으나 국내 증시는 상승하는 모습이다. 지난 2일(현지시간) 뉴욕증시에서 다우지수는 전일 ', 'language': 'ko', 'source': 'https://www.mk.co.kr/news/stock/11209083', 'title': '돌아온 외국인에 코스피 모처럼 ‘활짝’…코스닥 700선 탈환 - 매일경제'}, page_content='돌아온 외국인에 코스피 모처럼 ‘활짝’…코스닥 700선 탈환\\n\\n\\n\\n\\n\\n\\n뉴스 요약쏙\\n\\n\\n뉴스 요약쏙\\nAI 요약은 OpenAI의 최신 기술을 활용해 핵심 내용을 빠르고 정확하게 제공합니다. 전체 맥락을 이해하려면 기사 본문을 함께 확인하는 것이 좋습니다.\\n닫기'), Document(metadata={'description': '코스피가 외국인과 기관투자자의 쌍끌이 매수에 2440선을 회복했다. 코스닥 지수는 장중 2%대 상승하며 700선을 탈환했다. 3일 오전 11시 30분 현재 코스피는 전일 대비 45.76포인트(1.91%) 오른 2444.70을 가리키고 있다. 간밤 뉴욕증시는 약세로 마감했으나 국내 증시는 상승하는 모습이다. 지난 2일(현지시간) 뉴욕증시에서 다우지수는 전일 ', 'language': 'ko', 'source': 'https://www.mk.co.kr/news/stock/11209083', 'title': '돌아온 외국인에 코스피 모처럼 ‘활짝’…코스닥 700선 탈환 - 매일경제'}, page_content='돌아온 외국인에 코스피 모처럼 ‘활짝’…코스닥 700선 탈환\\n\\n\\n\\n\\n\\n\\n뉴스 요약쏙\\n\\n\\n뉴스 요약쏙\\nAI 요약은 OpenAI의 최신 기술을 활용해 핵심 내용을 빠르고 정확하게 제공합니다. 전체 맥락을 이해하려면 기사 본문을 함께 확인하는 것이 좋습니다.\\n닫기'), Document(metadata={'description': '코스피가 외국인과 기관투자자의 쌍끌이 매수에 2440선을 회복했다. 코스닥 지수는 장중 2%대 상승하며 700선을 탈환했다. 3일 오전 11시 30분 현재 코스피는 전일 대비 45.76포인트(1.91%) 오른 2444.70을 가리키고 있다. 간밤 뉴욕증시는 약세로 마감했으나 국내 증시는 상승하는 모습이다. 지난 2일(현지시간) 뉴욕증시에서 다우지수는 전일 ', 'language': 'ko', 'source': 'https://www.mk.co.kr/news/stock/11209083', 'title': '돌아온 외국인에 코스피 모처럼 ‘활짝’…코스닥 700선 탈환 - 매일경제'}, page_content='있으며 운송장비(-0.38%)는 하락 중이다.코스피 시가총액 상위 10개 종목 가운데 기아(-1.48%)를 제외한 모든 종목에 빨간불이 켜졌다. 삼성전자(2.43%), SK하이닉스(5.67%), LG에너지솔루션(3.47%), 현대차(1.18%), KB금융(1.68%), 네이버(3.10%) 등이 강세다.같은 시각 코스닥 지수는 전일 대비 13.77포인트(2.01%) 오른 700.40을 가리키고 있다.지수가 장중 700선을 넘어선 것은 지난달 16일 이후 처음이다.코스닥 시장에서는 기관이 홀로 404억원어치 사들이고 있다. 외국인과'), Document(metadata={'description': '코스피가 외국인과 기관투자자의 쌍끌이 매수에 2440선을 회복했다. 코스닥 지수는 장중 2%대 상승하며 700선을 탈환했다. 3일 오전 11시 30분 현재 코스피는 전일 대비 45.76포인트(1.91%) 오른 2444.70을 가리키고 있다. 간밤 뉴욕증시는 약세로 마감했으나 국내 증시는 상승하는 모습이다. 지난 2일(현지시간) 뉴욕증시에서 다우지수는 전일 ', 'language': 'ko', 'source': 'https://www.mk.co.kr/news/stock/11209083', 'title': '돌아온 외국인에 코스피 모처럼 ‘활짝’…코스닥 700선 탈환 - 매일경제'}, page_content='있으며 운송장비(-0.38%)는 하락 중이다.코스피 시가총액 상위 10개 종목 가운데 기아(-1.48%)를 제외한 모든 종목에 빨간불이 켜졌다. 삼성전자(2.43%), SK하이닉스(5.67%), LG에너지솔루션(3.47%), 현대차(1.18%), KB금융(1.68%), 네이버(3.10%) 등이 강세다.같은 시각 코스닥 지수는 전일 대비 13.77포인트(2.01%) 오른 700.40을 가리키고 있다.지수가 장중 700선을 넘어선 것은 지난달 16일 이후 처음이다.코스닥 시장에서는 기관이 홀로 404억원어치 사들이고 있다. 외국인과'), Document(metadata={}, page_content='한국 주식 시장에서 코스닥과 코스피가 최근 상승세를 보이며 주목받고 있습니다. 이에 대한 상세한 분석과 투자 전망을 살펴보겠습니다. ... 주요 기업 및 업종 분석 ... 윤대통령 공매도 금지 발표에 대한 최신 뉴스 및 이슈.\\n- 코스피코스닥 향후 전망 및 투자 기회 - 최근 코스피와 코스닥은 경기 회복세에 힘입어 긍정적인 상승세를 보이고 있습니다.이러한 분위기는 투자자들의 신뢰도를 높이고 있으며, 앞으로의 시장은 더욱 활기를 띨 것으로 예상됩니다. - 특히 it 및 배터리 관련 주식들이 두각을 나타내며, 성장\\n블로그 내 검색 검색 코스피는 Korea Composite Stock Price Index의 약자로, 한국거래소에 상장된 대기업 중심의 주식시장을 의미합니다. 코스닥은 Korea Securities Dealers Automated Quotations의 약자로, 미국의 나스닥(NASDAQ)을 모델로 만들어졌어요. 🔍 코스피와 코스닥의 차이점 한눈에 보기! 🧐 주목해야 할 포인트는? 환율은 수출입 기업 및 투자자들에게 중요한 변수로, 글로벌 경제 동향을 함께 체크하는 것이 중요합니다! 코스피와 코스닥은 한국 경제를 대표하는 양대 주식시장으로, 각각의 특성과 투자 전략이 다릅니다. 경제에 관심 있다면 꼭 알아야 할 정보!📊✨\\xa0\\xa0(0)   2024.12.16 경제에 관심 있다면 꼭 알아야 할 정보!📊✨ 젠슨 황의 양자컴퓨터 관련 발언 💬 번역 코인시세 블록체인 금리 리플 경제 일본 XRP ETF 시장 기술 금융 관세 투자 경제기초 크립토 암호화폐 AI 주식 트럼프 코인전망 비트코인 국제 부동산 코인 업비트 경제용어 달러 한국 물가 미국\\n코스피와 코스닥의 오늘 증시 분석 및 전망 achromatic0912 님의 블로그 achromatic0912 님의 블로그 재테크(주식,코인,부동산,경제) achromatic0912 님의 블로그 2025년 리얼티인컴 (O) 주가 전망 및 배당수익률 ⋯ 코스피와 코스닥의 오늘 증시 분석 및 전망2024. 5. 22:15ㆍ재테크(주식,코인,부동산,경제) 코스피와 코스닥의 오늘 증시 분석 및 전망 코스피와 코스닥의 오늘 증시 분석 및 전망 투자자들은 배당주와 방어주 중심의 포트폴리오를 구성하는 동시에, 2차 전지 및 AI 관련주와 같은 성장주에 대한 분산 투자를 고려할 필요가 있습니다. achromatic0912 님의 블로그 \\'재테크(주식,코인,부동산,경제)\\' 카테고리의 다른 글 글로벌 경제 불확실성에 따른 주식시장 대응 전략\\xa0\\xa0(2)2024.12.05AI와 머신러닝 기술의 주식시장에 미치는 영향\\xa0\\xa0(0)2024.12.05반도체 산업의 현황과 미래 전망\\xa0\\xa0(0)2024.12.05금리 인상이 국내외 주식시장에 미치는 영향\\xa0\\xa0(1)2024.12.05미국 주식시장의 오늘 동향과 주요 종목 분석\\xa0\\xa0(1)2024.12.05 금리 인상이 국내외 주식시장에 미치는 영향 2024.12.05 미국 주식시장의 오늘 동향과 주요 종목 분석 2024.12.05\\n코스피 및 코스닥 지수 주요 동향과 기업 실적 분석 주가 상승 및 하락 종목 분석 전작 대비 데이터 전송 속도 및 읽기 성능 향상 분석 코스피 및 코스닥 주요 기업 실적과 전망 - 신규 종목 편입 전망 및 투자 전략 주가 상승 및 하락 종목 분석 전작 대비 데이터 전송 속도 및 읽기 성능 향상 분석 321단 1tb 낸드 플래시의 개발로 인해 기존 세대 대비 데이터 전송 속도 및 읽기 성능이 현저히 향상되었습니다. sk하이닉스의 321단 1tb 낸드 플래시는 혁신적인 기술을 적용하여 데이터 전송 속도와 읽기 성능이 업그레이드 되었습니다. 코스피 및 코스닥 주요 기업 실적과 전망 신규 종목 편입 전망 및 투자 전략 \"외국인과 기관의 매매 흐름, 신규 종목 편입 등 다양한 요소들을 종합적으로 고려하여 투자 전략을 수립하는 것이 중요하다.\"'), Document(metadata={'description': '코스피가 외국인과 기관투자자의 쌍끌이 매수에 2440선을 회복했다. 코스닥 지수는 장중 2%대 상승하며 700선을 탈환했다. 3일 오전 11시 30분 현재 코스피는 전일 대비 45.76포인트(1.91%) 오른 2444.70을 가리키고 있다. 간밤 뉴욕증시는 약세로 마감했으나 국내 증시는 상승하는 모습이다. 지난 2일(현지시간) 뉴욕증시에서 다우지수는 전일 ', 'language': 'ko', 'source': 'https://www.mk.co.kr/news/stock/11209083', 'title': '돌아온 외국인에 코스피 모처럼 ‘활짝’…코스닥 700선 탈환 - 매일경제'}, page_content='있으며 운송장비(-0.38%)는 하락 중이다.코스피 시가총액 상위 10개 종목 가운데 기아(-1.48%)를 제외한 모든 종목에 빨간불이 켜졌다. 삼성전자(2.43%), SK하이닉스(5.67%), LG에너지솔루션(3.47%), 현대차(1.18%), KB금융(1.68%), 네이버(3.10%) 등이 강세다.같은 시각 코스닥 지수는 전일 대비 13.77포인트(2.01%) 오른 700.40을 가리키고 있다.지수가 장중 700선을 넘어선 것은 지난달 16일 이후 처음이다.코스닥 시장에서는 기관이 홀로 404억원어치 사들이고 있다. 외국인과'), Document(metadata={'description': '코스피가 외국인과 기관투자자의 쌍끌이 매수에 2440선을 회복했다. 코스닥 지수는 장중 2%대 상승하며 700선을 탈환했다. 3일 오전 11시 30분 현재 코스피는 전일 대비 45.76포인트(1.91%) 오른 2444.70을 가리키고 있다. 간밤 뉴욕증시는 약세로 마감했으나 국내 증시는 상승하는 모습이다. 지난 2일(현지시간) 뉴욕증시에서 다우지수는 전일 ', 'language': 'ko', 'source': 'https://www.mk.co.kr/news/stock/11209083', 'title': '돌아온 외국인에 코스피 모처럼 ‘활짝’…코스닥 700선 탈환 - 매일경제'}, page_content='있으며 운송장비(-0.38%)는 하락 중이다.코스피 시가총액 상위 10개 종목 가운데 기아(-1.48%)를 제외한 모든 종목에 빨간불이 켜졌다. 삼성전자(2.43%), SK하이닉스(5.67%), LG에너지솔루션(3.47%), 현대차(1.18%), KB금융(1.68%), 네이버(3.10%) 등이 강세다.같은 시각 코스닥 지수는 전일 대비 13.77포인트(2.01%) 오른 700.40을 가리키고 있다.지수가 장중 700선을 넘어선 것은 지난달 16일 이후 처음이다.코스닥 시장에서는 기관이 홀로 404억원어치 사들이고 있다. 외국인과'), Document(metadata={'description': '코스피가 외국인과 기관투자자의 쌍끌이 매수에 2440선을 회복했다. 코스닥 지수는 장중 2%대 상승하며 700선을 탈환했다. 3일 오전 11시 30분 현재 코스피는 전일 대비 45.76포인트(1.91%) 오른 2444.70을 가리키고 있다. 간밤 뉴욕증시는 약세로 마감했으나 국내 증시는 상승하는 모습이다. 지난 2일(현지시간) 뉴욕증시에서 다우지수는 전일 ', 'language': 'ko', 'source': 'https://www.mk.co.kr/news/stock/11209083', 'title': '돌아온 외국인에 코스피 모처럼 ‘활짝’…코스닥 700선 탈환 - 매일경제'}, page_content='돌아온 외국인에 코스피 모처럼 ‘활짝’…코스닥 700선 탈환\\n\\n\\n\\n\\n\\n\\n뉴스 요약쏙\\n\\n\\n뉴스 요약쏙\\nAI 요약은 OpenAI의 최신 기술을 활용해 핵심 내용을 빠르고 정확하게 제공합니다. 전체 맥락을 이해하려면 기사 본문을 함께 확인하는 것이 좋습니다.\\n닫기'), Document(metadata={'description': '코스피가 외국인과 기관투자자의 쌍끌이 매수에 2440선을 회복했다. 코스닥 지수는 장중 2%대 상승하며 700선을 탈환했다. 3일 오전 11시 30분 현재 코스피는 전일 대비 45.76포인트(1.91%) 오른 2444.70을 가리키고 있다. 간밤 뉴욕증시는 약세로 마감했으나 국내 증시는 상승하는 모습이다. 지난 2일(현지시간) 뉴욕증시에서 다우지수는 전일 ', 'language': 'ko', 'source': 'https://www.mk.co.kr/news/stock/11209083', 'title': '돌아온 외국인에 코스피 모처럼 ‘활짝’…코스닥 700선 탈환 - 매일경제'}, page_content='돌아온 외국인에 코스피 모처럼 ‘활짝’…코스닥 700선 탈환\\n\\n\\n\\n\\n\\n\\n뉴스 요약쏙\\n\\n\\n뉴스 요약쏙\\nAI 요약은 OpenAI의 최신 기술을 활용해 핵심 내용을 빠르고 정확하게 제공합니다. 전체 맥락을 이해하려면 기사 본문을 함께 확인하는 것이 좋습니다.\\n닫기')], 'question': '최근 코스피와 코스닥의 주요 이슈 및 동향에 대한 인사이트를 제공해줄 수 있나요?'}\n",
      "\n",
      "---\n",
      "\n",
      "[Graph Log] FILTER DOCUMENTS ...\n",
      "[Relevance Grader Log] GRADE : DOCUMENT RELEVANT\n",
      "[Relevance Grader Log] GRADE : DOCUMENT RELEVANT\n",
      "[Relevance Grader Log] GRADE : DOCUMENT RELEVANT\n",
      "[Relevance Grader Log] GRADE : DOCUMENT RELEVANT\n",
      "[Relevance Grader Log] GRADE : DOCUMENT RELEVANT\n",
      "[Relevance Grader Log] GRADE : DOCUMENT RELEVANT\n",
      "[Relevance Grader Log] GRADE : DOCUMENT RELEVANT\n",
      "[Relevance Grader Log] GRADE : DOCUMENT RELEVANT\n",
      "[Relevance Grader Log] GRADE : DOCUMENT RELEVANT\n",
      "[Graph Log] DETERMINES 'WRITE' OR 'REWRITE QUESTION' ...\n",
      "[Graph Log] DECISION : WRITE\n",
      "Node 'filter_documents' : '{'documents': [Document(metadata={'description': '코스피가 외국인과 기관투자자의 쌍끌이 매수에 2440선을 회복했다. 코스닥 지수는 장중 2%대 상승하며 700선을 탈환했다. 3일 오전 11시 30분 현재 코스피는 전일 대비 45.76포인트(1.91%) 오른 2444.70을 가리키고 있다. 간밤 뉴욕증시는 약세로 마감했으나 국내 증시는 상승하는 모습이다. 지난 2일(현지시간) 뉴욕증시에서 다우지수는 전일 ', 'language': 'ko', 'source': 'https://www.mk.co.kr/news/stock/11209083', 'title': '돌아온 외국인에 코스피 모처럼 ‘활짝’…코스닥 700선 탈환 - 매일경제'}, page_content='돌아온 외국인에 코스피 모처럼 ‘활짝’…코스닥 700선 탈환\\n\\n\\n\\n\\n\\n\\n뉴스 요약쏙\\n\\n\\n뉴스 요약쏙\\nAI 요약은 OpenAI의 최신 기술을 활용해 핵심 내용을 빠르고 정확하게 제공합니다. 전체 맥락을 이해하려면 기사 본문을 함께 확인하는 것이 좋습니다.\\n닫기'), Document(metadata={'description': '코스피가 외국인과 기관투자자의 쌍끌이 매수에 2440선을 회복했다. 코스닥 지수는 장중 2%대 상승하며 700선을 탈환했다. 3일 오전 11시 30분 현재 코스피는 전일 대비 45.76포인트(1.91%) 오른 2444.70을 가리키고 있다. 간밤 뉴욕증시는 약세로 마감했으나 국내 증시는 상승하는 모습이다. 지난 2일(현지시간) 뉴욕증시에서 다우지수는 전일 ', 'language': 'ko', 'source': 'https://www.mk.co.kr/news/stock/11209083', 'title': '돌아온 외국인에 코스피 모처럼 ‘활짝’…코스닥 700선 탈환 - 매일경제'}, page_content='돌아온 외국인에 코스피 모처럼 ‘활짝’…코스닥 700선 탈환\\n\\n\\n\\n\\n\\n\\n뉴스 요약쏙\\n\\n\\n뉴스 요약쏙\\nAI 요약은 OpenAI의 최신 기술을 활용해 핵심 내용을 빠르고 정확하게 제공합니다. 전체 맥락을 이해하려면 기사 본문을 함께 확인하는 것이 좋습니다.\\n닫기'), Document(metadata={'description': '코스피가 외국인과 기관투자자의 쌍끌이 매수에 2440선을 회복했다. 코스닥 지수는 장중 2%대 상승하며 700선을 탈환했다. 3일 오전 11시 30분 현재 코스피는 전일 대비 45.76포인트(1.91%) 오른 2444.70을 가리키고 있다. 간밤 뉴욕증시는 약세로 마감했으나 국내 증시는 상승하는 모습이다. 지난 2일(현지시간) 뉴욕증시에서 다우지수는 전일 ', 'language': 'ko', 'source': 'https://www.mk.co.kr/news/stock/11209083', 'title': '돌아온 외국인에 코스피 모처럼 ‘활짝’…코스닥 700선 탈환 - 매일경제'}, page_content='있으며 운송장비(-0.38%)는 하락 중이다.코스피 시가총액 상위 10개 종목 가운데 기아(-1.48%)를 제외한 모든 종목에 빨간불이 켜졌다. 삼성전자(2.43%), SK하이닉스(5.67%), LG에너지솔루션(3.47%), 현대차(1.18%), KB금융(1.68%), 네이버(3.10%) 등이 강세다.같은 시각 코스닥 지수는 전일 대비 13.77포인트(2.01%) 오른 700.40을 가리키고 있다.지수가 장중 700선을 넘어선 것은 지난달 16일 이후 처음이다.코스닥 시장에서는 기관이 홀로 404억원어치 사들이고 있다. 외국인과'), Document(metadata={'description': '코스피가 외국인과 기관투자자의 쌍끌이 매수에 2440선을 회복했다. 코스닥 지수는 장중 2%대 상승하며 700선을 탈환했다. 3일 오전 11시 30분 현재 코스피는 전일 대비 45.76포인트(1.91%) 오른 2444.70을 가리키고 있다. 간밤 뉴욕증시는 약세로 마감했으나 국내 증시는 상승하는 모습이다. 지난 2일(현지시간) 뉴욕증시에서 다우지수는 전일 ', 'language': 'ko', 'source': 'https://www.mk.co.kr/news/stock/11209083', 'title': '돌아온 외국인에 코스피 모처럼 ‘활짝’…코스닥 700선 탈환 - 매일경제'}, page_content='있으며 운송장비(-0.38%)는 하락 중이다.코스피 시가총액 상위 10개 종목 가운데 기아(-1.48%)를 제외한 모든 종목에 빨간불이 켜졌다. 삼성전자(2.43%), SK하이닉스(5.67%), LG에너지솔루션(3.47%), 현대차(1.18%), KB금융(1.68%), 네이버(3.10%) 등이 강세다.같은 시각 코스닥 지수는 전일 대비 13.77포인트(2.01%) 오른 700.40을 가리키고 있다.지수가 장중 700선을 넘어선 것은 지난달 16일 이후 처음이다.코스닥 시장에서는 기관이 홀로 404억원어치 사들이고 있다. 외국인과'), Document(metadata={}, page_content='한국 주식 시장에서 코스닥과 코스피가 최근 상승세를 보이며 주목받고 있습니다. 이에 대한 상세한 분석과 투자 전망을 살펴보겠습니다. ... 주요 기업 및 업종 분석 ... 윤대통령 공매도 금지 발표에 대한 최신 뉴스 및 이슈.\\n- 코스피코스닥 향후 전망 및 투자 기회 - 최근 코스피와 코스닥은 경기 회복세에 힘입어 긍정적인 상승세를 보이고 있습니다.이러한 분위기는 투자자들의 신뢰도를 높이고 있으며, 앞으로의 시장은 더욱 활기를 띨 것으로 예상됩니다. - 특히 it 및 배터리 관련 주식들이 두각을 나타내며, 성장\\n블로그 내 검색 검색 코스피는 Korea Composite Stock Price Index의 약자로, 한국거래소에 상장된 대기업 중심의 주식시장을 의미합니다. 코스닥은 Korea Securities Dealers Automated Quotations의 약자로, 미국의 나스닥(NASDAQ)을 모델로 만들어졌어요. 🔍 코스피와 코스닥의 차이점 한눈에 보기! 🧐 주목해야 할 포인트는? 환율은 수출입 기업 및 투자자들에게 중요한 변수로, 글로벌 경제 동향을 함께 체크하는 것이 중요합니다! 코스피와 코스닥은 한국 경제를 대표하는 양대 주식시장으로, 각각의 특성과 투자 전략이 다릅니다. 경제에 관심 있다면 꼭 알아야 할 정보!📊✨\\xa0\\xa0(0)   2024.12.16 경제에 관심 있다면 꼭 알아야 할 정보!📊✨ 젠슨 황의 양자컴퓨터 관련 발언 💬 번역 코인시세 블록체인 금리 리플 경제 일본 XRP ETF 시장 기술 금융 관세 투자 경제기초 크립토 암호화폐 AI 주식 트럼프 코인전망 비트코인 국제 부동산 코인 업비트 경제용어 달러 한국 물가 미국\\n코스피와 코스닥의 오늘 증시 분석 및 전망 achromatic0912 님의 블로그 achromatic0912 님의 블로그 재테크(주식,코인,부동산,경제) achromatic0912 님의 블로그 2025년 리얼티인컴 (O) 주가 전망 및 배당수익률 ⋯ 코스피와 코스닥의 오늘 증시 분석 및 전망2024. 5. 22:15ㆍ재테크(주식,코인,부동산,경제) 코스피와 코스닥의 오늘 증시 분석 및 전망 코스피와 코스닥의 오늘 증시 분석 및 전망 투자자들은 배당주와 방어주 중심의 포트폴리오를 구성하는 동시에, 2차 전지 및 AI 관련주와 같은 성장주에 대한 분산 투자를 고려할 필요가 있습니다. achromatic0912 님의 블로그 \\'재테크(주식,코인,부동산,경제)\\' 카테고리의 다른 글 글로벌 경제 불확실성에 따른 주식시장 대응 전략\\xa0\\xa0(2)2024.12.05AI와 머신러닝 기술의 주식시장에 미치는 영향\\xa0\\xa0(0)2024.12.05반도체 산업의 현황과 미래 전망\\xa0\\xa0(0)2024.12.05금리 인상이 국내외 주식시장에 미치는 영향\\xa0\\xa0(1)2024.12.05미국 주식시장의 오늘 동향과 주요 종목 분석\\xa0\\xa0(1)2024.12.05 금리 인상이 국내외 주식시장에 미치는 영향 2024.12.05 미국 주식시장의 오늘 동향과 주요 종목 분석 2024.12.05\\n코스피 및 코스닥 지수 주요 동향과 기업 실적 분석 주가 상승 및 하락 종목 분석 전작 대비 데이터 전송 속도 및 읽기 성능 향상 분석 코스피 및 코스닥 주요 기업 실적과 전망 - 신규 종목 편입 전망 및 투자 전략 주가 상승 및 하락 종목 분석 전작 대비 데이터 전송 속도 및 읽기 성능 향상 분석 321단 1tb 낸드 플래시의 개발로 인해 기존 세대 대비 데이터 전송 속도 및 읽기 성능이 현저히 향상되었습니다. sk하이닉스의 321단 1tb 낸드 플래시는 혁신적인 기술을 적용하여 데이터 전송 속도와 읽기 성능이 업그레이드 되었습니다. 코스피 및 코스닥 주요 기업 실적과 전망 신규 종목 편입 전망 및 투자 전략 \"외국인과 기관의 매매 흐름, 신규 종목 편입 등 다양한 요소들을 종합적으로 고려하여 투자 전략을 수립하는 것이 중요하다.\"'), Document(metadata={'description': '코스피가 외국인과 기관투자자의 쌍끌이 매수에 2440선을 회복했다. 코스닥 지수는 장중 2%대 상승하며 700선을 탈환했다. 3일 오전 11시 30분 현재 코스피는 전일 대비 45.76포인트(1.91%) 오른 2444.70을 가리키고 있다. 간밤 뉴욕증시는 약세로 마감했으나 국내 증시는 상승하는 모습이다. 지난 2일(현지시간) 뉴욕증시에서 다우지수는 전일 ', 'language': 'ko', 'source': 'https://www.mk.co.kr/news/stock/11209083', 'title': '돌아온 외국인에 코스피 모처럼 ‘활짝’…코스닥 700선 탈환 - 매일경제'}, page_content='있으며 운송장비(-0.38%)는 하락 중이다.코스피 시가총액 상위 10개 종목 가운데 기아(-1.48%)를 제외한 모든 종목에 빨간불이 켜졌다. 삼성전자(2.43%), SK하이닉스(5.67%), LG에너지솔루션(3.47%), 현대차(1.18%), KB금융(1.68%), 네이버(3.10%) 등이 강세다.같은 시각 코스닥 지수는 전일 대비 13.77포인트(2.01%) 오른 700.40을 가리키고 있다.지수가 장중 700선을 넘어선 것은 지난달 16일 이후 처음이다.코스닥 시장에서는 기관이 홀로 404억원어치 사들이고 있다. 외국인과'), Document(metadata={'description': '코스피가 외국인과 기관투자자의 쌍끌이 매수에 2440선을 회복했다. 코스닥 지수는 장중 2%대 상승하며 700선을 탈환했다. 3일 오전 11시 30분 현재 코스피는 전일 대비 45.76포인트(1.91%) 오른 2444.70을 가리키고 있다. 간밤 뉴욕증시는 약세로 마감했으나 국내 증시는 상승하는 모습이다. 지난 2일(현지시간) 뉴욕증시에서 다우지수는 전일 ', 'language': 'ko', 'source': 'https://www.mk.co.kr/news/stock/11209083', 'title': '돌아온 외국인에 코스피 모처럼 ‘활짝’…코스닥 700선 탈환 - 매일경제'}, page_content='있으며 운송장비(-0.38%)는 하락 중이다.코스피 시가총액 상위 10개 종목 가운데 기아(-1.48%)를 제외한 모든 종목에 빨간불이 켜졌다. 삼성전자(2.43%), SK하이닉스(5.67%), LG에너지솔루션(3.47%), 현대차(1.18%), KB금융(1.68%), 네이버(3.10%) 등이 강세다.같은 시각 코스닥 지수는 전일 대비 13.77포인트(2.01%) 오른 700.40을 가리키고 있다.지수가 장중 700선을 넘어선 것은 지난달 16일 이후 처음이다.코스닥 시장에서는 기관이 홀로 404억원어치 사들이고 있다. 외국인과'), Document(metadata={'description': '코스피가 외국인과 기관투자자의 쌍끌이 매수에 2440선을 회복했다. 코스닥 지수는 장중 2%대 상승하며 700선을 탈환했다. 3일 오전 11시 30분 현재 코스피는 전일 대비 45.76포인트(1.91%) 오른 2444.70을 가리키고 있다. 간밤 뉴욕증시는 약세로 마감했으나 국내 증시는 상승하는 모습이다. 지난 2일(현지시간) 뉴욕증시에서 다우지수는 전일 ', 'language': 'ko', 'source': 'https://www.mk.co.kr/news/stock/11209083', 'title': '돌아온 외국인에 코스피 모처럼 ‘활짝’…코스닥 700선 탈환 - 매일경제'}, page_content='돌아온 외국인에 코스피 모처럼 ‘활짝’…코스닥 700선 탈환\\n\\n\\n\\n\\n\\n\\n뉴스 요약쏙\\n\\n\\n뉴스 요약쏙\\nAI 요약은 OpenAI의 최신 기술을 활용해 핵심 내용을 빠르고 정확하게 제공합니다. 전체 맥락을 이해하려면 기사 본문을 함께 확인하는 것이 좋습니다.\\n닫기'), Document(metadata={'description': '코스피가 외국인과 기관투자자의 쌍끌이 매수에 2440선을 회복했다. 코스닥 지수는 장중 2%대 상승하며 700선을 탈환했다. 3일 오전 11시 30분 현재 코스피는 전일 대비 45.76포인트(1.91%) 오른 2444.70을 가리키고 있다. 간밤 뉴욕증시는 약세로 마감했으나 국내 증시는 상승하는 모습이다. 지난 2일(현지시간) 뉴욕증시에서 다우지수는 전일 ', 'language': 'ko', 'source': 'https://www.mk.co.kr/news/stock/11209083', 'title': '돌아온 외국인에 코스피 모처럼 ‘활짝’…코스닥 700선 탈환 - 매일경제'}, page_content='돌아온 외국인에 코스피 모처럼 ‘활짝’…코스닥 700선 탈환\\n\\n\\n\\n\\n\\n\\n뉴스 요약쏙\\n\\n\\n뉴스 요약쏙\\nAI 요약은 OpenAI의 최신 기술을 활용해 핵심 내용을 빠르고 정확하게 제공합니다. 전체 맥락을 이해하려면 기사 본문을 함께 확인하는 것이 좋습니다.\\n닫기')], 'question': '최근 코스피와 코스닥의 주요 이슈 및 동향에 대한 인사이트를 제공해줄 수 있나요?'}\n",
      "\n",
      "---\n",
      "\n",
      "[Graph Log] WRITE ...\n",
      "[Graph Log] CHECK HALLUCINATIONS ...\n",
      "[Graph Log] DECISION : ANSWER IS GROUNDED IN DOCUMENTS\n",
      "[Graph Log] CHECK ANSWER IS USEFUL OR NOT ...\n",
      "[Graph Log] DECISION : GENERATION ADDRESSES QUESTION\n",
      "Node 'writer' : '{'documents': [Document(metadata={'description': '코스피가 외국인과 기관투자자의 쌍끌이 매수에 2440선을 회복했다. 코스닥 지수는 장중 2%대 상승하며 700선을 탈환했다. 3일 오전 11시 30분 현재 코스피는 전일 대비 45.76포인트(1.91%) 오른 2444.70을 가리키고 있다. 간밤 뉴욕증시는 약세로 마감했으나 국내 증시는 상승하는 모습이다. 지난 2일(현지시간) 뉴욕증시에서 다우지수는 전일 ', 'language': 'ko', 'source': 'https://www.mk.co.kr/news/stock/11209083', 'title': '돌아온 외국인에 코스피 모처럼 ‘활짝’…코스닥 700선 탈환 - 매일경제'}, page_content='돌아온 외국인에 코스피 모처럼 ‘활짝’…코스닥 700선 탈환\\n\\n\\n\\n\\n\\n\\n뉴스 요약쏙\\n\\n\\n뉴스 요약쏙\\nAI 요약은 OpenAI의 최신 기술을 활용해 핵심 내용을 빠르고 정확하게 제공합니다. 전체 맥락을 이해하려면 기사 본문을 함께 확인하는 것이 좋습니다.\\n닫기'), Document(metadata={'description': '코스피가 외국인과 기관투자자의 쌍끌이 매수에 2440선을 회복했다. 코스닥 지수는 장중 2%대 상승하며 700선을 탈환했다. 3일 오전 11시 30분 현재 코스피는 전일 대비 45.76포인트(1.91%) 오른 2444.70을 가리키고 있다. 간밤 뉴욕증시는 약세로 마감했으나 국내 증시는 상승하는 모습이다. 지난 2일(현지시간) 뉴욕증시에서 다우지수는 전일 ', 'language': 'ko', 'source': 'https://www.mk.co.kr/news/stock/11209083', 'title': '돌아온 외국인에 코스피 모처럼 ‘활짝’…코스닥 700선 탈환 - 매일경제'}, page_content='돌아온 외국인에 코스피 모처럼 ‘활짝’…코스닥 700선 탈환\\n\\n\\n\\n\\n\\n\\n뉴스 요약쏙\\n\\n\\n뉴스 요약쏙\\nAI 요약은 OpenAI의 최신 기술을 활용해 핵심 내용을 빠르고 정확하게 제공합니다. 전체 맥락을 이해하려면 기사 본문을 함께 확인하는 것이 좋습니다.\\n닫기'), Document(metadata={'description': '코스피가 외국인과 기관투자자의 쌍끌이 매수에 2440선을 회복했다. 코스닥 지수는 장중 2%대 상승하며 700선을 탈환했다. 3일 오전 11시 30분 현재 코스피는 전일 대비 45.76포인트(1.91%) 오른 2444.70을 가리키고 있다. 간밤 뉴욕증시는 약세로 마감했으나 국내 증시는 상승하는 모습이다. 지난 2일(현지시간) 뉴욕증시에서 다우지수는 전일 ', 'language': 'ko', 'source': 'https://www.mk.co.kr/news/stock/11209083', 'title': '돌아온 외국인에 코스피 모처럼 ‘활짝’…코스닥 700선 탈환 - 매일경제'}, page_content='있으며 운송장비(-0.38%)는 하락 중이다.코스피 시가총액 상위 10개 종목 가운데 기아(-1.48%)를 제외한 모든 종목에 빨간불이 켜졌다. 삼성전자(2.43%), SK하이닉스(5.67%), LG에너지솔루션(3.47%), 현대차(1.18%), KB금융(1.68%), 네이버(3.10%) 등이 강세다.같은 시각 코스닥 지수는 전일 대비 13.77포인트(2.01%) 오른 700.40을 가리키고 있다.지수가 장중 700선을 넘어선 것은 지난달 16일 이후 처음이다.코스닥 시장에서는 기관이 홀로 404억원어치 사들이고 있다. 외국인과'), Document(metadata={'description': '코스피가 외국인과 기관투자자의 쌍끌이 매수에 2440선을 회복했다. 코스닥 지수는 장중 2%대 상승하며 700선을 탈환했다. 3일 오전 11시 30분 현재 코스피는 전일 대비 45.76포인트(1.91%) 오른 2444.70을 가리키고 있다. 간밤 뉴욕증시는 약세로 마감했으나 국내 증시는 상승하는 모습이다. 지난 2일(현지시간) 뉴욕증시에서 다우지수는 전일 ', 'language': 'ko', 'source': 'https://www.mk.co.kr/news/stock/11209083', 'title': '돌아온 외국인에 코스피 모처럼 ‘활짝’…코스닥 700선 탈환 - 매일경제'}, page_content='있으며 운송장비(-0.38%)는 하락 중이다.코스피 시가총액 상위 10개 종목 가운데 기아(-1.48%)를 제외한 모든 종목에 빨간불이 켜졌다. 삼성전자(2.43%), SK하이닉스(5.67%), LG에너지솔루션(3.47%), 현대차(1.18%), KB금융(1.68%), 네이버(3.10%) 등이 강세다.같은 시각 코스닥 지수는 전일 대비 13.77포인트(2.01%) 오른 700.40을 가리키고 있다.지수가 장중 700선을 넘어선 것은 지난달 16일 이후 처음이다.코스닥 시장에서는 기관이 홀로 404억원어치 사들이고 있다. 외국인과'), Document(metadata={}, page_content='한국 주식 시장에서 코스닥과 코스피가 최근 상승세를 보이며 주목받고 있습니다. 이에 대한 상세한 분석과 투자 전망을 살펴보겠습니다. ... 주요 기업 및 업종 분석 ... 윤대통령 공매도 금지 발표에 대한 최신 뉴스 및 이슈.\\n- 코스피코스닥 향후 전망 및 투자 기회 - 최근 코스피와 코스닥은 경기 회복세에 힘입어 긍정적인 상승세를 보이고 있습니다.이러한 분위기는 투자자들의 신뢰도를 높이고 있으며, 앞으로의 시장은 더욱 활기를 띨 것으로 예상됩니다. - 특히 it 및 배터리 관련 주식들이 두각을 나타내며, 성장\\n블로그 내 검색 검색 코스피는 Korea Composite Stock Price Index의 약자로, 한국거래소에 상장된 대기업 중심의 주식시장을 의미합니다. 코스닥은 Korea Securities Dealers Automated Quotations의 약자로, 미국의 나스닥(NASDAQ)을 모델로 만들어졌어요. 🔍 코스피와 코스닥의 차이점 한눈에 보기! 🧐 주목해야 할 포인트는? 환율은 수출입 기업 및 투자자들에게 중요한 변수로, 글로벌 경제 동향을 함께 체크하는 것이 중요합니다! 코스피와 코스닥은 한국 경제를 대표하는 양대 주식시장으로, 각각의 특성과 투자 전략이 다릅니다. 경제에 관심 있다면 꼭 알아야 할 정보!📊✨\\xa0\\xa0(0)   2024.12.16 경제에 관심 있다면 꼭 알아야 할 정보!📊✨ 젠슨 황의 양자컴퓨터 관련 발언 💬 번역 코인시세 블록체인 금리 리플 경제 일본 XRP ETF 시장 기술 금융 관세 투자 경제기초 크립토 암호화폐 AI 주식 트럼프 코인전망 비트코인 국제 부동산 코인 업비트 경제용어 달러 한국 물가 미국\\n코스피와 코스닥의 오늘 증시 분석 및 전망 achromatic0912 님의 블로그 achromatic0912 님의 블로그 재테크(주식,코인,부동산,경제) achromatic0912 님의 블로그 2025년 리얼티인컴 (O) 주가 전망 및 배당수익률 ⋯ 코스피와 코스닥의 오늘 증시 분석 및 전망2024. 5. 22:15ㆍ재테크(주식,코인,부동산,경제) 코스피와 코스닥의 오늘 증시 분석 및 전망 코스피와 코스닥의 오늘 증시 분석 및 전망 투자자들은 배당주와 방어주 중심의 포트폴리오를 구성하는 동시에, 2차 전지 및 AI 관련주와 같은 성장주에 대한 분산 투자를 고려할 필요가 있습니다. achromatic0912 님의 블로그 \\'재테크(주식,코인,부동산,경제)\\' 카테고리의 다른 글 글로벌 경제 불확실성에 따른 주식시장 대응 전략\\xa0\\xa0(2)2024.12.05AI와 머신러닝 기술의 주식시장에 미치는 영향\\xa0\\xa0(0)2024.12.05반도체 산업의 현황과 미래 전망\\xa0\\xa0(0)2024.12.05금리 인상이 국내외 주식시장에 미치는 영향\\xa0\\xa0(1)2024.12.05미국 주식시장의 오늘 동향과 주요 종목 분석\\xa0\\xa0(1)2024.12.05 금리 인상이 국내외 주식시장에 미치는 영향 2024.12.05 미국 주식시장의 오늘 동향과 주요 종목 분석 2024.12.05\\n코스피 및 코스닥 지수 주요 동향과 기업 실적 분석 주가 상승 및 하락 종목 분석 전작 대비 데이터 전송 속도 및 읽기 성능 향상 분석 코스피 및 코스닥 주요 기업 실적과 전망 - 신규 종목 편입 전망 및 투자 전략 주가 상승 및 하락 종목 분석 전작 대비 데이터 전송 속도 및 읽기 성능 향상 분석 321단 1tb 낸드 플래시의 개발로 인해 기존 세대 대비 데이터 전송 속도 및 읽기 성능이 현저히 향상되었습니다. sk하이닉스의 321단 1tb 낸드 플래시는 혁신적인 기술을 적용하여 데이터 전송 속도와 읽기 성능이 업그레이드 되었습니다. 코스피 및 코스닥 주요 기업 실적과 전망 신규 종목 편입 전망 및 투자 전략 \"외국인과 기관의 매매 흐름, 신규 종목 편입 등 다양한 요소들을 종합적으로 고려하여 투자 전략을 수립하는 것이 중요하다.\"'), Document(metadata={'description': '코스피가 외국인과 기관투자자의 쌍끌이 매수에 2440선을 회복했다. 코스닥 지수는 장중 2%대 상승하며 700선을 탈환했다. 3일 오전 11시 30분 현재 코스피는 전일 대비 45.76포인트(1.91%) 오른 2444.70을 가리키고 있다. 간밤 뉴욕증시는 약세로 마감했으나 국내 증시는 상승하는 모습이다. 지난 2일(현지시간) 뉴욕증시에서 다우지수는 전일 ', 'language': 'ko', 'source': 'https://www.mk.co.kr/news/stock/11209083', 'title': '돌아온 외국인에 코스피 모처럼 ‘활짝’…코스닥 700선 탈환 - 매일경제'}, page_content='있으며 운송장비(-0.38%)는 하락 중이다.코스피 시가총액 상위 10개 종목 가운데 기아(-1.48%)를 제외한 모든 종목에 빨간불이 켜졌다. 삼성전자(2.43%), SK하이닉스(5.67%), LG에너지솔루션(3.47%), 현대차(1.18%), KB금융(1.68%), 네이버(3.10%) 등이 강세다.같은 시각 코스닥 지수는 전일 대비 13.77포인트(2.01%) 오른 700.40을 가리키고 있다.지수가 장중 700선을 넘어선 것은 지난달 16일 이후 처음이다.코스닥 시장에서는 기관이 홀로 404억원어치 사들이고 있다. 외국인과'), Document(metadata={'description': '코스피가 외국인과 기관투자자의 쌍끌이 매수에 2440선을 회복했다. 코스닥 지수는 장중 2%대 상승하며 700선을 탈환했다. 3일 오전 11시 30분 현재 코스피는 전일 대비 45.76포인트(1.91%) 오른 2444.70을 가리키고 있다. 간밤 뉴욕증시는 약세로 마감했으나 국내 증시는 상승하는 모습이다. 지난 2일(현지시간) 뉴욕증시에서 다우지수는 전일 ', 'language': 'ko', 'source': 'https://www.mk.co.kr/news/stock/11209083', 'title': '돌아온 외국인에 코스피 모처럼 ‘활짝’…코스닥 700선 탈환 - 매일경제'}, page_content='있으며 운송장비(-0.38%)는 하락 중이다.코스피 시가총액 상위 10개 종목 가운데 기아(-1.48%)를 제외한 모든 종목에 빨간불이 켜졌다. 삼성전자(2.43%), SK하이닉스(5.67%), LG에너지솔루션(3.47%), 현대차(1.18%), KB금융(1.68%), 네이버(3.10%) 등이 강세다.같은 시각 코스닥 지수는 전일 대비 13.77포인트(2.01%) 오른 700.40을 가리키고 있다.지수가 장중 700선을 넘어선 것은 지난달 16일 이후 처음이다.코스닥 시장에서는 기관이 홀로 404억원어치 사들이고 있다. 외국인과'), Document(metadata={'description': '코스피가 외국인과 기관투자자의 쌍끌이 매수에 2440선을 회복했다. 코스닥 지수는 장중 2%대 상승하며 700선을 탈환했다. 3일 오전 11시 30분 현재 코스피는 전일 대비 45.76포인트(1.91%) 오른 2444.70을 가리키고 있다. 간밤 뉴욕증시는 약세로 마감했으나 국내 증시는 상승하는 모습이다. 지난 2일(현지시간) 뉴욕증시에서 다우지수는 전일 ', 'language': 'ko', 'source': 'https://www.mk.co.kr/news/stock/11209083', 'title': '돌아온 외국인에 코스피 모처럼 ‘활짝’…코스닥 700선 탈환 - 매일경제'}, page_content='돌아온 외국인에 코스피 모처럼 ‘활짝’…코스닥 700선 탈환\\n\\n\\n\\n\\n\\n\\n뉴스 요약쏙\\n\\n\\n뉴스 요약쏙\\nAI 요약은 OpenAI의 최신 기술을 활용해 핵심 내용을 빠르고 정확하게 제공합니다. 전체 맥락을 이해하려면 기사 본문을 함께 확인하는 것이 좋습니다.\\n닫기'), Document(metadata={'description': '코스피가 외국인과 기관투자자의 쌍끌이 매수에 2440선을 회복했다. 코스닥 지수는 장중 2%대 상승하며 700선을 탈환했다. 3일 오전 11시 30분 현재 코스피는 전일 대비 45.76포인트(1.91%) 오른 2444.70을 가리키고 있다. 간밤 뉴욕증시는 약세로 마감했으나 국내 증시는 상승하는 모습이다. 지난 2일(현지시간) 뉴욕증시에서 다우지수는 전일 ', 'language': 'ko', 'source': 'https://www.mk.co.kr/news/stock/11209083', 'title': '돌아온 외국인에 코스피 모처럼 ‘활짝’…코스닥 700선 탈환 - 매일경제'}, page_content='돌아온 외국인에 코스피 모처럼 ‘활짝’…코스닥 700선 탈환\\n\\n\\n\\n\\n\\n\\n뉴스 요약쏙\\n\\n\\n뉴스 요약쏙\\nAI 요약은 OpenAI의 최신 기술을 활용해 핵심 내용을 빠르고 정확하게 제공합니다. 전체 맥락을 이해하려면 기사 본문을 함께 확인하는 것이 좋습니다.\\n닫기')], 'question': '최근 코스피와 코스닥의 주요 이슈 및 동향에 대한 인사이트를 제공해줄 수 있나요?', 'generation': '최근 코스피는 외국인과 기관투자자의 매수에 힘입어 2440선을 회복했으며, 현재 2444.70으로 1.91% 상승했습니다. 코스닥 지수는 장중 2%대 상승하며 700선을 탈환하여 700.40을 기록하고 있습니다. 이러한 상승세에도 불구하고, 간밤 뉴욕증시는 약세로 마감했습니다.'}\n",
      "\n",
      "---\n",
      "\n",
      "최근 코스피는 외국인과 기관투자자의 매수에 힘입어 2440선을 회복했으며, 현재 2444.70으로 1.91% 상승했습니다. 코스닥 지수는 장중 2%대 상승하며 700선을 탈환하여 700.40을 기록하고 있습니다. 이러한 상승세에도 불구하고, 간밤 뉴욕증시는 약세로 마감했습니다.\n"
     ]
    }
   ],
   "source": [
    "# Run\n",
    "inputs = {\"question\": \"코스피와 코스닥에 대한 최근 이슈에 대한 인사이트를 작성해줘\"}\n",
    "for output in app.stream(inputs):\n",
    "    for key, value in output.items():\n",
    "        # Node\n",
    "        print(f\"Node '{key}' : '{value}\")\n",
    "        # Optional: print full state at each node\n",
    "        # pprint.pprint(value[\"keys\"], indent=2, width=80, depth=None)\n",
    "    print(\"\\n---\\n\")\n",
    "\n",
    "# Final generation\n",
    "print(value[\"generation\"])"
   ]
  }
 ],
 "metadata": {
  "kernelspec": {
   "display_name": "finpilot",
   "language": "python",
   "name": "python3"
  },
  "language_info": {
   "codemirror_mode": {
    "name": "ipython",
    "version": 3
   },
   "file_extension": ".py",
   "mimetype": "text/x-python",
   "name": "python",
   "nbconvert_exporter": "python",
   "pygments_lexer": "ipython3",
   "version": "3.10.16"
  }
 },
 "nbformat": 4,
 "nbformat_minor": 2
}
