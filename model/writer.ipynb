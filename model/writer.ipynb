{
 "cells": [
  {
   "cell_type": "markdown",
   "metadata": {},
   "source": [
    "# Writer Process\n",
    "\n",
    "---"
   ]
  },
  {
   "cell_type": "markdown",
   "metadata": {},
   "source": [
    "## 1. Set API Keys"
   ]
  },
  {
   "cell_type": "code",
   "execution_count": 1,
   "metadata": {},
   "outputs": [],
   "source": [
    "import os\n",
    "\n",
    "# Load API Keys\n",
    "from config.secret_keys import OPENAI_API_KEY, TAVILY_API_KEY, USER_AGENT\n",
    "\n",
    "os.environ[\"OPENAI_API_KEY\"] = OPENAI_API_KEY\n",
    "os.environ[\"TAVILY_API_KEY\"] = TAVILY_API_KEY\n",
    "os.environ[\"USER_AGENT\"] = USER_AGENT"
   ]
  },
  {
   "cell_type": "markdown",
   "metadata": {},
   "source": [
    "## 2. Import Modules"
   ]
  },
  {
   "cell_type": "code",
   "execution_count": 2,
   "metadata": {},
   "outputs": [],
   "source": [
    "# Construct Vector DB / Create retriever\n",
    "from langchain.text_splitter import RecursiveCharacterTextSplitter\n",
    "from langchain_community.document_loaders import WebBaseLoader\n",
    "from langchain_community.vectorstores import Chroma\n",
    "from langchain_openai import OpenAIEmbeddings\n",
    "\n",
    "# Retrieval Grader\n",
    "from langchain_core.prompts import ChatPromptTemplate\n",
    "from pydantic import BaseModel, Field\n",
    "from langchain_openai import ChatOpenAI\n",
    "\n",
    "# Writer\n",
    "from langchain import hub\n",
    "from langchain_core.output_parsers import StrOutputParser\n",
    "\n",
    "# define graph state\n",
    "from typing import List\n",
    "from typing_extensions import TypedDict\n",
    "\n",
    "# define tools\n",
    "from langchain_community.tools.tavily_search import TavilySearchResults\n",
    "\n",
    "# define Nodes\n",
    "from langchain.schema import Document\n",
    "\n",
    "# construct graph\n",
    "from langgraph.graph import START, END, StateGraph\n",
    "\n",
    "# Test\n",
    "from pprint import pprint"
   ]
  },
  {
   "cell_type": "markdown",
   "metadata": {},
   "source": [
    "## 3. Construct Vector DB "
   ]
  },
  {
   "cell_type": "code",
   "execution_count": 3,
   "metadata": {},
   "outputs": [],
   "source": [
    "urls = [\n",
    "    'https://www.mk.co.kr/news/stock/11209083', # title : 돌아온 외국인에 코스피 모처럼 ‘활짝’…코스닥 700선 탈환\n",
    "    'https://www.mk.co.kr/news/stock/11209254', # title : 힘 못받는 증시에 밸류업 ETF 두 달째 마이너스 수익률\n",
    "    'https://www.mk.co.kr/news/stock/11209229', # title : 서학개미 한 달간 1조원 샀는데···테슬라 400달러 붕괴\n",
    "]\n",
    "\n",
    "docs = [WebBaseLoader(url).load() for url in urls]\n",
    "docs_list = [item for sublist in docs for item in sublist]\n",
    "\n",
    "text_splitter = RecursiveCharacterTextSplitter(\n",
    "    chunk_size=300, chunk_overlap=50\n",
    ")\n",
    "doc_splits = text_splitter.split_documents(docs_list)\n",
    "\n",
    "vectorstore = Chroma.from_documents(\n",
    "    documents=doc_splits,\n",
    "    collection_name = 'rag-chroma',\n",
    "    embedding=OpenAIEmbeddings(),\n",
    ")\n",
    "\n",
    "retrieve = vectorstore.as_retriever()"
   ]
  },
  {
   "cell_type": "markdown",
   "metadata": {},
   "source": [
    "## 4. Define Agents"
   ]
  },
  {
   "cell_type": "markdown",
   "metadata": {},
   "source": [
    "### 4-1. Retrieval Grader"
   ]
  },
  {
   "cell_type": "code",
   "execution_count": 4,
   "metadata": {},
   "outputs": [],
   "source": [
    "class GradeDocuments(BaseModel):\n",
    "    \"\"\"\n",
    "    Binary score for relevance check on retrieved documents.\n",
    "    \"\"\"\n",
    "\n",
    "    relevance_score : str = Field(\n",
    "        description=\"Document are relevant to the question, 'yes' or 'no'\"\n",
    "    )"
   ]
  },
  {
   "cell_type": "code",
   "execution_count": 5,
   "metadata": {},
   "outputs": [],
   "source": [
    "llm = ChatOpenAI(\n",
    "    model = \"gpt-4o-mini\",\n",
    "    temperature=0\n",
    ")\n",
    "structured_llm = llm.with_structured_output(GradeDocuments)\n",
    "\n",
    "system_prompt = \"\"\"\n",
    "    You are a grader assessing relevance of a retrieved document to a user question. \\n \n",
    "\n",
    "    It does not need to be a stringent test. The goal is to filter out erroneous retrievals. \\n\n",
    "\n",
    "    If the document contains keyword(s) or semantic meaning related to the user question, grade it as relevant. \\n\n",
    "\n",
    "    Give a binary score 'yes' or 'no' score to indicate whether the document is relevant to the question.\n",
    "\"\"\"\n",
    "\n",
    "grade_prompt = ChatPromptTemplate.from_messages(\n",
    "    [\n",
    "        (\"system\", system_prompt),\n",
    "        (\"human\", \"Retreived documents : \\n\\n {documents} \\n\\n User question : {question}\")\n",
    "    ]\n",
    ")\n",
    "\n",
    "retrieval_grader = grade_prompt | structured_llm"
   ]
  },
  {
   "cell_type": "markdown",
   "metadata": {},
   "source": [
    "### 4-2. Writer"
   ]
  },
  {
   "cell_type": "code",
   "execution_count": 6,
   "metadata": {},
   "outputs": [
    {
     "name": "stderr",
     "output_type": "stream",
     "text": [
      "c:\\Users\\marti\\AppData\\Local\\anaconda3\\envs\\finpilot\\Lib\\site-packages\\langsmith\\client.py:241: LangSmithMissingAPIKeyWarning: API key must be provided when using hosted LangSmith API\n",
      "  warnings.warn(\n"
     ]
    }
   ],
   "source": [
    "write_prompt = hub.pull(\"rlm/rag-prompt\")\n",
    "\n",
    "llm = ChatOpenAI(\n",
    "    model = \"gpt-4o-mini\",\n",
    "    temperature=0\n",
    ")\n",
    "\n",
    "def format_docs(docs):\n",
    "    return \"\\n\\n\".join(doc.page_content for doc in docs)\n",
    "\n",
    "writer = write_prompt | llm | StrOutputParser()"
   ]
  },
  {
   "cell_type": "markdown",
   "metadata": {},
   "source": [
    "### 4-3. Hallucination Grader"
   ]
  },
  {
   "cell_type": "code",
   "execution_count": 7,
   "metadata": {},
   "outputs": [],
   "source": [
    "class GradeHallucination(BaseModel):\n",
    "    \"\"\"\n",
    "    Binary Score for hallunination present in generation answer.\n",
    "    \"\"\"\n",
    "\n",
    "    hallucination_score : str = Field(\n",
    "        description=\"Answer is grounded in the facts, 'yes' or 'no'\"\n",
    "    )"
   ]
  },
  {
   "cell_type": "code",
   "execution_count": 8,
   "metadata": {},
   "outputs": [],
   "source": [
    "llm = ChatOpenAI(\n",
    "    model = \"gpt-4o-mini\",\n",
    "    temperature=0\n",
    ")\n",
    "structured_llm = llm.with_structured_output(GradeHallucination)\n",
    "\n",
    "system_prompt = \"\"\"\n",
    "    You are a grader assessing whether an LLM generation is grounded in / supported by a set of retrieved facts. \\n \n",
    "\n",
    "    Give a binary score 'yes' or 'no'. 'Yes' means that the answer is grounded in / supported by the set of facts.\n",
    "\"\"\"\n",
    "hallucination_prompt = ChatPromptTemplate.from_messages(\n",
    "    [\n",
    "        (\"system\", system_prompt),\n",
    "        (\"human\", \"Set of facts : \\n\\n {documents} \\n\\n LLM generation : {generation}\")\n",
    "    ]\n",
    ")\n",
    "\n",
    "hallucination_grader = hallucination_prompt | structured_llm"
   ]
  },
  {
   "cell_type": "markdown",
   "metadata": {},
   "source": [
    "### 4-4. Answer Grader"
   ]
  },
  {
   "cell_type": "code",
   "execution_count": 9,
   "metadata": {},
   "outputs": [],
   "source": [
    "class AnswerGrader(BaseModel):\n",
    "    \"\"\"\n",
    "    Binary Score to assess answer address question.\n",
    "    \"\"\"\n",
    "\n",
    "    answer_score : str = Field(\n",
    "        description=\"Answer address the question, 'yes' or 'no'\"\n",
    "    )"
   ]
  },
  {
   "cell_type": "code",
   "execution_count": 10,
   "metadata": {},
   "outputs": [],
   "source": [
    "llm = ChatOpenAI(\n",
    "    model='gpt-4o-mini',\n",
    "    temperature=0\n",
    ")\n",
    "structured_llm = llm.with_structured_output(AnswerGrader)\n",
    "\n",
    "system_prompt = \"\"\"\n",
    "    You are a grader assessing whether an answer addresses / resolves a question \\n \n",
    "    \n",
    "    Give a binary score 'yes' or 'no'. Yes' means that the answer resolves the question.\n",
    "\"\"\"\n",
    "answer_prompt = ChatPromptTemplate.from_messages(\n",
    "    [\n",
    "        (\"system\", system_prompt),\n",
    "        (\"human\", \"User question : \\n\\n {question} \\n\\n LLM generation : {generation}\")\n",
    "    ]\n",
    ")\n",
    "\n",
    "answer_grader = answer_prompt | structured_llm"
   ]
  },
  {
   "cell_type": "markdown",
   "metadata": {},
   "source": [
    "### 4-5. Query rewriter"
   ]
  },
  {
   "cell_type": "code",
   "execution_count": 11,
   "metadata": {},
   "outputs": [],
   "source": [
    "llm = ChatOpenAI(\n",
    "    model = \"gpt-4o-mini\",\n",
    "    temperature=0\n",
    ")\n",
    "\n",
    "system_prompt = \"\"\"\n",
    "    You a question re-writer that converts an input question to a better version that is optimized for vectorstore retrieval. \\n\n",
    "    \n",
    "    Look at the input and try to reason about the underlying semantic intent / meaning.\n",
    "\"\"\"\n",
    "rewrite_prompt = ChatPromptTemplate.from_messages(\n",
    "    [\n",
    "        (\"system\", system_prompt),\n",
    "        (\n",
    "            \"human\",\n",
    "            \"Here is the initial question : \\n\\n {question} \\n Formulation an improved question\"\n",
    "        )\n",
    "    ]\n",
    ")\n",
    "\n",
    "query_rewriter = rewrite_prompt | llm"
   ]
  },
  {
   "cell_type": "markdown",
   "metadata": {},
   "source": [
    "## 5. Construct Graph"
   ]
  },
  {
   "cell_type": "markdown",
   "metadata": {},
   "source": [
    "### 5-1. Define Graph State"
   ]
  },
  {
   "cell_type": "code",
   "execution_count": 12,
   "metadata": {},
   "outputs": [],
   "source": [
    "class State(TypedDict):\n",
    "    \"\"\"\n",
    "    Represents the state of our graph.\n",
    "\n",
    "    Attributes:\n",
    "        question: question\n",
    "        generation: LLM generation\n",
    "        documents: list of documents\n",
    "    \"\"\"\n",
    "\n",
    "    question : str\n",
    "    generation : str\n",
    "    documents : List[str]"
   ]
  },
  {
   "cell_type": "markdown",
   "metadata": {},
   "source": [
    "### 5-2. Define Tools"
   ]
  },
  {
   "cell_type": "code",
   "execution_count": 13,
   "metadata": {},
   "outputs": [],
   "source": [
    "# web search tool\n",
    "web_search_tool = TavilySearchResults(k=3)"
   ]
  },
  {
   "cell_type": "markdown",
   "metadata": {},
   "source": [
    "### 5-3. Define Nodes"
   ]
  },
  {
   "cell_type": "code",
   "execution_count": 14,
   "metadata": {},
   "outputs": [],
   "source": [
    "# Retriever\n",
    "def retrieve_node(state):\n",
    "    \"\"\"\n",
    "    Retrieve documents\n",
    "\n",
    "    Args:\n",
    "        state (dict): The current graph state\n",
    "\n",
    "    Returns:\n",
    "        state (dict): New key added to state, documents, that contains retrieved documents\n",
    "    \"\"\"\n",
    "    print(\"[Graph Log] RETRIEVE ...\")\n",
    "    question = state[\"question\"]\n",
    "\n",
    "    documents = retrieve.invoke(question)\n",
    "    \n",
    "    return {\n",
    "        \"documents\" : documents,\n",
    "        \"question\" : question\n",
    "    }\n",
    "\n",
    "# writer\n",
    "def write_node(state):\n",
    "    \"\"\"\n",
    "    Generate answer\n",
    "\n",
    "    Args:\n",
    "        state (dict): The current graph state\n",
    "\n",
    "    Returns:\n",
    "        state (dict): New key added to state, generation, that contains LLM generation\n",
    "    \"\"\"\n",
    "\n",
    "    print(\"[Graph Log] WRITE ...\")\n",
    "\n",
    "    question = state[\"question\"]\n",
    "    documents = state[\"documents\"]\n",
    "\n",
    "    generation = writer.invoke({\"context\" : documents, \"question\" : question})\n",
    "\n",
    "    return {\n",
    "        \"documents\" : documents,\n",
    "        \"question\" : question,\n",
    "        \"generation\" : generation\n",
    "    }\n",
    "\n",
    "def filter_documents_node(state):\n",
    "    \"\"\"\n",
    "    Determines whether the retrieved documents are relevant to the question.\n",
    "\n",
    "    Args : \n",
    "        state (dict) : The current graph state\n",
    "\n",
    "    Returns : \n",
    "        state (dict) : Updates documents key with only filterd relevant documents\n",
    "    \"\"\"\n",
    "\n",
    "    print(\"[Graph Log] FILTER DOCUMENTS ...\")\n",
    "\n",
    "    question = state[\"question\"]\n",
    "    documents = state[\"documents\"]\n",
    "\n",
    "    filtered_docs = []\n",
    "    for doc in documents:\n",
    "        score = retrieval_grader.invoke(\n",
    "            {\"question\" : question, \"documents\" : doc.page_content}\n",
    "        )\n",
    "        relevance_grade = score.relevance_score\n",
    "\n",
    "        if relevance_grade == \"yes\":\n",
    "            print(\"[Relevance Grader Log] GRADE : DOCUMENT RELEVANT\")\n",
    "            filtered_docs.append(doc)\n",
    "        else:\n",
    "            print(\"[Relevance Grader Log] GRADE : DOCUMENT NOT RELEVANT\")\n",
    "            continue\n",
    "    \n",
    "    return {\"documents\" : filtered_docs, \"question\" : question}\n",
    "\n",
    "def transform_query_node(state):\n",
    "    \"\"\"\n",
    "    Transform the query to produce a better question.\n",
    "\n",
    "    Args :\n",
    "        state (dict) : The current graph state\n",
    "    \n",
    "    Returns : \n",
    "        state (dict) : Updateds question key with a re-phrase question\n",
    "    \"\"\"\n",
    "\n",
    "    print(\"[Graph Log] TRANSFORM QUERY ...\")\n",
    "\n",
    "    question = state[\"question\"]\n",
    "    documents = state[\"documents\"]\n",
    "\n",
    "    rewrited_query = query_rewriter.invoke({\"question\" : question})\n",
    "\n",
    "    return {\"documents\" : documents, \"question\" : rewrited_query}\n",
    "\n",
    "def web_search_node(state):\n",
    "    \"\"\"\n",
    "    Web search based on the re-phrased question.\n",
    "\n",
    "    Args :\n",
    "        state (dict) : The current graph state\n",
    "\n",
    "    Returns :\n",
    "        state (dict) : Updates documents key with appended web results\n",
    "    \"\"\"\n",
    "\n",
    "    print(\"[Graph Log] WEB SEARCH ...\")\n",
    "    question = state[\"question\"]\n",
    "    documents = state[\"documents\"]\n",
    "\n",
    "    if isinstance(question, str):\n",
    "        query = question\n",
    "    else:\n",
    "        query = str(question.content) if hasattr(question, 'content') else str(question)\n",
    "\n",
    "    docs = web_search_tool.invoke({\"query\" : query})\n",
    "    web_results = \"\\n\".join([doc[\"content\"] for doc in docs])\n",
    "    web_results = Document(page_content=web_results)\n",
    "    documents.append(web_results)\n",
    "\n",
    "    return {\"documents\" : documents, \"question\" : question}"
   ]
  },
  {
   "cell_type": "markdown",
   "metadata": {},
   "source": [
    "### 5-4. Define Conditional Edge Functions"
   ]
  },
  {
   "cell_type": "code",
   "execution_count": 15,
   "metadata": {},
   "outputs": [],
   "source": [
    "def decide_write_or_rewrite_query(state):\n",
    "    \"\"\"\n",
    "    Determines whether to generate an answer, or re-generate a question.\n",
    "\n",
    "    Args : \n",
    "        state (dict) : The current graph state\n",
    "    \n",
    "    Returns :\n",
    "        str : Binary decision for next node to call\n",
    "    \"\"\"\n",
    "\n",
    "    print(\"[Graph Log] DETERMINES 'WRITE' OR 'REWRITE QUESTION' ...\")\n",
    "\n",
    "    documents = state[\"documents\"]\n",
    "\n",
    "    if len(documents) >= 6:\n",
    "        print(\n",
    "            \"[Graph Log] DECISION : WRITE\"\n",
    "        )\n",
    "        return \"writer\"\n",
    "    else :\n",
    "        print(\n",
    "            \"[Graph Log] DECISION : REWRITE QUESTION\"\n",
    "        )\n",
    "        return \"transform_query\"\n",
    "\n",
    "def decide_to_retrieve_or_web_search(state):\n",
    "    \"\"\"\n",
    "    Determines whether to retrieve vectorstore, or search web.\n",
    "\n",
    "    Args : \n",
    "        state (dict) : The current graph state\n",
    "    \n",
    "    Returns :\n",
    "        str : Binary decision for next node to call\n",
    "    \"\"\"\n",
    "\n",
    "    print(\"[Graph Log] DETERMINES 'RETRIEVE' OR 'WEB SEARCH' ...\")\n",
    "\n",
    "    documents = state[\"documents\"]\n",
    "\n",
    "    if len(documents) >= 3:\n",
    "        print(\n",
    "            \"[Graph Log] DECISION : WEB SEARCH\"\n",
    "        )\n",
    "        return \"web_search\"\n",
    "    else:\n",
    "        print(\n",
    "            \"[Graph Log] DECISION : RETRIVE\"\n",
    "        )\n",
    "        return \"retriever\"\n",
    "\n",
    "def decide_to_regenerate_or_rewrite_query_or_end(state):\n",
    "    \"\"\"\n",
    "    Determines whether the generation is grounded in the document and answers question.\n",
    "\n",
    "    Args:\n",
    "        state (dict) : The current graph state\n",
    "    \n",
    "    Returns :\n",
    "        str : Decision for next node to call\n",
    "    \"\"\"\n",
    "\n",
    "    print(\"[Graph Log] CHECK HALLUCINATIONS ...\")\n",
    "\n",
    "    question = state[\"question\"]\n",
    "    documents = state[\"documents\"]\n",
    "    generation = state[\"generation\"]\n",
    "\n",
    "    score = hallucination_grader.invoke(\n",
    "        {\"documents\" : documents, \"generation\" : generation}\n",
    "    )\n",
    "    hallucination_grade = score.hallucination_score\n",
    "\n",
    "    if hallucination_grade == \"yes\":\n",
    "        print(\"[Graph Log] DECISION : ANSWER IS GROUNDED IN DOCUMENTS\")\n",
    "\n",
    "        print(\"[Graph Log] CHECK ANSWER IS USEFUL OR NOT ...\")\n",
    "\n",
    "        score = answer_grader.invoke(\n",
    "            {\"question\" : question, \"generation\" : generation}\n",
    "        )\n",
    "        answer_grade = score.answer_score\n",
    "\n",
    "        if answer_grade == \"yes\":\n",
    "            print(\"[Graph Log] DECISION : GENERATION ADDRESSES QUESTION\")\n",
    "\n",
    "            return \"useful\"\n",
    "        else :\n",
    "            print(\"[Graph Log] DECISION : GENERATION DOES NOT ADDRESS QUESTION\")\n",
    "\n",
    "            return \"not useful\"\n",
    "    else:\n",
    "        print(\"[Graph Log] DECISION : GENERATION IS NOT GROUNDED IN DOCUMENTS, RE-TRY\")\n",
    "        \n",
    "        return \"not supported\"\n"
   ]
  },
  {
   "cell_type": "markdown",
   "metadata": {},
   "source": [
    "### 5-5. Construct Graph"
   ]
  },
  {
   "cell_type": "code",
   "execution_count": 19,
   "metadata": {},
   "outputs": [],
   "source": [
    "workflow = StateGraph(State)\n",
    "\n",
    "# Add Nodes\n",
    "workflow.add_node(\"retriever\", retrieve_node)\n",
    "workflow.add_node(\"filter_documents\", filter_documents_node)\n",
    "workflow.add_node(\"writer\", write_node)\n",
    "workflow.add_node(\"transform_query\", transform_query_node)\n",
    "workflow.add_node(\"web_search\", web_search_node)\n",
    "\n",
    "# connects edges\n",
    "workflow.add_edge(START, \"retriever\")\n",
    "workflow.add_edge(\"retriever\", \"filter_documents\")\n",
    "workflow.add_conditional_edges(\n",
    "    \"filter_documents\",\n",
    "    decide_write_or_rewrite_query,\n",
    "    {\n",
    "        \"writer\" : \"writer\",\n",
    "        \"transform_query\" : \"transform_query\"\n",
    "    },\n",
    ")\n",
    "workflow.add_conditional_edges(\n",
    "    \"transform_query\",\n",
    "    decide_to_retrieve_or_web_search,\n",
    "    {\n",
    "        \"retriever\" : \"retriever\",\n",
    "        \"web_search\" : \"web_search\"\n",
    "    }\n",
    ")\n",
    "workflow.add_edge(\"web_search\", \"writer\")\n",
    "workflow.add_conditional_edges(\n",
    "    \"writer\",\n",
    "    decide_to_regenerate_or_rewrite_query_or_end,\n",
    "    {\n",
    "        \"not supported\" : \"writer\",\n",
    "        \"useful\" : END,\n",
    "        \"not useful\" : \"transform_query\"\n",
    "    }\n",
    ")\n",
    "\n",
    "app = workflow.compile()"
   ]
  },
  {
   "cell_type": "markdown",
   "metadata": {},
   "source": [
    "### 5-6. Visualize Graph"
   ]
  },
  {
   "cell_type": "code",
   "execution_count": 20,
   "metadata": {},
   "outputs": [
    {
     "data": {
      "image/png": "[encoded data removed]",
      "text/plain": [
       "<IPython.core.display.Image object>"
      ]
     },
     "metadata": {},
     "output_type": "display_data"
    }
   ],
   "source": [
    "from IPython.display import Image, display\n",
    "\n",
    "try:\n",
    "    display(Image(app.get_graph(xray=True).draw_mermaid_png()))\n",
    "except Exception:\n",
    "    # This requires some extra dependencies and is optional\n",
    "    pass"
   ]
  },
  {
   "cell_type": "markdown",
   "metadata": {},
   "source": [
    "## 6. Test"
   ]
  },
  {
   "cell_type": "code",
   "execution_count": 21,
   "metadata": {},
   "outputs": [
    {
     "name": "stdout",
     "output_type": "stream",
     "text": [
      "[Graph Log] RETRIEVE ...\n",
      "Node 'retriever':\n",
      "\n",
      "---\n",
      "\n",
      "[Graph Log] FILTER DOCUMENTS ...\n",
      "[Relevance Grader Log] GRADE : DOCUMENT RELEVANT\n",
      "[Relevance Grader Log] GRADE : DOCUMENT RELEVANT\n",
      "[Relevance Grader Log] GRADE : DOCUMENT RELEVANT\n",
      "[Relevance Grader Log] GRADE : DOCUMENT RELEVANT\n",
      "[Graph Log] DETERMINES 'WRITE' OR 'REWRITE QUESTION' ...\n",
      "[Graph Log] DECISION : REWRITE QUESTION\n",
      "Node 'filter_documents':\n",
      "\n",
      "---\n",
      "\n",
      "[Graph Log] TRANSFORM QUERY ...\n",
      "[Graph Log] DETERMINES 'RETRIEVE' OR 'WEB SEARCH' ...\n",
      "[Graph Log] DECISION : WEB SEARCH\n",
      "Node 'transform_query':\n",
      "\n",
      "---\n",
      "\n",
      "[Graph Log] WEB SEARCH ...\n",
      "Node 'web_search':\n",
      "\n",
      "---\n",
      "\n",
      "[Graph Log] WRITE ...\n",
      "[Graph Log] CHECK HALLUCINATIONS ...\n",
      "[Graph Log] DECISION : ANSWER IS GROUNDED IN DOCUMENTS\n",
      "[Graph Log] CHECK ANSWER IS USEFUL OR NOT ...\n",
      "[Graph Log] DECISION : GENERATION ADDRESSES QUESTION\n",
      "Node 'writer':\n",
      "\n",
      "---\n",
      "\n",
      "최근 코스피는 외국인과 기관투자자의 매수 덕분에 2440선을 회복하며 2444.70을 기록했습니다. 코스닥 지수는 장중 2% 상승하여 700선을 탈환했습니다. 전반적으로 국내 증시는 상승세를 보이고 있습니다.\n"
     ]
    }
   ],
   "source": [
    "# Run\n",
    "inputs = {\"question\": \"코스피와 코스닥에 대한 최근 이슈에 대한 인사이트를 작성해줘\"}\n",
    "for output in app.stream(inputs):\n",
    "    for key, value in output.items():\n",
    "        # Node\n",
    "        print(f\"Node '{key}':\")\n",
    "        # Optional: print full state at each node\n",
    "        # pprint.pprint(value[\"keys\"], indent=2, width=80, depth=None)\n",
    "    print(\"\\n---\\n\")\n",
    "\n",
    "# Final generation\n",
    "print(value[\"generation\"])"
   ]
  }
 ],
 "metadata": {
  "kernelspec": {
   "display_name": "finpilot",
   "language": "python",
   "name": "python3"
  },
  "language_info": {
   "codemirror_mode": {
    "name": "ipython",
    "version": 3
   },
   "file_extension": ".py",
   "mimetype": "text/x-python",
   "name": "python",
   "nbconvert_exporter": "python",
   "pygments_lexer": "ipython3",
   "version": "3.11.11"
  }
 },
 "nbformat": 4,
 "nbformat_minor": 2
}
