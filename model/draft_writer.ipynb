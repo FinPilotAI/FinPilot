{
 "cells": [
  {
   "cell_type": "markdown",
   "metadata": {},
   "source": [
    "# Draft Writer Process\n",
    "\n",
    "---"
   ]
  },
  {
   "cell_type": "markdown",
   "metadata": {},
   "source": [
    "## 1. Set API Keys"
   ]
  },
  {
   "cell_type": "code",
   "execution_count": 1,
   "metadata": {},
   "outputs": [],
   "source": [
    "import os\n",
    "from config.secret_keys import OPENAI_API_KEY, TAVILY_API_KEY, POLYGON_API_KEY, USER_AGENT, DART_API_KEY\n",
    "\n",
    "os.environ['OPENAI_API_KEY'] = OPENAI_API_KEY\n",
    "os.environ['TAVILY_API_KEY'] = TAVILY_API_KEY\n",
    "os.environ['POLYGON_API_KEY'] = POLYGON_API_KEY\n",
    "os.environ['USER_AGENT'] = USER_AGENT\n",
    "os.environ['DART_API_KEY'] = DART_API_KEY"
   ]
  },
  {
   "cell_type": "markdown",
   "metadata": {},
   "source": [
    "## 2. Import Modules"
   ]
  },
  {
   "cell_type": "code",
   "execution_count": 2,
   "metadata": {},
   "outputs": [],
   "source": [
    "# Directory Setting\n",
    "from pathlib import Path\n",
    "from langchain.text_splitter import RecursiveCharacterTextSplitter\n",
    "from langchain_community.vectorstores import Chroma\n",
    "from langchain_openai import OpenAIEmbeddings\n",
    "\n",
    "# Define State\n",
    "from typing_extensions import TypedDict\n",
    "from typing import Annotated, List\n",
    "# from langchain_core.messages import BaseMessage\n",
    "from langgraph.graph.message import add_messages\n",
    "\n",
    "# Define Tool\n",
    "from operator import add\n",
    "import requests\n",
    "import pandas as pd\n",
    "from langchain.tools import tool\n",
    "import yfinance as yf\n",
    "from polygon import RESTClient\n",
    "import requests\n",
    "from langchain.agents.agent_types import AgentType\n",
    "from langchain_experimental.agents.agent_toolkits import create_pandas_dataframe_agent\n",
    "from tavily import TavilyClient\n",
    "from langchain_openai import ChatOpenAI\n",
    "from langchain_community.document_loaders import WebBaseLoader\n",
    "from langchain_core.prompts import ChatPromptTemplate\n",
    "from langchain_core.output_parsers import StrOutputParser\n",
    "from langchain_community.tools.tavily_search import TavilySearchResults\n",
    "\n",
    "# Define Agent\n",
    "from datetime import datetime\n",
    "from langgraph.prebuilt import create_react_agent\n",
    "from pydantic import BaseModel, Field\n",
    "from langchain import hub\n",
    "from langgraph.types import Send\n",
    "\n",
    "# Define Node\n",
    "from langchain_core.documents import Document"
   ]
  },
  {
   "cell_type": "markdown",
   "metadata": {},
   "source": [
    "## 3. Directory Setting / Construct VectorStore"
   ]
  },
  {
   "cell_type": "code",
   "execution_count": 3,
   "metadata": {},
   "outputs": [],
   "source": [
    "BASE_DIR = Path(os.getcwd())\n",
    "DATA_DIR = BASE_DIR / 'data'\n",
    "CHART_DIR = BASE_DIR / 'chart'"
   ]
  },
  {
   "cell_type": "code",
   "execution_count": 4,
   "metadata": {},
   "outputs": [],
   "source": [
    "urls = [\n",
    "    'https://www.mk.co.kr/news/stock/11209083', # title : 돌아온 외국인에 코스피 모처럼 ‘활짝’…코스닥 700선 탈환\n",
    "    'https://www.mk.co.kr/news/stock/11209254', # title : 힘 못받는 증시에 밸류업 ETF 두 달째 마이너스 수익률\n",
    "    'https://www.mk.co.kr/news/stock/11209229', # title : 서학개미 한 달간 1조원 샀는데···테슬라 400달러 붕괴\n",
    "]\n",
    "\n",
    "docs = [WebBaseLoader(url).load() for url in urls]\n",
    "docs_list = [item for sublist in docs for item in sublist]\n",
    "\n",
    "text_splitter = RecursiveCharacterTextSplitter(\n",
    "    chunk_size=300, chunk_overlap=50\n",
    ")\n",
    "doc_splits = text_splitter.split_documents(docs_list)\n",
    "\n",
    "vectorstore = Chroma.from_documents(\n",
    "    documents=doc_splits,\n",
    "    collection_name = 'rag-chroma',\n",
    "    embedding=OpenAIEmbeddings(),\n",
    ")\n",
    "\n",
    "retrieve = vectorstore.as_retriever()"
   ]
  },
  {
   "cell_type": "markdown",
   "metadata": {},
   "source": [
    "## 4. Build Application"
   ]
  },
  {
   "cell_type": "markdown",
   "metadata": {},
   "source": [
    "### 4-1. Define State"
   ]
  },
  {
   "cell_type": "code",
   "execution_count": 91,
   "metadata": {},
   "outputs": [],
   "source": [
    "class State(TypedDict):\n",
    "        \"\"\"\n",
    "        Represents the state of graph.\n",
    "\n",
    "        Args:\n",
    "            question : question that user ask\n",
    "            generation : LLM generation\n",
    "            documents : list of documents\n",
    "        \"\"\"\n",
    "        chat_option : str\n",
    "        question : str\n",
    "        generation : str\n",
    "        messages : Annotated[list, add_messages]\n",
    "        documents : List[str]\n",
    "        outlines : List[str]\n",
    "        analyses : Annotated[List[dict], add]\n",
    "        draft : str\n",
    "        task : str"
   ]
  },
  {
   "cell_type": "markdown",
   "metadata": {},
   "source": [
    "### 4-2. Define Tools"
   ]
  },
  {
   "cell_type": "code",
   "execution_count": 92,
   "metadata": {},
   "outputs": [],
   "source": [
    "polygon_client = RESTClient(api_key=os.environ[\"POLYGON_API_KEY\"])\n",
    "tavily_client = TavilyClient(api_key=os.environ[\"TAVILY_API_KEY\"])\n",
    "llm = ChatOpenAI(model='gpt-4o-mini', temperature=0)"
   ]
  },
  {
   "cell_type": "markdown",
   "metadata": {},
   "source": [
    "#### 4-2-1. Stock Data Load"
   ]
  },
  {
   "cell_type": "code",
   "execution_count": 93,
   "metadata": {},
   "outputs": [],
   "source": [
    "@tool\n",
    "def fetch_stock_data(corp_code:str, start_date:str, end_date:str):\n",
    "    \"\"\"\n",
    "    Use this tool when you need to fetch stock data.\n",
    "    \n",
    "    Args:\n",
    "        corp_code (str) : comapy code\n",
    "        start_date (str) : start date about stock data\n",
    "        end_date (str) : end date about stock data\n",
    "    \n",
    "    Returns:\n",
    "        str : path message about saved file\n",
    "    \"\"\"\n",
    "\n",
    "    stock = yf.download(\n",
    "        corp_code + '.KS', \n",
    "        start=start_date, \n",
    "        end=end_date, \n",
    "        progress=False\n",
    "    )\n",
    "    \n",
    "    df = pd.DataFrame(index = stock.index)\n",
    "    df[f'{corp_code}'] = stock['Close']\n",
    "    \n",
    "    csv_path = DATA_DIR / \"stock_data.csv\"\n",
    "    df.to_csv(csv_path)\n",
    "\n",
    "    return f\"Stockfile saved to {csv_path}\""
   ]
  },
  {
   "cell_type": "code",
   "execution_count": 94,
   "metadata": {},
   "outputs": [
    {
     "data": {
      "text/plain": [
       "'Stockfile saved to c:\\\\SKN05-FINAL-3TEAM\\\\model\\\\data\\\\stock_data.csv'"
      ]
     },
     "execution_count": 94,
     "metadata": {},
     "output_type": "execute_result"
    }
   ],
   "source": [
    "input = {\n",
    "    'corp_code': '005930', \n",
    "    'start_date' : '2024-01-01', \n",
    "    'end_date' : '2024-12-31'\n",
    "}\n",
    "fetch_stock_data.invoke(input = input)"
   ]
  },
  {
   "cell_type": "markdown",
   "metadata": {},
   "source": [
    "#### 4-2-2. Financial Data Load"
   ]
  },
  {
   "cell_type": "code",
   "execution_count": 95,
   "metadata": {},
   "outputs": [],
   "source": [
    "@tool\n",
    "def fetch_financial_data(corp_name, report_year):\n",
    "    \"\"\"\n",
    "    Use this tool when you need to fetch financial data.\n",
    "    \n",
    "    Args:\n",
    "        corp_name (str) : Company name \n",
    "        report_year (str) : Year that data written\n",
    "    \n",
    "    Returns:\n",
    "        str : path message about saved file\n",
    "    \"\"\"\n",
    "\n",
    "    url = f\"https://opendart.fss.or.kr/api/fnlttSinglAcntAll.json\"\n",
    "\n",
    "    corp_code_df = pd.read_xml('CORPCODE.xml', encoding='utf-8')\n",
    "    corp_code = corp_code_df.loc[corp_code_df['corp_name'] == corp_name, 'corp_code'].iloc[0]\n",
    "    corp_code = str(corp_code).zfill(8)\n",
    "\n",
    "    params = {\n",
    "        'crtfc_key': os.getenv('DART_API_KEY'),\n",
    "        'corp_code': corp_code,\n",
    "        'bsns_year': report_year,       # 사업연도\n",
    "        'reprt_code': '11012',     # 보고서 코드 (사업보고서)\n",
    "        'fs_div': 'CFS'            # 재무제표 유형 ('CFS' 또는 'OFS') CFS: 연결재무제표 OFS: 재무제표 (개별)\n",
    "    }\n",
    "\n",
    "    # API 호출\n",
    "    response = requests.get(url, params=params)\n",
    "\n",
    "    # JSON 응답 확인\n",
    "    if response.status_code == 200:\n",
    "        data = response.json()\n",
    "        if data['status'] == '000':\n",
    "            df = pd.DataFrame(data['list'])\n",
    "            df.to_csv(DATA_DIR / \"finance_data.csv\", encoding=\"utf-8\")\n",
    "            return f\"finance data saved to {DATA_DIR / 'finance.csv'}\"\n",
    "        else:\n",
    "            return f\"Cannot find Data for {corp_name}\"\n",
    "    else:\n",
    "        return f\"Fail to Call API, {response.status_code}\""
   ]
  },
  {
   "cell_type": "code",
   "execution_count": 96,
   "metadata": {},
   "outputs": [
    {
     "data": {
      "text/plain": [
       "'finance data saved to c:\\\\SKN05-FINAL-3TEAM\\\\model\\\\data\\\\finance.csv'"
      ]
     },
     "execution_count": 96,
     "metadata": {},
     "output_type": "execute_result"
    }
   ],
   "source": [
    "input = {\n",
    "    'corp_name' : '삼성전자',\n",
    "    'report_year' : '2024'\n",
    "}\n",
    "\n",
    "fetch_financial_data.invoke(input = input)"
   ]
  },
  {
   "cell_type": "markdown",
   "metadata": {},
   "source": [
    "#### 4-2-3. CSV Data Analize Tool"
   ]
  },
  {
   "cell_type": "code",
   "execution_count": 97,
   "metadata": {},
   "outputs": [],
   "source": [
    "@tool\n",
    "def analyze_csv_data(query : str):\n",
    "    \"\"\"\n",
    "    저장된 주식 데이터와 재무 데이터를 pandas_agent로 분석하고 질문에 답변합니다.\n",
    "    \"\"\"\n",
    "\n",
    "    custom_prefix = f\"\"\"\n",
    "        You are very smart analyst can use given data.\n",
    "        Please analyze the data in various perspective to fine valuable insight.\n",
    "        You shoould always make the greatest output with accurate metrics and tables.\n",
    "    \"\"\"\n",
    "    \n",
    "    df_list = []\n",
    "    for csv_file in os.listdir(DATA_DIR):\n",
    "        df_list.append(pd.read_csv(DATA_DIR / csv_file))\n",
    "\n",
    "    pandas_agent = create_pandas_dataframe_agent(\n",
    "        ChatOpenAI(model=\"gpt-4o\"),\n",
    "        df_list,\n",
    "        verbose=True,\n",
    "        agent_type=AgentType.OPENAI_FUNCTIONS,\n",
    "        allow_dangerous_code=True,\n",
    "        prefix = custom_prefix # (옵션) prompt에 의도한 문장을 추가\n",
    "    )\n",
    "\n",
    "    result = pandas_agent.invoke(query)\n",
    "\n",
    "    return result"
   ]
  },
  {
   "cell_type": "code",
   "execution_count": 98,
   "metadata": {},
   "outputs": [
    {
     "name": "stdout",
     "output_type": "stream",
     "text": [
      "\n",
      "\n",
      "\u001b[1m> Entering new AgentExecutor chain...\u001b[0m\n",
      "\u001b[32;1m\u001b[1;3m주어진 데이터를 기반으로 기업 분석 보고서에 포함할 수 있는 몇 가지 중요한 인사이트를 도출해보겠습니다.\n",
      "\n",
      "### 1. 재무상태 분석\n",
      "\n",
      "1. **자산총계 증가**:\n",
      "   - 최근 반기말 자산총계는 4.85758e+14 KRW로, 이전 기말의 4.55906e+14 KRW에 비해 증가했습니다. 이는 기업의 자산이 증가하고 있음을 나타냅니다.\n",
      "\n",
      "2. **유동자산의 증가**:\n",
      "   - 반기말 유동자산은 2.17858e+14 KRW로, 이전 기말의 1.95937e+14 KRW에 비해 증가했습니다. 이는 기업의 단기 부채를 변제할 수 있는 능력이 향상되었음을 보여줍니다.\n",
      "\n",
      "3. **현금 및 현금성 자산의 감소**:\n",
      "   - 현금 및 현금성 자산은 반기말에 4.98444e+13 KRW로, 이전 기말의 6.90809e+13 KRW에 비해 감소했습니다. 이는 기업이 현금을 사용하여 다른 자산에 투자했거나 부채를 상환했을 가능성을 시사합니다.\n",
      "\n",
      "### 2. 주가 분석\n",
      "\n",
      "1. **주가 변동성**:\n",
      "   - 2024년 초 주가는 78447.9 KRW로 시작하여 이후 며칠 동안 하락세를 보였습니다. 이는 시장의 변동성을 나타낼 수 있으며, 투자자들이 주의 깊게 관찰해야 할 요소입니다.\n",
      "\n",
      "2. **주가 하락 요인 분석 필요**:\n",
      "   - 주가가 2024년 1월 2일부터 1월 8일까지 지속적으로 하락한 이유를 분석할 필요가 있습니다. 이는 외부 경제 요인, 산업 내 경쟁, 혹은 기업 내부의 문제 등 다양한 요인에 의해 영향을 받을 수 있습니다.\n",
      "\n",
      "### 3. 재무 보고서 비교\n",
      "\n",
      "1. **미수금 및 선급비용의 증가**:\n",
      "   - 미수금(7.72956e+12 KRW)과 선급비용(3.76946e+12 KRW)이 모두 증가했습니다. 이는 기업의 매출 채권 관리 효율성과 비용 발생 시점의 관리 필요성을 나타냅니다.\n",
      "\n",
      "### 결론\n",
      "\n",
      "이러한 재무 및 주가 데이터를 통해 기업의 현재 재무 상태와 시장 내 위치를 평가할 수 있습니다. 자산의 증가와 유동성 지표의 개선은 긍정적인 신호로 볼 수 있지만, 현금 및 현금성 자산의 감소와 주가 하락 요인에 대한 심층 분석이 필요합니다. 주가가 변동성을 나타내는 상황에서 투자자들은 시장 환경과 기업의 전략을 주의 깊게 살펴볼 필요가 있습니다.\n",
      "\n",
      "이와 같은 인사이트를 통해 기업의 전략적 방향성을 설정하고, 투자자들에게 유용한 정보를 제공할 수 있을 것입니다.\u001b[0m\n",
      "\n",
      "\u001b[1m> Finished chain.\u001b[0m\n"
     ]
    },
    {
     "data": {
      "text/plain": [
       "{'input': '주어진 데이터를 분석해서 기업 분석 보고서에 넣을만한 인사이트를 도출해줘',\n",
       " 'output': '주어진 데이터를 기반으로 기업 분석 보고서에 포함할 수 있는 몇 가지 중요한 인사이트를 도출해보겠습니다.\\n\\n### 1. 재무상태 분석\\n\\n1. **자산총계 증가**:\\n   - 최근 반기말 자산총계는 4.85758e+14 KRW로, 이전 기말의 4.55906e+14 KRW에 비해 증가했습니다. 이는 기업의 자산이 증가하고 있음을 나타냅니다.\\n\\n2. **유동자산의 증가**:\\n   - 반기말 유동자산은 2.17858e+14 KRW로, 이전 기말의 1.95937e+14 KRW에 비해 증가했습니다. 이는 기업의 단기 부채를 변제할 수 있는 능력이 향상되었음을 보여줍니다.\\n\\n3. **현금 및 현금성 자산의 감소**:\\n   - 현금 및 현금성 자산은 반기말에 4.98444e+13 KRW로, 이전 기말의 6.90809e+13 KRW에 비해 감소했습니다. 이는 기업이 현금을 사용하여 다른 자산에 투자했거나 부채를 상환했을 가능성을 시사합니다.\\n\\n### 2. 주가 분석\\n\\n1. **주가 변동성**:\\n   - 2024년 초 주가는 78447.9 KRW로 시작하여 이후 며칠 동안 하락세를 보였습니다. 이는 시장의 변동성을 나타낼 수 있으며, 투자자들이 주의 깊게 관찰해야 할 요소입니다.\\n\\n2. **주가 하락 요인 분석 필요**:\\n   - 주가가 2024년 1월 2일부터 1월 8일까지 지속적으로 하락한 이유를 분석할 필요가 있습니다. 이는 외부 경제 요인, 산업 내 경쟁, 혹은 기업 내부의 문제 등 다양한 요인에 의해 영향을 받을 수 있습니다.\\n\\n### 3. 재무 보고서 비교\\n\\n1. **미수금 및 선급비용의 증가**:\\n   - 미수금(7.72956e+12 KRW)과 선급비용(3.76946e+12 KRW)이 모두 증가했습니다. 이는 기업의 매출 채권 관리 효율성과 비용 발생 시점의 관리 필요성을 나타냅니다.\\n\\n### 결론\\n\\n이러한 재무 및 주가 데이터를 통해 기업의 현재 재무 상태와 시장 내 위치를 평가할 수 있습니다. 자산의 증가와 유동성 지표의 개선은 긍정적인 신호로 볼 수 있지만, 현금 및 현금성 자산의 감소와 주가 하락 요인에 대한 심층 분석이 필요합니다. 주가가 변동성을 나타내는 상황에서 투자자들은 시장 환경과 기업의 전략을 주의 깊게 살펴볼 필요가 있습니다.\\n\\n이와 같은 인사이트를 통해 기업의 전략적 방향성을 설정하고, 투자자들에게 유용한 정보를 제공할 수 있을 것입니다.'}"
      ]
     },
     "execution_count": 98,
     "metadata": {},
     "output_type": "execute_result"
    }
   ],
   "source": [
    "input = {\n",
    "    \"query\" : \"주어진 데이터를 분석해서 기업 분석 보고서에 넣을만한 인사이트를 도출해줘\"\n",
    "}\n",
    "\n",
    "analyze_csv_data.invoke(input = input)"
   ]
  },
  {
   "cell_type": "markdown",
   "metadata": {},
   "source": [
    "#### 4-2-4. Company News Load"
   ]
  },
  {
   "cell_type": "code",
   "execution_count": 99,
   "metadata": {},
   "outputs": [],
   "source": [
    "@tool\n",
    "def fetch_company_news(company_name: str) -> str:\n",
    "    \"\"\"Collect recent news for the given company.\"\"\"\n",
    "    search_results = tavily_client.search(query=f\"recent news about {company_name}\", days=7)\n",
    "    return f\"Collected news and market data for {company_name}: \\n{search_results}\"\n",
    "\n",
    "@tool\n",
    "def fetch_market_news(sector: str) -> str:\n",
    "    \"\"\"Colle ct recent market datafor the given company's sector.\"\"\"\n",
    "    search_results = tavily_client.search(query=f\"{sector} industry news\", days=7)\n",
    "    return f\"Collected news and market data for {sector}: {search_results}\"\n",
    "\n",
    "@tool\n",
    "def fetch_webpages_scrape(urls: List[str]) -> str:\n",
    "    \"\"\"Scrape the provided web pages for detailed information.\"\"\"\n",
    "    loader = WebBaseLoader(urls)\n",
    "    docs = loader.load()\n",
    "    return \"\\n\\n\".join(\n",
    "        [f'<Document name=\"{doc.metadata.get(\"title\", \"\")}\">\\n{doc.page_content}\\n</Document>'\n",
    "         for doc in docs]\n",
    "    )"
   ]
  },
  {
   "cell_type": "markdown",
   "metadata": {},
   "source": [
    "#### 4-2-5. Retriever"
   ]
  },
  {
   "cell_type": "code",
   "execution_count": 100,
   "metadata": {},
   "outputs": [],
   "source": [
    "@tool\n",
    "def retrieve_tool(query):\n",
    "    \"\"\"\n",
    "    Use this Tool to retireve document from vectorstore.\n",
    "\n",
    "    Args\n",
    "        query : user query\n",
    "    return\n",
    "        documents : list of retireved documents\n",
    "    \"\"\"\n",
    "\n",
    "    documents = retrieve.invoke(query)\n",
    "\n",
    "    return \"\\n\\n\".join(\n",
    "        [f'<Document name=\"{doc.metadata.get(\"title\", \"\")}\">\\n{doc.page_content}\\n</Document>'\n",
    "         for doc in documents]\n",
    "    )"
   ]
  },
  {
   "cell_type": "markdown",
   "metadata": {},
   "source": [
    "### 4-3. Define Agent"
   ]
  },
  {
   "cell_type": "markdown",
   "metadata": {},
   "source": [
    "#### 4-3-1. Analyst Agent Prompt / Setting"
   ]
  },
  {
   "cell_type": "code",
   "execution_count": 101,
   "metadata": {},
   "outputs": [],
   "source": [
    "llm = ChatOpenAI(model=\"gpt-4o\")\n",
    "\n",
    "today = datetime.today().date().strftime('%Y-%m-%d')\n",
    "\n",
    "financial_prompt = f\"\"\"오늘은 {today}입니다. \n",
    "당신은 뛰어난 재무 분석가입니다. 아래 임무를 지키면서, 데이터를 분석하고, 차트를 생성 및 저장해야 합니다.\n",
    "당신의 임무는:\n",
    "1. 회사의 재무 성명서를 면밀히 분석하여 숨겨진 통찰력을 발견하는 것\n",
    "2. 주요 재무 비율을 계산하고 그 의미를 명확히 해석하는 것\n",
    "3. 수익, 수익성, 현금 흐름의 추세를 파악하고 그에 따른 전략을 제안하는 것\n",
    "4. 회사의 재무 건강 상태와 지속 가능성을 종합적으로 평가하는 것\n",
    "5. 산업 표준과 비교하여 경쟁력을 분석하는 것\n",
    "\n",
    "당신의 추론을 항상 명확히 설명하고, 특정 지표로 결론을 뒷받침하세요.\n",
    "분석을 철저히 하되, 객관성을 유지하는 것을 잊지 마세요.\"\"\"\n",
    "\n",
    "stock_prompt = f\"\"\"오늘은 {today}입니다. \n",
    "당신은 전문 주식 시장 분석가입니다. 아래 임무를 지키면서, 데이터를 분석하고, 차트를 생성 및 저장해야 합니다.\n",
    "당신의 임무는:\n",
    "1. 역사적 주식 가격 움직임을 분석하여 패턴을 식별하는 것\n",
    "2. 기술 지표와 패턴을 평가하여 미래의 가격 변동을 예측하는 것\n",
    "3. 시장 분위기와 모멘텀을 분석하여 투자 기회를 포착하는 것\n",
    "5. 주요 가격 동인과 촉매를 식별하여 투자 전략을 수립하는 것\n",
    "\n",
    "분석을 지원하는 구체적인 데이터 포인트와 차트를 제공하세요.\n",
    "기술적 및 근본적 요소를 모두 고려하여 평가하세요.\"\"\"\n",
    "\n",
    "market_prompt = f\"\"\"오늘은 {today}입니다. \n",
    "당신은 전문 시장 연구원입니다. 아래 임무를 지키기 위해 기업, 경쟁사, 시장에 대한 시장 조사를 수행해주세요.\n",
    "당신의 임무는:\n",
    "1. 회사(주제)의 경쟁 위치를 분석하여 강점과 약점을 파악하는 것\n",
    "2. 시장 동향과 산업 역학을 평가하여 기회를 탐색하는 것\n",
    "3. 주요 경쟁사와 그들의 전략을 분석하여 시장 내 위치를 이해하는 것\n",
    "4. 시장 기회와 위협을 평가하여 리스크를 관리하는 것\n",
    "5. 회사의 시장 점유율과 성장 가능성을 분석하여 미래 전략을 제안하는 것\n",
    "\n",
    "결론을 뒷받침하는 구체적인 예시와 데이터를 사용하세요.\n",
    "현재 시장 조건과 미래 동향을 모두 고려하여 분석하세요.\"\"\""
   ]
  },
  {
   "cell_type": "markdown",
   "metadata": {},
   "source": [
    "#### 4-3-2. Define ReAct Agent Tool"
   ]
  },
  {
   "cell_type": "code",
   "execution_count": 102,
   "metadata": {},
   "outputs": [],
   "source": [
    "financial_agent = create_react_agent(\n",
    "    llm, \n",
    "    [fetch_financial_data, analyze_csv_data], \n",
    "    state_modifier = financial_prompt,\n",
    ")\n",
    "stock_agent = create_react_agent(\n",
    "    llm, \n",
    "    [fetch_stock_data, analyze_csv_data], \n",
    "    state_modifier = stock_prompt\n",
    ")\n",
    "market_agent = create_react_agent(\n",
    "    llm, \n",
    "    [fetch_company_news, fetch_market_news, fetch_webpages_scrape, retrieve_tool],\n",
    "    state_modifier = market_prompt\n",
    ")"
   ]
  },
  {
   "cell_type": "code",
   "execution_count": 103,
   "metadata": {},
   "outputs": [],
   "source": [
    "# 목차\n",
    "class OutlineModel(BaseModel):\n",
    "    outlines : Annotated[List[str], add]\n",
    "outline_maker = llm.with_structured_output(OutlineModel)\n",
    "\n",
    "def make_outline(state: State):\n",
    "    question = state[\"question\"]\n",
    "    input = f\"\"\"\n",
    "    다음은 사용자가 제공한 문서 작성 요청입니다. 다음의 요청문에 대한 목차를 정리해주세요.\n",
    "\n",
    "    User Query:\n",
    "        {question}\n",
    "    \"\"\"\n",
    "    response = outline_maker.invoke(input=input)\n",
    "    outlines = response.outlines\n",
    "\n",
    "    state[\"outlines\"] = outlines\n",
    "\n",
    "    return state\n",
    "\n",
    "# 기업명 추출\n",
    "class CompanyNameModel(BaseModel):\n",
    "    corp_name : Annotated[str, \"기업명\"]\n",
    "corp_name_extractor = llm.with_structured_output(CompanyNameModel)\n",
    "\n",
    "\n",
    "# 5. Map 함수: 각 분석가에게 작업 할당\n",
    "def map_to_analysts(state: State):\n",
    "    question = state[\"question\"]\n",
    "\n",
    "    response = corp_name_extractor.invoke(\n",
    "        \"\"\"\"\n",
    "        다음 사용자 질문에서 '기업명'만 분리해서 알려줘.\n",
    "        '기업명'을 찾을 수 없다면 '없음' 이라고 답변해줘.\n",
    "\n",
    "        text : \n",
    "        삼성전자 기업 분석 보고서 초안을 작성해줘\n",
    "\n",
    "        다음의 답변 형식에 맞추어 답변해줘\n",
    "        \n",
    "        answer format:\n",
    "        'company_name' : {company_name}\n",
    "        \"\"\"\n",
    "    )\n",
    "\n",
    "    if response.corp_name == '없음':\n",
    "        state[\"task\"] = \"market\"\n",
    "        return [\n",
    "            Send(\"market_analyst\", state)\n",
    "        ]\n",
    "    else:\n",
    "        state[\"task\"] = \"financial\"\n",
    "        financial_state = state\n",
    "\n",
    "        state[\"task\"] = \"stock\"\n",
    "        stock_state = state\n",
    "\n",
    "        state[\"task\"] = \"market\"\n",
    "        market_state = state\n",
    "\n",
    "        return [\n",
    "            Send(\"financial_analyst\", financial_state),\n",
    "            Send(\"stock_analyst\", stock_state),\n",
    "            Send(\"market_analyst\", market_state)\n",
    "        ]\n",
    "\n",
    "# 6. 각 분석가 노드 함수\n",
    "def analyst_node(state: dict, agent, task_type: str):\n",
    "    \"\"\"각 분석가의 작업을 실행하고 결과를 구조화\"\"\"\n",
    "    question = state[\"question\"]\n",
    "    # result = agent.invoke({\"question\": question, \"messages\" : []})\n",
    "    result = agent.invoke(state)\n",
    "    \n",
    "    return {\n",
    "        \"analyses\": [{\n",
    "            \"type\": task_type,\n",
    "            \"content\": result[\"messages\"][0].content,\n",
    "            \"timestamp\": datetime.now().isoformat()\n",
    "        }]\n",
    "    }\n",
    "\n",
    "# 7. Reduce 함수: 분석 결과 통합\n",
    "def combine_analyses(state: State):\n",
    "    analyses = state[\"analyses\"]\n",
    "    outlines = state[\"outlines\"]\n",
    "    \n",
    "    report_prompt = f\"\"\"\n",
    "    당신은 매우 훌륭한 분석 전문가입니다. 주어진 정보를 종합적으로 이해하고, 풍부한 설명을 통해 보고서를 작성합니다.\n",
    "    포괄적인 보고서를 작성해주세요. (형식: 마크다운, 언어: 한국어)\n",
    "    이 보고서는 가능한 많은 정보를 담아야하며, 다음을 종합하여 작성합니다:\n",
    "\n",
    "    <이전 분석>\n",
    "\n",
    "    {analyses}\n",
    "    \n",
    "    </이전 분석>\n",
    "\n",
    "    보고서는 다음 목차에 따라 작성됩니다.\n",
    "\n",
    "    <목차>\n",
    "    {outlines}\n",
    "    </목차>\n",
    "\n",
    "    <지침>\n",
    "    보고서는 마크다운 형식으로 작성하며, 주어진 데이터와 조사 결과를 바탕으로 작성합니다.\n",
    "\n",
    "    보고서는 다음이 포함되어야 합니다:\n",
    "\n",
    "    1. ## 요약\n",
    "    - 분석 결과의 주요 발견 및 통찰력에 대한 간략한 개요를 제공합니다.\n",
    "\n",
    "    2. ## 재무 분석\n",
    "    - 수익, 순이익, 자산, 부채 및 자본과 같은 상세한 재무 지표를 포함합니다.\n",
    "    - 지난 몇 년간의 추세 및 비교를 논의합니다.\n",
    "\n",
    "    3. ## 주식 성과 분석\n",
    "    - 가격 변화, 변동성 및 시장 지수와의 비교를 포함한 주식 성과 지표를 분석합니다.\n",
    "\n",
    "    4. ## 시장 위치 분석\n",
    "    - 회사의 시장 위치를 평가하고 시장 점유율 및 경쟁 환경을 포함합니다.\n",
    "    - 시장에서 회사의 강점과 약점에 대한 통찰력을 제공합니다.\n",
    "\n",
    "    5. ## 위험 및 기회\n",
    "    - 회사가 직면한 주요 위험과 성장 기회를 식별합니다.\n",
    "    - 분석을 지원하기 위해 정량적 데이터를 사용합니다.\n",
    "\n",
    "    6. ## 권장 사항\n",
    "    - 분석을 바탕으로 명확한 권장 사항을 제공합니다.\n",
    "    - 관련 데이터와 통찰력으로 권장 사항을 정당화합니다.\n",
    "    </지침>\n",
    "\n",
    "    \"\"\"\n",
    "    \n",
    "    combined_report = llm.invoke(report_prompt)\n",
    "    state['draft'] = combined_report\n",
    "    \n",
    "    return state"
   ]
  },
  {
   "cell_type": "code",
   "execution_count": 104,
   "metadata": {},
   "outputs": [],
   "source": [
    "from langgraph.graph import END, StateGraph, START\n",
    "# 8. 그래프 구성\n",
    "workflow = StateGraph(State)\n",
    "\n",
    "# Map 노드 추가\n",
    "workflow.add_node(\"financial_analyst\", \n",
    "                 lambda x: analyst_node(x, financial_agent, \"financial\"))\n",
    "workflow.add_node(\"stock_analyst\", \n",
    "                 lambda x: analyst_node(x, stock_agent, \"stock\"))\n",
    "workflow.add_node(\"market_analyst\", \n",
    "                 lambda x: analyst_node(x, market_agent, \"market\"))\n",
    "workflow.add_node(\"make_outlines\", make_outline)\n",
    "\n",
    "# Reduce 노드 추가\n",
    "workflow.add_node(\"combine\", combine_analyses)\n",
    "\n",
    "\n",
    "workflow.add_edge(START, \"make_outlines\")\n",
    "workflow.add_conditional_edges(\n",
    "    \"make_outlines\",\n",
    "    map_to_analysts,\n",
    "    {\n",
    "        \"financial_analyst\": \"financial_analyst\",\n",
    "        \"stock_analyst\": \"stock_analyst\",\n",
    "        \"market_analyst\": \"market_analyst\"\n",
    "    }\n",
    ")\n",
    "\n",
    "# 각 분석가의 결과를 combine으로 연결\n",
    "for analyst in [\"financial_analyst\", \"stock_analyst\", \"market_analyst\"]:\n",
    "    workflow.add_edge(analyst, \"combine\")\n",
    "\n",
    "workflow.add_edge(\"combine\", END)\n",
    "# 9. 그래프 컴파일\n",
    "app = workflow.compile()"
   ]
  },
  {
   "cell_type": "code",
   "execution_count": 105,
   "metadata": {},
   "outputs": [
    {
     "data": {
      "image/png": "[encoded data removed]",
      "text/plain": [
       "<IPython.core.display.Image object>"
      ]
     },
     "metadata": {},
     "output_type": "display_data"
    }
   ],
   "source": [
    "from IPython.display import Image, display\n",
    "\n",
    "display(Image(app.get_graph().draw_mermaid_png()))"
   ]
  },
  {
   "cell_type": "code",
   "execution_count": 107,
   "metadata": {},
   "outputs": [
    {
     "name": "stdout",
     "output_type": "stream",
     "text": [
      "\n",
      "======================= make_outlines =======================\n",
      "\n",
      "State\n",
      "    'question' : \n",
      "        최근 코스피에 대한 이슈를 바탕으로 시장 조사 보고서 초안을 작성해줘\n",
      "    'messages' : \n",
      "        []\n",
      "    'analyses' : \n",
      "        []\n",
      "    'outlines' : \n",
      "        ['서론', '코스피 개요', '최근 이슈 개요', '최근 경제 동향', '정치적 요인', '사회적 요인', '기술적 요인', '시장 동향 분석', '최근 코스피 지수 변동', '주요 업종 분석', '투자자 심리 분석', '향후 전망', '결론 및 제언', '참고 문헌 및 출처']\n",
      "\n",
      "===============================================\n",
      "\n",
      "\n",
      "======================= financial_analyst =======================\n",
      "\n",
      "State\n",
      "    'analyses' : \n",
      "        [{'type': 'financial', 'content': '먼저, 해당 회사의 재무 데이터를 확보하여 분석을 시작하겠습니다. 이를 위해 원하는 회사와 연도를 지정해주시면 데이터를 가져오는 작업을 수행하겠습니다. 분석할 회사의 이름과 연도를 알려주세요.', 'timestamp': '2025-01-31T17:43:17.765148'}]\n",
      "\n",
      "===============================================\n",
      "\n",
      "\n",
      "======================= market_analyst =======================\n",
      "\n",
      "State\n",
      "    'analyses' : \n",
      "        [{'type': 'market', 'content': '회사가 어떤 회사인지 알려주시면, 해당 회사를 중심으로 시장 조사를 수행하겠습니다. 회사 이름을 제공해주시면 감사하겠습니다.', 'timestamp': '2025-01-31T17:43:17.796101'}]\n",
      "\n",
      "===============================================\n",
      "\n",
      "\n",
      "======================= stock_analyst =======================\n",
      "\n",
      "State\n",
      "    'analyses' : \n",
      "        [{'type': 'stock', 'content': '어떤 기업의 주식을 분석할지 알려주시면, 해당 기업의 주식 데이터를 수집하고 분석을 시작하겠습니다. 예를 들어, 삼성전자, 애플, 테슬라 등 관심 있는 기업의 이름 또는 코드(예: AAPL, TSLA)를 제시해 주세요.', 'timestamp': '2025-01-31T17:43:18.558616'}]\n",
      "\n",
      "===============================================\n",
      "\n",
      "\n",
      "======================= combine =======================\n",
      "\n",
      "State\n",
      "    'question' : \n",
      "        최근 코스피에 대한 이슈를 바탕으로 시장 조사 보고서 초안을 작성해줘\n",
      "    'messages' : \n",
      "        []\n",
      "    'outlines' : \n",
      "        ['서론', '코스피 개요', '최근 이슈 개요', '최근 경제 동향', '정치적 요인', '사회적 요인', '기술적 요인', '시장 동향 분석', '최근 코스피 지수 변동', '주요 업종 분석', '투자자 심리 분석', '향후 전망', '결론 및 제언', '참고 문헌 및 출처']\n",
      "    'analyses' : \n",
      "        [{'type': 'financial', 'content': '먼저, 해당 회사의 재무 데이터를 확보하여 분석을 시작하겠습니다. 이를 위해 원하는 회사와 연도를 지정해주시면 데이터를 가져오는 작업을 수행하겠습니다. 분석할 회사의 이름과 연도를 알려주세요.', 'timestamp': '2025-01-31T17:43:17.765148'}, {'type': 'stock', 'content': '어떤 기업의 주식을 분석할지 알려주시면, 해당 기업의 주식 데이터를 수집하고 분석을 시작하겠습니다. 예를 들어, 삼성전자, 애플, 테슬라 등 관심 있는 기업의 이름 또는 코드(예: AAPL, TSLA)를 제시해 주세요.', 'timestamp': '2025-01-31T17:43:18.558616'}, {'type': 'market', 'content': '회사가 어떤 회사인지 알려주시면, 해당 회사를 중심으로 시장 조사를 수행하겠습니다. 회사 이름을 제공해주시면 감사하겠습니다.', 'timestamp': '2025-01-31T17:43:17.796101'}]\n",
      "    'draft' : \n",
      "        content='# 포괄적 보고서\\n\\n## 서론\\n이번 보고서는 특정 기업에 대한 종합적인 분석을 통해 기업의 재무 상태, 주식 성과, 시장 위치 및 향후 전망에 대한 통찰력을 제공합니다. 이를 통해 기업의 현재 상태를 이해하고, 향후 전략적 방향성을 제시하는 것을 목표로 합니다.\\n\\n## 코스피 개요\\n코스피(KOSPI)는 한국 증권시장의 주요 지수로, 국내 대표 기업들의 주식 가격 변동을 포함합니다. 이는 한국 경제의 전반적인 흐름을 반영하며, 투자자들이 시장의 흐름을 이해하는 데 중요한 지표로 작용합니다.\\n\\n## 최근 이슈 개요\\n최근 글로벌 경제의 불확실성과 국내 정치적 변화는 코스피 지수에 상당한 영향을 미쳤습니다. 이러한 요인들은 기업의 재무 상태와 주식 성과에도 직간접적인 영향을 끼칩니다.\\n\\n## 최근 경제 동향\\n전 세계적인 경제 불황과 금리 인상, 공급망 이슈 등은 국내 경제에도 영향을 주고 있습니다. 이러한 경제적 요인들은 기업의 수익성과 시장 위치에 중요한 변수로 작용합니다.\\n\\n## 정치적 요인\\n국내 정치 변화, 특히 정책적 변화는 기업 환경에 상당한 영향을 미칠 수 있습니다. 최근의 정책 변화가 어떻게 기업 운영에 영향을 미쳤는지를 분석합니다.\\n\\n## 사회적 요인\\n소비자 행동 변화, ESG(환경, 사회, 지배구조) 트렌드 등 사회적 요인은 기업의 전략과 시장 위치에 직접적인 영향을 미칩니다.\\n\\n## 기술적 요인\\n기술 발전과 디지털 혁신은 기업의 경쟁력 강화에 중요한 역할을 합니다. IT 기술과 혁신이 기업 운영에 미치는 영향을 분석합니다.\\n\\n## 시장 동향 분석\\n### 최근 코스피 지수 변동\\n최근 몇 달간의 코스피 지수 변동을 살펴보고, 주요 변동 요인을 분석합니다. 이를 통해 시장의 방향성을 파악할 수 있습니다.\\n\\n### 주요 업종 분석\\n주요 업종별로 최근 성과와 전망을 분석합니다. 각 업종의 강점과 약점을 파악하고, 시장 내 위치를 평가합니다.\\n\\n### 투자자 심리 분석\\n투자자 심리와 시장 반응을 분석하여, 주식 시장의 현재 상태와 향후 방향성을 예측합니다.\\n\\n## 향후 전망\\n현재의 경제적, 정치적, 사회적 요인들을 바탕으로 기업의 미래 전망을 제시합니다. 또한, 예상되는 위험 요소와 기회를 분석합니다.\\n\\n## 결론 및 제언\\n분석 결과를 바탕으로 기업의 전략적 방향성을 제시합니다. 이를 통해 기업이 직면한 도전과 기회를 극복할 수 있는 방안을 제공합니다.\\n\\n## 참고 문헌 및 출처\\n- 국내외 경제 보고서\\n- 기업 재무 보고서\\n- 주식 시장 분석 자료\\n\\n---\\n\\n## 요약\\n이 보고서는 특정 기업의 재무 상태, 주식 성과, 시장 위치 및 향후 전망에 대한 포괄적인 분석을 통해 기업의 현재 상태와 전략적 방향성을 제시합니다. 이를 통해 기업이 직면한 도전과 기회를 파악하고, 향후 전략적 방향성을 설정하는 데 기여합니다.\\n\\n## 재무 분석\\n기업의 과거 몇 년간의 수익, 순이익, 자산, 부채 및 자본 등 주요 재무 지표를 분석합니다. 이러한 지표들은 기업의 재무 건전성을 평가하는 데 중요한 역할을 하며, 기업의 장기적인 성장 가능성을 예측할 수 있는 기초 자료를 제공합니다.\\n\\n## 주식 성과 분석\\n기업의 주식 가격 변동, 변동성 및 코스피 지수와의 비교를 통해 주식 성과를 분석합니다. 이를 통해 투자자들이 기업 주식의 가치를 평가할 수 있도록 합니다.\\n\\n## 시장 위치 분석\\n기업의 시장 점유율과 경쟁 환경을 평가하여 시장 내 위치를 분석합니다. 이를 통해 기업의 강점과 약점을 파악하고, 향후 전략적 방향을 설정하는 데 도움을 줍니다.\\n\\n## 위험 및 기회\\n기업이 직면한 주요 위험 요소와 잠재적인 성장 기회를 식별합니다. 이를 통해 기업이 직면한 과제를 해결하고, 성장 기회를 최대한 활용할 수 있도록 지원합니다.\\n\\n## 권장 사항\\n분석 결과를 바탕으로 명확한 권장 사항을 제시합니다. 기업이 향후 전략을 수립하는 데 있어 중요한 통찰력을 제공합니다.' additional_kwargs={'refusal': None} response_metadata={'token_usage': {'completion_tokens': 979, 'prompt_tokens': 750, 'total_tokens': 1729, 'completion_tokens_details': {'accepted_prediction_tokens': 0, 'audio_tokens': 0, 'reasoning_tokens': 0, 'rejected_prediction_tokens': 0}, 'prompt_tokens_details': {'audio_tokens': 0, 'cached_tokens': 0}}, 'model_name': 'gpt-4o-2024-08-06', 'system_fingerprint': 'fp_50cad350e4', 'finish_reason': 'stop', 'logprobs': None} id='run-ef18c5e3-bb71-440d-8d44-b79e62759d5c-0' usage_metadata={'input_tokens': 750, 'output_tokens': 979, 'total_tokens': 1729, 'input_token_details': {'audio': 0, 'cache_read': 0}, 'output_token_details': {'audio': 0, 'reasoning': 0}}\n",
      "\n",
      "===============================================\n",
      "\n"
     ]
    }
   ],
   "source": [
    "# 10. 실행 예시\n",
    "from finpilot.test import test_app\n",
    "inputs = {\"question\": \"최근 코스피에 대한 이슈를 바탕으로 시장 조사 보고서 초안을 작성해줘\", \"messages\":[]}\n",
    "\n",
    "test_app(app, inputs)"
   ]
  },
  {
   "cell_type": "markdown",
   "metadata": {},
   "source": []
  },
  {
   "cell_type": "code",
   "execution_count": 108,
   "metadata": {},
   "outputs": [
    {
     "name": "stdout",
     "output_type": "stream",
     "text": [
      "# 포괄적 보고서\n",
      "\n",
      "## 서론\n",
      "이번 보고서는 특정 기업에 대한 종합적인 분석을 통해 기업의 재무 상태, 주식 성과, 시장 위치 및 향후 전망에 대한 통찰력을 제공합니다. 이를 통해 기업의 현재 상태를 이해하고, 향후 전략적 방향성을 제시하는 것을 목표로 합니다.\n",
      "\n",
      "## 코스피 개요\n",
      "코스피(KOSPI)는 한국 증권시장의 주요 지수로, 국내 대표 기업들의 주식 가격 변동을 포함합니다. 이는 한국 경제의 전반적인 흐름을 반영하며, 투자자들이 시장의 흐름을 이해하는 데 중요한 지표로 작용합니다.\n",
      "\n",
      "## 최근 이슈 개요\n",
      "최근 글로벌 경제의 불확실성과 국내 정치적 변화는 코스피 지수에 상당한 영향을 미쳤습니다. 이러한 요인들은 기업의 재무 상태와 주식 성과에도 직간접적인 영향을 끼칩니다.\n",
      "\n",
      "## 최근 경제 동향\n",
      "전 세계적인 경제 불황과 금리 인상, 공급망 이슈 등은 국내 경제에도 영향을 주고 있습니다. 이러한 경제적 요인들은 기업의 수익성과 시장 위치에 중요한 변수로 작용합니다.\n",
      "\n",
      "## 정치적 요인\n",
      "국내 정치 변화, 특히 정책적 변화는 기업 환경에 상당한 영향을 미칠 수 있습니다. 최근의 정책 변화가 어떻게 기업 운영에 영향을 미쳤는지를 분석합니다.\n",
      "\n",
      "## 사회적 요인\n",
      "소비자 행동 변화, ESG(환경, 사회, 지배구조) 트렌드 등 사회적 요인은 기업의 전략과 시장 위치에 직접적인 영향을 미칩니다.\n",
      "\n",
      "## 기술적 요인\n",
      "기술 발전과 디지털 혁신은 기업의 경쟁력 강화에 중요한 역할을 합니다. IT 기술과 혁신이 기업 운영에 미치는 영향을 분석합니다.\n",
      "\n",
      "## 시장 동향 분석\n",
      "### 최근 코스피 지수 변동\n",
      "최근 몇 달간의 코스피 지수 변동을 살펴보고, 주요 변동 요인을 분석합니다. 이를 통해 시장의 방향성을 파악할 수 있습니다.\n",
      "\n",
      "### 주요 업종 분석\n",
      "주요 업종별로 최근 성과와 전망을 분석합니다. 각 업종의 강점과 약점을 파악하고, 시장 내 위치를 평가합니다.\n",
      "\n",
      "### 투자자 심리 분석\n",
      "투자자 심리와 시장 반응을 분석하여, 주식 시장의 현재 상태와 향후 방향성을 예측합니다.\n",
      "\n",
      "## 향후 전망\n",
      "현재의 경제적, 정치적, 사회적 요인들을 바탕으로 기업의 미래 전망을 제시합니다. 또한, 예상되는 위험 요소와 기회를 분석합니다.\n",
      "\n",
      "## 결론 및 제언\n",
      "분석 결과를 바탕으로 기업의 전략적 방향성을 제시합니다. 이를 통해 기업이 직면한 도전과 기회를 극복할 수 있는 방안을 제공합니다.\n",
      "\n",
      "## 참고 문헌 및 출처\n",
      "- 국내외 경제 보고서\n",
      "- 기업 재무 보고서\n",
      "- 주식 시장 분석 자료\n",
      "\n",
      "---\n",
      "\n",
      "## 요약\n",
      "이 보고서는 특정 기업의 재무 상태, 주식 성과, 시장 위치 및 향후 전망에 대한 포괄적인 분석을 통해 기업의 현재 상태와 전략적 방향성을 제시합니다. 이를 통해 기업이 직면한 도전과 기회를 파악하고, 향후 전략적 방향성을 설정하는 데 기여합니다.\n",
      "\n",
      "## 재무 분석\n",
      "기업의 과거 몇 년간의 수익, 순이익, 자산, 부채 및 자본 등 주요 재무 지표를 분석합니다. 이러한 지표들은 기업의 재무 건전성을 평가하는 데 중요한 역할을 하며, 기업의 장기적인 성장 가능성을 예측할 수 있는 기초 자료를 제공합니다.\n",
      "\n",
      "## 주식 성과 분석\n",
      "기업의 주식 가격 변동, 변동성 및 코스피 지수와의 비교를 통해 주식 성과를 분석합니다. 이를 통해 투자자들이 기업 주식의 가치를 평가할 수 있도록 합니다.\n",
      "\n",
      "## 시장 위치 분석\n",
      "기업의 시장 점유율과 경쟁 환경을 평가하여 시장 내 위치를 분석합니다. 이를 통해 기업의 강점과 약점을 파악하고, 향후 전략적 방향을 설정하는 데 도움을 줍니다.\n",
      "\n",
      "## 위험 및 기회\n",
      "기업이 직면한 주요 위험 요소와 잠재적인 성장 기회를 식별합니다. 이를 통해 기업이 직면한 과제를 해결하고, 성장 기회를 최대한 활용할 수 있도록 지원합니다.\n",
      "\n",
      "## 권장 사항\n",
      "분석 결과를 바탕으로 명확한 권장 사항을 제시합니다. 기업이 향후 전략을 수립하는 데 있어 중요한 통찰력을 제공합니다.\n"
     ]
    }
   ],
   "source": [
    "print(\"# 포괄적 보고서\\n\\n## 서론\\n이번 보고서는 특정 기업에 대한 종합적인 분석을 통해 기업의 재무 상태, 주식 성과, 시장 위치 및 향후 전망에 대한 통찰력을 제공합니다. 이를 통해 기업의 현재 상태를 이해하고, 향후 전략적 방향성을 제시하는 것을 목표로 합니다.\\n\\n## 코스피 개요\\n코스피(KOSPI)는 한국 증권시장의 주요 지수로, 국내 대표 기업들의 주식 가격 변동을 포함합니다. 이는 한국 경제의 전반적인 흐름을 반영하며, 투자자들이 시장의 흐름을 이해하는 데 중요한 지표로 작용합니다.\\n\\n## 최근 이슈 개요\\n최근 글로벌 경제의 불확실성과 국내 정치적 변화는 코스피 지수에 상당한 영향을 미쳤습니다. 이러한 요인들은 기업의 재무 상태와 주식 성과에도 직간접적인 영향을 끼칩니다.\\n\\n## 최근 경제 동향\\n전 세계적인 경제 불황과 금리 인상, 공급망 이슈 등은 국내 경제에도 영향을 주고 있습니다. 이러한 경제적 요인들은 기업의 수익성과 시장 위치에 중요한 변수로 작용합니다.\\n\\n## 정치적 요인\\n국내 정치 변화, 특히 정책적 변화는 기업 환경에 상당한 영향을 미칠 수 있습니다. 최근의 정책 변화가 어떻게 기업 운영에 영향을 미쳤는지를 분석합니다.\\n\\n## 사회적 요인\\n소비자 행동 변화, ESG(환경, 사회, 지배구조) 트렌드 등 사회적 요인은 기업의 전략과 시장 위치에 직접적인 영향을 미칩니다.\\n\\n## 기술적 요인\\n기술 발전과 디지털 혁신은 기업의 경쟁력 강화에 중요한 역할을 합니다. IT 기술과 혁신이 기업 운영에 미치는 영향을 분석합니다.\\n\\n## 시장 동향 분석\\n### 최근 코스피 지수 변동\\n최근 몇 달간의 코스피 지수 변동을 살펴보고, 주요 변동 요인을 분석합니다. 이를 통해 시장의 방향성을 파악할 수 있습니다.\\n\\n### 주요 업종 분석\\n주요 업종별로 최근 성과와 전망을 분석합니다. 각 업종의 강점과 약점을 파악하고, 시장 내 위치를 평가합니다.\\n\\n### 투자자 심리 분석\\n투자자 심리와 시장 반응을 분석하여, 주식 시장의 현재 상태와 향후 방향성을 예측합니다.\\n\\n## 향후 전망\\n현재의 경제적, 정치적, 사회적 요인들을 바탕으로 기업의 미래 전망을 제시합니다. 또한, 예상되는 위험 요소와 기회를 분석합니다.\\n\\n## 결론 및 제언\\n분석 결과를 바탕으로 기업의 전략적 방향성을 제시합니다. 이를 통해 기업이 직면한 도전과 기회를 극복할 수 있는 방안을 제공합니다.\\n\\n## 참고 문헌 및 출처\\n- 국내외 경제 보고서\\n- 기업 재무 보고서\\n- 주식 시장 분석 자료\\n\\n---\\n\\n## 요약\\n이 보고서는 특정 기업의 재무 상태, 주식 성과, 시장 위치 및 향후 전망에 대한 포괄적인 분석을 통해 기업의 현재 상태와 전략적 방향성을 제시합니다. 이를 통해 기업이 직면한 도전과 기회를 파악하고, 향후 전략적 방향성을 설정하는 데 기여합니다.\\n\\n## 재무 분석\\n기업의 과거 몇 년간의 수익, 순이익, 자산, 부채 및 자본 등 주요 재무 지표를 분석합니다. 이러한 지표들은 기업의 재무 건전성을 평가하는 데 중요한 역할을 하며, 기업의 장기적인 성장 가능성을 예측할 수 있는 기초 자료를 제공합니다.\\n\\n## 주식 성과 분석\\n기업의 주식 가격 변동, 변동성 및 코스피 지수와의 비교를 통해 주식 성과를 분석합니다. 이를 통해 투자자들이 기업 주식의 가치를 평가할 수 있도록 합니다.\\n\\n## 시장 위치 분석\\n기업의 시장 점유율과 경쟁 환경을 평가하여 시장 내 위치를 분석합니다. 이를 통해 기업의 강점과 약점을 파악하고, 향후 전략적 방향을 설정하는 데 도움을 줍니다.\\n\\n## 위험 및 기회\\n기업이 직면한 주요 위험 요소와 잠재적인 성장 기회를 식별합니다. 이를 통해 기업이 직면한 과제를 해결하고, 성장 기회를 최대한 활용할 수 있도록 지원합니다.\\n\\n## 권장 사항\\n분석 결과를 바탕으로 명확한 권장 사항을 제시합니다. 기업이 향후 전략을 수립하는 데 있어 중요한 통찰력을 제공합니다.\")"
   ]
  }
 ],
 "metadata": {
  "kernelspec": {
   "display_name": "finpilot",
   "language": "python",
   "name": "python3"
  },
  "language_info": {
   "codemirror_mode": {
    "name": "ipython",
    "version": 3
   },
   "file_extension": ".py",
   "mimetype": "text/x-python",
   "name": "python",
   "nbconvert_exporter": "python",
   "pygments_lexer": "ipython3",
   "version": "3.10.16"
  }
 },
 "nbformat": 4,
 "nbformat_minor": 2
}
