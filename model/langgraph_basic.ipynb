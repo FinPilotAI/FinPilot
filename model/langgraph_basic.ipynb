{
 "cells": [
  {
   "cell_type": "code",
   "execution_count": 12,
   "metadata": {},
   "outputs": [],
   "source": [
    "import os\n",
    "from config.secret_keys import OPENAI_API_KEY, TAVILY_API_KEY\n",
    "\n",
    "os.environ['OPENAI_API_KEY'] = OPENAI_API_KEY\n",
    "os.environ['TAVILY_API_KEY'] = TAVILY_API_KEY"
   ]
  },
  {
   "cell_type": "markdown",
   "metadata": {},
   "source": [
    "# Basic LangGraph "
   ]
  },
  {
   "cell_type": "markdown",
   "metadata": {},
   "source": [
    "## State Graph 생성\n",
    "\n",
    "- State Graph \n",
    "    - 사용자가 지정한 정보 교환 형식 (state)에 따라 정보를 주고 받는 graph\n",
    "    - 이 graph에 노드를 추가해 나가면서 langgraph 프로세스를 형성한다\n",
    "    - 이렇게 형성된 graph는 node 간에 사용자가 지정한 state 내에서 정보를 주고 받는다"
   ]
  },
  {
   "cell_type": "code",
   "execution_count": 1,
   "metadata": {},
   "outputs": [],
   "source": [
    "from typing import TypedDict\n",
    "from langgraph.graph import StateGraph\n",
    "\n",
    "# 노드 간 주고 받을 정보의 틀(형태)를 지정하는 class\n",
    "# langgraph는 state라는 형태로 노드 간 정보를 주고 받는다다\n",
    "class State(TypedDict): # TypedDict : 타입 힌트를 사용하여 딕셔너리의 형태를 지정할 수 있는 클래스\n",
    "    counter : int\n",
    "    alphabet : list[str]\n",
    "\n",
    "# 노드 간 정보를 주고 받을 때, 사용 자가 정의한 State라는 틀 안에서 정보를 주고 받을 수 있도록 하는 그래프\n",
    "# 이렇게 생성된 StateGraph 클래스의 객체(graph_builder)는 \n",
    "# State라는 형태로 노드 간 정보를 주고 받는 그래프를 만들어주는 역할을 한다\n",
    "graph_builder = StateGraph(State)"
   ]
  },
  {
   "cell_type": "markdown",
   "metadata": {},
   "source": [
    "## Graph 생성"
   ]
  },
  {
   "cell_type": "code",
   "execution_count": 3,
   "metadata": {},
   "outputs": [],
   "source": [
    "from typing import Annotated # 어떤 값을 지정할 때, 해당 값의 meta-data를 추가할 수 있는 역할할\n",
    "from typing_extensions import TypedDict # langgraph 공식 문서에서 이렇게 불러옴 (차이는 x)\n",
    "\n",
    "from langgraph.graph import StateGraph # \n",
    "from langgraph.graph import START, END # graph의 시작 node와 끝 node\n",
    "import operator\n",
    "\n",
    "# state 정의\n",
    "class State(TypedDict):\n",
    "    counter : int\n",
    "    alphabet : list[str]\n",
    "\n",
    "# 노드 정의\n",
    "def node_a(state: State):\n",
    "    state['counter'] += 1\n",
    "    state['alphabet'] = [\"Hello\"]\n",
    "\n",
    "    return state\n",
    "\n",
    "# state graph 생성\n",
    "graph_builder = StateGraph(State)\n",
    "\n",
    "# 노드 추가\n",
    "graph_builder.add_node(\"chatbot\", node_a)\n",
    "\n",
    "# edge 연결\n",
    "graph_builder.add_edge(START, \"chatbot\") # 단방향\n",
    "graph_builder.add_edge(\"chatbot\", END)\n",
    "\n",
    "# graph compile\n",
    "graph = graph_builder.compile()"
   ]
  },
  {
   "cell_type": "markdown",
   "metadata": {},
   "source": [
    "## Graph 시각화"
   ]
  },
  {
   "cell_type": "code",
   "execution_count": 4,
   "metadata": {},
   "outputs": [
    {
     "data": {
      "image/png": "[encoded data removed]",
      "text/plain": [
       "<IPython.core.display.Image object>"
      ]
     },
     "metadata": {},
     "output_type": "display_data"
    }
   ],
   "source": [
    "from IPython.display import Image, display\n",
    "\n",
    "try :\n",
    "    display(Image(graph.get_graph().draw_mermaid_png()))\n",
    "except Exception as e:\n",
    "    pass"
   ]
  },
  {
   "cell_type": "markdown",
   "metadata": {},
   "source": [
    "## Graph 실행"
   ]
  },
  {
   "cell_type": "code",
   "execution_count": 5,
   "metadata": {},
   "outputs": [
    {
     "name": "stdout",
     "output_type": "stream",
     "text": [
      "{'counter': 1, 'alphabet': ['Hello']}\n",
      "{'counter': 2, 'alphabet': ['Hello']}\n",
      "{'counter': 3, 'alphabet': ['Hello']}\n"
     ]
    }
   ],
   "source": [
    "initial_state = {\n",
    "    \"counter\" : 0,\n",
    "    \"alphabet\" : []\n",
    "}\n",
    "\n",
    "state = initial_state\n",
    "\n",
    "for _ in range(3):\n",
    "    state = graph.invoke(state)\n",
    "    print(state)"
   ]
  },
  {
   "cell_type": "markdown",
   "metadata": {},
   "source": [
    "## Node 개선\n",
    "- `alphebet` 속성을 변경하며 meta-data를 추가하기\n",
    "    - 해당 데이터에 대해 어떤 행동을 할 지 지정\n",
    "    - ex) 이 속성에 대해 다음으로 들어오는 값을 어떻게 처리할 지"
   ]
  },
  {
   "cell_type": "code",
   "execution_count": 6,
   "metadata": {},
   "outputs": [],
   "source": [
    "class State(TypedDict):\n",
    "    counter : int\n",
    "    alphabet : Annotated[list[str], operator.add] # Chatbot의 기억을 만들어 주는 부분 (그래프 내에서만)\n",
    "    # operator.add : list[str] 형태의 값에 대해 + 연산을 수행할 수 있도록 하는 메타데이터\n",
    "\n",
    "def node_a(state: State):\n",
    "    state['counter'] += 1\n",
    "    state['alphabet'] = [\"Hello\"]\n",
    "    return state\n",
    "\n",
    "graph_builder = StateGraph(State)\n",
    "\n",
    "graph_builder.add_node(\"chatbot\", node_a)\n",
    "\n",
    "graph_builder.add_edge(START, \"chatbot\")\n",
    "graph_builder.add_edge(\"chatbot\", END)\n",
    "\n",
    "graph = graph_builder.compile()"
   ]
  },
  {
   "cell_type": "code",
   "execution_count": 7,
   "metadata": {},
   "outputs": [
    {
     "name": "stdout",
     "output_type": "stream",
     "text": [
      "{'counter': 1, 'alphabet': ['Hello']}\n",
      "{'counter': 2, 'alphabet': ['Hello', 'Hello']}\n",
      "{'counter': 3, 'alphabet': ['Hello', 'Hello', 'Hello']}\n"
     ]
    }
   ],
   "source": [
    "initial_state = {\n",
    "    \"counter\" : 0,\n",
    "    \"alphabet\" : []\n",
    "}\n",
    "\n",
    "state = initial_state\n",
    "\n",
    "for _ in range(3):\n",
    "    state = graph.invoke(state)\n",
    "    print(state)"
   ]
  },
  {
   "cell_type": "markdown",
   "metadata": {},
   "source": [
    "## Message를 담는 State Graph 만들기"
   ]
  },
  {
   "cell_type": "code",
   "execution_count": 11,
   "metadata": {},
   "outputs": [],
   "source": [
    "from typing import Annotated\n",
    "from typing_extensions import TypedDict\n",
    "\n",
    "from langchain_openai import ChatOpenAI\n",
    "\n",
    "from langgraph.graph import StateGraph\n",
    "from langgraph.graph.message import add_messages\n",
    "\n",
    "class State(TypedDict):\n",
    "    messages : Annotated[list, add_messages]\n",
    "\n",
    "graph_builder = StateGraph(State)\n",
    "\n",
    "model = ChatOpenAI(model=\"gpt-4o-mini\")\n",
    "\n",
    "def chatbot(state: State):\n",
    "    state['messages'] = [model.invoke(state['messages'])]\n",
    "    return state\n",
    "\n",
    "graph_builder.add_node(\"chatbot\", chatbot)\n",
    "\n",
    "graph_builder.set_entry_point(\"chatbot\")\n",
    "graph_builder.set_finish_point(\"chatbot\")\n",
    "\n",
    "graph = graph_builder.compile()"
   ]
  },
  {
   "cell_type": "code",
   "execution_count": 12,
   "metadata": {},
   "outputs": [
    {
     "data": {
      "image/png": "[encoded data removed]",
      "text/plain": [
       "<IPython.core.display.Image object>"
      ]
     },
     "metadata": {},
     "output_type": "display_data"
    }
   ],
   "source": [
    "from IPython.display import Image, display\n",
    "\n",
    "try :\n",
    "    display(Image(graph.get_graph().draw_mermaid_png()))\n",
    "except Exception as e:\n",
    "    pass"
   ]
  },
  {
   "cell_type": "code",
   "execution_count": 13,
   "metadata": {},
   "outputs": [
    {
     "name": "stdout",
     "output_type": "stream",
     "text": [
      "Assistant :  안녕하세요! 어떻게 도와드릴까요?\n",
      "Assistant :  제가 학습된 데이터는 2023년 10월까지의 정보입니다. 그 이후의 정보는 포함되어 있지 않습니다. 도움이 필요하시면 언제든지 질문해 주세요!\n",
      "Goodbye!\n"
     ]
    }
   ],
   "source": [
    "while True:\n",
    "    user_input = input(\"User : \")\n",
    "    if user_input.lower() in ['quit', 'exit', 'q']:\n",
    "        print(\"Goodbye!\")\n",
    "        break\n",
    "    \n",
    "    for event in graph.stream({\"messages\" : (\"user\", user_input)}):\n",
    "        for value in event.values():\n",
    "            print(\"Assistant : \", value[\"messages\"][-1].content)"
   ]
  },
  {
   "cell_type": "markdown",
   "metadata": {},
   "source": [
    "## `MessageState`\n",
    "\n",
    "- 메시지를 담기 위한 아래의 코드를 구현해 놓은 state class\n",
    "    ```python\n",
    "        class State(TypedDict):\n",
    "            messages : Annotated[list, add_messages]\n",
    "    ```\n",
    "- 굉장히 간단한 형태의 system에서만 그대로 사용할 수 있음\n",
    "- 상속을 받아서 처리하면 기존 `MessageState`의 State 형태 그대로 커스터마이징 할 수 있음"
   ]
  },
  {
   "cell_type": "code",
   "execution_count": 14,
   "metadata": {},
   "outputs": [],
   "source": [
    "from langchain_openai import ChatOpenAI\n",
    "from langgraph.graph import MessagesState\n",
    "\n",
    "graph_builder = StateGraph(MessagesState)\n",
    "\n",
    "model = ChatOpenAI(model=\"gpt-4o-mini\")\n",
    "\n",
    "def chatbot(state: MessagesState):\n",
    "    state['messages'] = [model.invoke(state['messages'])]\n",
    "    return state\n",
    "\n",
    "graph_builder.add_node(\"chatbot\", chatbot)\n",
    "\n",
    "graph_builder.set_entry_point(\"chatbot\")\n",
    "graph_builder.set_finish_point(\"chatbot\")\n",
    "\n",
    "graph = graph_builder.compile()"
   ]
  },
  {
   "cell_type": "code",
   "execution_count": 15,
   "metadata": {},
   "outputs": [
    {
     "name": "stdout",
     "output_type": "stream",
     "text": [
      "Assistant :  안녕하세요! 어떻게 도와드릴까요?\n",
      "Assistant :  현재 제가 학습된 자료의 기준일은 2023년 10월입니다. 이 이후의 정보는 포함되어 있지 않습니다. 궁금한 점이 있으시면 질문해 주세요!\n",
      "Goodbye!\n"
     ]
    }
   ],
   "source": [
    "while True:\n",
    "    user_input = input(\"User : \")\n",
    "    if user_input.lower() in ['quit', 'exit', 'q']:\n",
    "        print(\"Goodbye!\")\n",
    "        break\n",
    "    \n",
    "    for event in graph.stream({\"messages\" : (\"user\", user_input)}):\n",
    "        for value in event.values():\n",
    "            print(\"Assistant : \", value[\"messages\"][-1].content)"
   ]
  },
  {
   "cell_type": "markdown",
   "metadata": {},
   "source": [
    "# LangGraph에 Tool 활용하기"
   ]
  },
  {
   "cell_type": "markdown",
   "metadata": {},
   "source": [
    "## Tool 활용법 개요"
   ]
  },
  {
   "cell_type": "code",
   "execution_count": 16,
   "metadata": {},
   "outputs": [],
   "source": [
    "from langchain_core.messages import AIMessage\n",
    "from langchain_core.tools import tool\n",
    "\n",
    "from langgraph.prebuilt import ToolNode"
   ]
  },
  {
   "cell_type": "code",
   "execution_count": 17,
   "metadata": {},
   "outputs": [],
   "source": [
    "@tool\n",
    "def get_weather(location : str):\n",
    "    \"\"\"Call to get the weather\"\"\"\n",
    "\n",
    "    if location in ['서울', '인천']:\n",
    "        return \"It's 60 degrees and foggy\"\n",
    "    else :\n",
    "        return \"It's 90 degrees and sunny\"\n",
    "\n",
    "@tool\n",
    "def get_coolest_cities():\n",
    "    \"\"\"Get a list of cooles cities\"\"\"\n",
    "    return '서울, 고성'"
   ]
  },
  {
   "cell_type": "code",
   "execution_count": 19,
   "metadata": {},
   "outputs": [],
   "source": [
    "tools = [get_weather, get_coolest_cities]\n",
    "tool_node = ToolNode(tools)"
   ]
  },
  {
   "cell_type": "code",
   "execution_count": 20,
   "metadata": {},
   "outputs": [],
   "source": [
    "from langchain_openai import ChatOpenAI\n",
    "\n",
    "model_with_tools = ChatOpenAI(\n",
    "    model = 'gpt-4o-mini',\n",
    "    temperature=0,\n",
    ").bind_tools(tools)"
   ]
  },
  {
   "cell_type": "code",
   "execution_count": 25,
   "metadata": {},
   "outputs": [
    {
     "data": {
      "text/plain": [
       "AIMessage(content='', additional_kwargs={'tool_calls': [{'id': 'call_0l7oVNs1S2SkDH9yzC4xQxEd', 'function': {'arguments': '{\"location\":\"서울\"}', 'name': 'get_weather'}, 'type': 'function'}], 'refusal': None}, response_metadata={'token_usage': {'completion_tokens': 15, 'prompt_tokens': 70, 'total_tokens': 85, 'completion_tokens_details': {'accepted_prediction_tokens': 0, 'audio_tokens': 0, 'reasoning_tokens': 0, 'rejected_prediction_tokens': 0}, 'prompt_tokens_details': {'audio_tokens': 0, 'cached_tokens': 0}}, 'model_name': 'gpt-4o-mini-2024-07-18', 'system_fingerprint': 'fp_d02d531b47', 'finish_reason': 'tool_calls', 'logprobs': None}, id='run-0d13a334-56ac-4d98-82a4-c4939a52cbc0-0', tool_calls=[{'name': 'get_weather', 'args': {'location': '서울'}, 'id': 'call_0l7oVNs1S2SkDH9yzC4xQxEd', 'type': 'tool_call'}], usage_metadata={'input_tokens': 70, 'output_tokens': 15, 'total_tokens': 85, 'input_token_details': {'audio': 0, 'cache_read': 0}, 'output_token_details': {'audio': 0, 'reasoning': 0}})"
      ]
     },
     "execution_count": 25,
     "metadata": {},
     "output_type": "execute_result"
    }
   ],
   "source": [
    "model_with_tools.invoke(\"서울 날씨는 어때?\")"
   ]
  },
  {
   "cell_type": "code",
   "execution_count": 21,
   "metadata": {},
   "outputs": [
    {
     "data": {
      "text/plain": [
       "[{'name': 'get_weather',\n",
       "  'args': {'location': '서울'},\n",
       "  'id': 'call_r10efQLNtmE6zPyYgbYL2Je5',\n",
       "  'type': 'tool_call'}]"
      ]
     },
     "execution_count": 21,
     "metadata": {},
     "output_type": "execute_result"
    }
   ],
   "source": [
    "model_with_tools.invoke(\"서울 날씨는 어때?\").tool_calls"
   ]
  },
  {
   "cell_type": "code",
   "execution_count": 22,
   "metadata": {},
   "outputs": [
    {
     "data": {
      "text/plain": [
       "[{'name': 'get_coolest_cities',\n",
       "  'args': {},\n",
       "  'id': 'call_dKyTAEo8cxSAx0N6FoQmUHBv',\n",
       "  'type': 'tool_call'}]"
      ]
     },
     "execution_count": 22,
     "metadata": {},
     "output_type": "execute_result"
    }
   ],
   "source": [
    "model_with_tools.invoke(\"한국에서 가장 추운 도시는?\").tool_calls"
   ]
  },
  {
   "cell_type": "code",
   "execution_count": 24,
   "metadata": {},
   "outputs": [
    {
     "data": {
      "text/plain": [
       "[]"
      ]
     },
     "execution_count": 24,
     "metadata": {},
     "output_type": "execute_result"
    }
   ],
   "source": [
    "# 주어진 도구로 답변을 할 수 없는 경우 tool 호출이 되지 않는 것을 확인할 수 있음음\n",
    "model_with_tools.invoke(\"대한민국 대통령이 누구야?\").tool_calls"
   ]
  },
  {
   "cell_type": "code",
   "execution_count": 23,
   "metadata": {},
   "outputs": [
    {
     "data": {
      "text/plain": [
       "{'messages': [ToolMessage(content=\"It's 60 degrees and foggy\", name='get_weather', tool_call_id='call_qWgurBICArS6kLA1H0rOdgJD')]}"
      ]
     },
     "execution_count": 23,
     "metadata": {},
     "output_type": "execute_result"
    }
   ],
   "source": [
    "tool_node.invoke({\"messages\" : [model_with_tools.invoke(\"서울 날씨는 어때?\")]})"
   ]
  },
  {
   "cell_type": "code",
   "execution_count": 27,
   "metadata": {},
   "outputs": [],
   "source": [
    "# 그래프에서 도구 활용하도록 구현하기\n",
    "# Literal : 함수 인자나 변수에 특정 값만 허용하도록 제한할 수 있음음\n",
    "from typing import Annotated, Literal, TypedDict\n",
    "from langchain_core.messages import HumanMessage\n",
    "from langchain_core.tools import tool\n",
    "from langgraph.graph import START, END, StateGraph, MessagesState\n",
    "\n",
    "# conditional edge 함수수\n",
    "def should_continue(state: MessagesState) -> Literal[\"tools\", END]:\n",
    "    messages = state['messages']\n",
    "    last_message = messages[-1]\n",
    "    if last_message.tool_calls:\n",
    "        return 'tools'\n",
    "    return END\n",
    "\n",
    "# model을 호출하는 노드드\n",
    "def call_model(state: MessagesState):\n",
    "    messages = state['messages']\n",
    "    response = model_with_tools.invoke(messages)\n",
    "    return {\"messages\" : [response]}\n",
    "\n",
    "workflow = StateGraph(MessagesState)\n",
    "\n",
    "workflow.add_node(\"agent\", call_model)\n",
    "workflow.add_node(\"tools\", tool_node)\n",
    "\n",
    "workflow.add_edge(START, \"agent\")\n",
    "\n",
    "# conditional edge 추가\n",
    "workflow.add_conditional_edges(\n",
    "    \"agent\",\n",
    "    should_continue,\n",
    ")\n",
    "\n",
    "workflow.add_edge(\"tools\", \"agent\")\n",
    "\n",
    "app = workflow.compile()"
   ]
  },
  {
   "cell_type": "code",
   "execution_count": 28,
   "metadata": {},
   "outputs": [
    {
     "data": {
      "image/png": "[encoded data removed]",
      "text/plain": [
       "<IPython.core.display.Image object>"
      ]
     },
     "metadata": {},
     "output_type": "display_data"
    }
   ],
   "source": [
    "from IPython.display import Image, display\n",
    "\n",
    "try :\n",
    "    display(Image(app.get_graph().draw_mermaid_png()))\n",
    "except Exception as e:\n",
    "    pass"
   ]
  },
  {
   "cell_type": "code",
   "execution_count": 29,
   "metadata": {},
   "outputs": [
    {
     "data": {
      "text/plain": [
       "'서울의 날씨는 60도(약 15도)이며 안개가 낀 상태입니다.'"
      ]
     },
     "execution_count": 29,
     "metadata": {},
     "output_type": "execute_result"
    }
   ],
   "source": [
    "final_state = app.invoke(\n",
    "    {\"messages\" : [HumanMessage(content=\"서울의 날씨는 어때?\")]}\n",
    ")\n",
    "\n",
    "final_state['messages'][-1].content"
   ]
  },
  {
   "cell_type": "code",
   "execution_count": 31,
   "metadata": {},
   "outputs": [
    {
     "name": "stdout",
     "output_type": "stream",
     "text": [
      "================================\u001b[1m Human Message \u001b[0m=================================\n",
      "\n",
      "가장 추운 도시의 날씨는 어때?\n",
      "==================================\u001b[1m Ai Message \u001b[0m==================================\n",
      "Tool Calls:\n",
      "  get_coolest_cities (call_nrK57NI3RRREQYlpc0BStjo7)\n",
      " Call ID: call_nrK57NI3RRREQYlpc0BStjo7\n",
      "  Args:\n",
      "=================================\u001b[1m Tool Message \u001b[0m=================================\n",
      "Name: get_coolest_cities\n",
      "\n",
      "서울, 고성\n",
      "==================================\u001b[1m Ai Message \u001b[0m==================================\n",
      "Tool Calls:\n",
      "  get_weather (call_3aITF52H45yFmRRKseytGVPW)\n",
      " Call ID: call_3aITF52H45yFmRRKseytGVPW\n",
      "  Args:\n",
      "    location: 서울\n",
      "  get_weather (call_YXdJov867sGGek3xOWCF0ayh)\n",
      " Call ID: call_YXdJov867sGGek3xOWCF0ayh\n",
      "  Args:\n",
      "    location: 고성\n",
      "=================================\u001b[1m Tool Message \u001b[0m=================================\n",
      "Name: get_weather\n",
      "\n",
      "It's 90 degrees and sunny\n",
      "==================================\u001b[1m Ai Message \u001b[0m==================================\n",
      "\n",
      "가장 추운 도시인 서울의 날씨는 60도(약 15도)로 안개가 끼어 있습니다. 고성의 날씨는 90도(약 32도)로 맑고 화창합니다.\n"
     ]
    }
   ],
   "source": [
    "for chunk in app.stream(\n",
    "    {\"messages\" : [(\"human\", \"가장 추운 도시의 날씨는 어때?\")]},\n",
    "    stream_mode = \"values\"\n",
    "):\n",
    "    chunk['messages'][-1].pretty_print()"
   ]
  },
  {
   "cell_type": "markdown",
   "metadata": {},
   "source": [
    "## 인터넷 검색 Tool을 결합한 에이전트"
   ]
  },
  {
   "cell_type": "code",
   "execution_count": 3,
   "metadata": {},
   "outputs": [],
   "source": [
    "from typing import Annotated\n",
    "from typing_extensions import TypedDict\n",
    "from langgraph.graph.message import add_messages\n",
    "\n",
    "class State(TypedDict):\n",
    "    messages : Annotated[list, add_messages]"
   ]
  },
  {
   "cell_type": "code",
   "execution_count": 4,
   "metadata": {},
   "outputs": [],
   "source": [
    "from langchain_community.tools.tavily_search import TavilySearchResults\n",
    "from langgraph.prebuilt import ToolNode, tools_condition\n",
    "\n",
    "# ToolNode -> 사용자가 정의한 Tool을 Node로 활용할 수 있도록 미리 구현해놓은 클래스\n",
    "tool = TavilySearchResults(max_results=2)\n",
    "tools = [tool]\n",
    "tool_node = ToolNode(tools)"
   ]
  },
  {
   "cell_type": "code",
   "execution_count": 13,
   "metadata": {},
   "outputs": [],
   "source": [
    "# Agent 설정\n",
    "from langchain_openai import ChatOpenAI\n",
    "\n",
    "agent = ChatOpenAI(\n",
    "    model = 'gpt-4o-mini',\n",
    "    temperature = 0,\n",
    ")\n",
    "agent_with_tools = agent.bind_tools(tools)\n",
    "\n",
    "# Agent node 설정\n",
    "def chatbot(state : State):\n",
    "    response = agent_with_tools.invoke(state['messages'])\n",
    "    return {\"messages\" : [response]}"
   ]
  },
  {
   "cell_type": "code",
   "execution_count": 14,
   "metadata": {},
   "outputs": [],
   "source": [
    "# 그래프 구축\n",
    "from langgraph.graph import StateGraph\n",
    "\n",
    "graph_builder = StateGraph(State)\n",
    "\n",
    "graph_builder.add_node(\"chatbot\", chatbot)\n",
    "graph_builder.add_node(\"tools\", tool_node)\n",
    "\n",
    "graph_builder.add_edge(\"tools\", \"chatbot\")\n",
    "graph_builder.add_conditional_edges(\"chatbot\", tools_condition) # tools_condition : tools를 사용할지 말지 결정하는 함수\n",
    "\n",
    "graph_builder.set_entry_point(\"chatbot\")\n",
    "\n",
    "graph = graph_builder.compile()"
   ]
  },
  {
   "cell_type": "code",
   "execution_count": null,
   "metadata": {},
   "outputs": [
    {
     "data": {
      "text/plain": [
       "{'messages': [HumanMessage(content='지금 한국 대통령은 누구야?', additional_kwargs={}, response_metadata={}, id='d8e51d71-a424-48e9-943d-6f086b4d8bad'),\n",
       "  AIMessage(content='', additional_kwargs={'tool_calls': [{'id': 'call_wNX7w5j8rdAOBy11hAid304r', 'function': {'arguments': '{\"query\":\"현재 한국 대통령\"}', 'name': 'tavily_search_results_json'}, 'type': 'function'}], 'refusal': None}, response_metadata={'token_usage': {'completion_tokens': 21, 'prompt_tokens': 87, 'total_tokens': 108, 'completion_tokens_details': {'accepted_prediction_tokens': 0, 'audio_tokens': 0, 'reasoning_tokens': 0, 'rejected_prediction_tokens': 0}, 'prompt_tokens_details': {'audio_tokens': 0, 'cached_tokens': 0}}, 'model_name': 'gpt-4o-mini-2024-07-18', 'system_fingerprint': 'fp_d02d531b47', 'finish_reason': 'tool_calls', 'logprobs': None}, id='run-6504b53a-3f0a-471f-8c49-a2626471ecbe-0', tool_calls=[{'name': 'tavily_search_results_json', 'args': {'query': '현재 한국 대통령'}, 'id': 'call_wNX7w5j8rdAOBy11hAid304r', 'type': 'tool_call'}], usage_metadata={'input_tokens': 87, 'output_tokens': 21, 'total_tokens': 108, 'input_token_details': {'audio': 0, 'cache_read': 0}, 'output_token_details': {'audio': 0, 'reasoning': 0}}),\n",
       "  ToolMessage(content='[{\"url\": \"https://namu.wiki/w/대한민국+대통령\", \"content\": \"대한민국 대통령은 대한민국의 대통령 기관(機關)·직위(職位) 및 이를 수행하는 인물을 가리킨다. 대한민국의 현직 대통령은 제20대 윤석열이며, 임기는 2022년 5월 10일부터 2027년 5월 9일까지이다. 다만 2024년 12월 14일 부터는 같은 날에 열린 윤석열 대통령 탄핵소추안이 가결되어 윤석열 대통령의\"}, {\"url\": \"https://ko.wikipedia.org/wiki/대한민국의_대통령_목록\", \"content\": \"개인 도구 대한민국의 대통령 목록 도구 위키백과, 우리 모두의 백과사전. 제9차 개헌 이후의 현행 헌법에 따라 대통령의 임기는 5년이며 중임할 수 없지만,[1] 제9차 개헌 이전의 여러 헌법에서는 대통령의 임기가 고정되지 않았으며, 그로 인해 대통령직을 수행한 개인과 대통령 임기의 대수가 불일치하게 되었다. (생몰년)   정당  대[b]    임기  선거 / 득표율[5] ↑ 가 나 2016년 헌법에 위배되는 박근혜-최순실 게이트, 비선실세 의혹, 대기업 뇌물 의혹 등을 사유로 박근혜에 대한 탄핵소추안이 국회에서 가결되었고, 대통령 권한이 정지되어 황교안 국무총리가 권한대행을 맡았다.[27] 결과적으로 2017년 3월 10일 박근혜는 헌법재판소에 의해 전원일치로 대통령직에서 파면되었다.[28][29] ↑ 허정 (1979). ↑ KBS 뉴스 (2004). ↑ KBS 뉴스 (2017). ↑ 중앙일보 후보자 정보 (윤석열). 14 김영삼15 김대중16 노무현17 이명박18 박근혜19 문재인20 윤석열 대한민국의 대통령과 3부요인 및 헌법기관장 분류: 알찬 목록 후보 문서대한민국의 대통령대한민국 정치에 관한 목록대통령 목록대한민국 사람 목록 위키백과 소개\"}, {\"url\": \"https://www.president.go.kr/\", \"content\": \"글자크기 설정\\\\n대한민국 대통령\\\\n대통령실\\\\n국정과제\\\\n대통령실 뉴스룸\\\\n정보공개\\\\n국민제안\\\\n메인 기사\\\\n\\\\\"국제사회가 직면한 도전을 극복하고 보다 자유롭고\\\\n번영할 수 있도록 한국과 영국이 긴밀히 협력해야\\\\\"\\\\n“한국과 영국이 세계 평화와 번영을 함께\\\\n리드해 나가는 지도력을 발휘할 수 있게 되기를 기대”\\\\n\\\\\"대한민국 정부는 과학기술 협력 파트너로서\\\\n영국과의 공고한 연대를 제안하고, 희망하고 있어\\\\\"\\\\n\\\\\"오늘 한영 FTA 개선협상 개시 선언...\\\\n양국 기업들이 마음껏 뛸 수 있는 운동장을 만들고, 함께 세계시장을 선도해 갈 것\\\\\"\\\\n\\\\\"한국과 영국은 피를 나눈 혈맹의 동지... 보편적 가치에 기반해 영국과 함께 전 세계의 자유 평화 번영 미래를 향해 협력할 것\\\\\"\\\\n\\\\\"도전을 기회로 바꿔줄 양국의 우정\\\\\"\\\\n\\\\\"기후위기는 지속 가능한 미래를 위한 가장 시급한 과제..\\\\n 대화... 글로벌 연구 협력과 교류에 대한 우리 정부의 지원의지 표명\\\\n윤석열 대통령, 한-영 최고과학자 과학기술 미래포럼 참석 관련 이도운 대변인 서면 브리핑\\\\n브리핑\\\\n2023.11.22\\\\n尹 대통령, 영국 노동당 당수 접견\\\\n보도자료\\\\n2023.11.22\\\\n한영 정상회담 결과\\\\n보도자료\\\\n2023.11.22\\\\n정책에 대한 오해, 불충분한 설명을 대통령실이 직접 바로잡아 알려드립니다.\\\\n 순방외교 국익 효과 검증 필요?\\\\n\\\\\"역대 최대 외국인직접투자 실적, UAE 300억 달러 투자 결심, 반도체 수출 리스크 해소 등 성과 달성\\\\\"\\\\n2023.10.10\\\\n미국 정부 도감청 의혹?\\\\n\\\\\"청와대보다 훨씬 강화된 도감청 방지 시스템 운용 중\\\\\"\\\\n2023.04.11\\\\n日 후쿠시마산 수산물 타협?\\\\n\\\\\"후쿠시마산 수산물 국내 들어올 일 없어\\\\\"\\\\n2023.03.31\\\\n日 후쿠시마산 수산물 수입?\\\\n 대한민국은 기후격차 해소에 책임있게 기여해 나갈 것\\\\\"\\\\n\\\\\"2030년 부산 엑스포...경쟁의 논리에서 연대의 가치로\\\\n관점을 전환한 엑스포로 기억될 것\\\\\"\\\\nAPEC 정상회의 참석을 위한 미국 샌프란시스코 방문\\\\n\\\\\"기후위기는 지속 가능한 미래를 위한 가장 시급한 과제.. 대한민국은 기후격차 해소에 책임있게 기여해 나갈 것\\\\\"\\\\nAPEC이 조기경보시스템 출국 [서울공항 출발행사]\\\\n미국 샌프란시스코 APEC 정상회의 참석\\\\n브리핑룸\\\\n국민과 소통하는\\\\n대통령실 브리핑룸입니다.\\\\n\"}, {\"url\": \"https://blog.naver.com/PostView.nhn?blogId=akmaabt&logNo=223188041024\", \"content\": \"헨리의 하루공부\\\\n블로그\\\\n역대 대한민국 대통령 순서 및 업적 총정리\\\\n며칠 전 광복절을 맞아 대한민국이 건국되고 많은 호국 열사 분들의 희생에 많은 분들이 감사함을 느끼며 역대 대통령분들을 회상하는 시간을 가져보았으리라 생각합니다.\\\\n\\u200b\\\\n오늘은 보다 깊게 알고 싶어 하시는 분들을 위해 역대 대한민국 대통령 순서 정리와 업적, 별칭 등의 작성자 이외의 방문자에게는 이용이 제한되었습니다.\\\\n{ALERTMESSAGE}\\\\n이용제한 파일 : {FILENAME}\\\\n네이버는 블로그를 통해 저작물이 무단으로 공유되는 것을 막기 위해,\\\\n저작권을 침해하는 컨텐츠가 포함되어 있는 게시물의 경우 글보내기 기능을 제한하고 있습니다.\\\\n 2. 블로그 아이디는 한번 변경하면\\\\n다시 변경이 불가능합니다.\\\\n변경하시겠습니까?\\\\n블로그 아이디는 한번 정하면\\\\n다시 변경이 불가능합니다.\\\\n 대한민국 대통령 순서 5대 ~ 10대\\\\n5대 6대 7대 8대 9대 대통령 박정희\\\\n박정희 대통령은 우리나라 근대화에 큰 영향을 주었다는 긍정적인 평가와 더불어 군사독재 및 인권과 헌법유린 등 대한민국의 민주주의를 파괴하였다는 부정적인 평가도 존재합니다.\\\\n 이 아이디로 블로그를 만들까요?\\\\n환영합니다!\\\\n블로그 아이디가 만들어졌어요.\\\\n기본정보를 입력해주세요.\\\\n\"}, {\"url\": \"https://ko.wikipedia.org/wiki/대한민국의_대통령\", \"content\": \"역대 대통령 명단[편집]\\\\n역대 대통령 지지율[편집]\\\\n대통령의 특권[편집]\\\\n불소추특권[편집]\\\\n대통령은 형사상 특권을 갖고 있다. 제1항)\\\\n“대통령은 전시·사변 또는 이에 준하는 국가비상사태에 있어서 병력으로써 군사상의 필요에 응하거나 공공의 안녕질서를 유지할 필요가 있을 때에는 법률이 정하는 바에 의하여 계엄을 선포할 수 있다.”(헌법 제77조 제1항)\\\\n대통령은 국가와 헌법의 수호자로서 위헌정당해산제소권을 갖는다(헌법 제8조 제4항).\\\\n 권한 행사의 방법[편집]\\\\n사건[편집]\\\\n대통령의 선거중립의무준수요청 조치 사건[편집]\\\\n대통령의 선거중립의무 준수요청 조치 사건(2007헌마700)은 대통령의 선거중립의무 준수요청 등 조치 취소에 대한 헌법재판소 결정례이다.\\\\n 권한도 부여하고 있다.[12]\\\\n다만 이러한 사면권에 대하여 한계를 규정한 조문은 없지만, 일부 법학자는,\\\\n이와 같은 사면권의 한계를 주장하기도 한다.[13]\\\\n헌법기관 구성자의 지위[편집]\\\\n대통령은 헌법기관 구성자로서의 지위에서 헌법기관을 구성할 권한을 갖는다. 규정하고 있어 대통령의 국가와 헌법의 수호자로서의 지위와 한반도 통일 책무자로서의 지위를 명시하고 있다.[2]\\\\n대통령 선거[편집]\\\\n대통령으로 선출될 수 있는 자는 국회의원의 피선거권이 있고, 선거일 당일 40살에 달하여야 한다.\\\\n대통령의 선거 시기는 임기가 만료된 때와 궐위된 때로 나누어 규정하고 있다.\"}]', name='tavily_search_results_json', id='27d4436a-1d09-4e3c-a991-9f348e55f7a3', tool_call_id='call_wNX7w5j8rdAOBy11hAid304r', artifact={'query': '현재 한국 대통령', 'follow_up_questions': None, 'answer': None, 'images': [], 'results': [{'title': '대한민국 대통령 - 나무위키', 'url': 'https://namu.wiki/w/대한민국+대통령', 'content': '대한민국 대통령은 대한민국의 대통령 기관(機關)·직위(職位) 및 이를 수행하는 인물을 가리킨다. 대한민국의 현직 대통령은 제20대 윤석열이며, 임기는 2022년 5월 10일부터 2027년 5월 9일까지이다. 다만 2024년 12월 14일 부터는 같은 날에 열린 윤석열 대통령 탄핵소추안이 가결되어 윤석열 대통령의', 'score': 0.8201387, 'raw_content': None}, {'title': '대한민국의 대통령 목록 - 위키백과, 우리 모두의 백과사전', 'url': 'https://ko.wikipedia.org/wiki/대한민국의_대통령_목록', 'content': '개인 도구 대한민국의 대통령 목록 도구 위키백과, 우리 모두의 백과사전. 제9차 개헌 이후의 현행 헌법에 따라 대통령의 임기는 5년이며 중임할 수 없지만,[1] 제9차 개헌 이전의 여러 헌법에서는 대통령의 임기가 고정되지 않았으며, 그로 인해 대통령직을 수행한 개인과 대통령 임기의 대수가 불일치하게 되었다. (생몰년)   정당  대[b]    임기  선거 / 득표율[5] ↑ 가 나 2016년 헌법에 위배되는 박근혜-최순실 게이트, 비선실세 의혹, 대기업 뇌물 의혹 등을 사유로 박근혜에 대한 탄핵소추안이 국회에서 가결되었고, 대통령 권한이 정지되어 황교안 국무총리가 권한대행을 맡았다.[27] 결과적으로 2017년 3월 10일 박근혜는 헌법재판소에 의해 전원일치로 대통령직에서 파면되었다.[28][29] ↑ 허정 (1979). ↑ KBS 뉴스 (2004). ↑ KBS 뉴스 (2017). ↑ 중앙일보 후보자 정보 (윤석열). 14 김영삼15 김대중16 노무현17 이명박18 박근혜19 문재인20 윤석열 대한민국의 대통령과 3부요인 및 헌법기관장 분류: 알찬 목록 후보 문서대한민국의 대통령대한민국 정치에 관한 목록대통령 목록대한민국 사람 목록 위키백과 소개', 'score': 0.6959795, 'raw_content': None}, {'title': '대한민국 대통령실', 'url': 'https://www.president.go.kr/', 'content': '글자크기 설정\\n대한민국 대통령\\n대통령실\\n국정과제\\n대통령실 뉴스룸\\n정보공개\\n국민제안\\n메인 기사\\n\"국제사회가 직면한 도전을 극복하고 보다 자유롭고\\n번영할 수 있도록 한국과 영국이 긴밀히 협력해야\"\\n“한국과 영국이 세계 평화와 번영을 함께\\n리드해 나가는 지도력을 발휘할 수 있게 되기를 기대”\\n\"대한민국 정부는 과학기술 협력 파트너로서\\n영국과의 공고한 연대를 제안하고, 희망하고 있어\"\\n\"오늘 한영 FTA 개선협상 개시 선언...\\n양국 기업들이 마음껏 뛸 수 있는 운동장을 만들고, 함께 세계시장을 선도해 갈 것\"\\n\"한국과 영국은 피를 나눈 혈맹의 동지... 보편적 가치에 기반해 영국과 함께 전 세계의 자유 평화 번영 미래를 향해 협력할 것\"\\n\"도전을 기회로 바꿔줄 양국의 우정\"\\n\"기후위기는 지속 가능한 미래를 위한 가장 시급한 과제..\\n 대화... 글로벌 연구 협력과 교류에 대한 우리 정부의 지원의지 표명\\n윤석열 대통령, 한-영 최고과학자 과학기술 미래포럼 참석 관련 이도운 대변인 서면 브리핑\\n브리핑\\n2023.11.22\\n尹 대통령, 영국 노동당 당수 접견\\n보도자료\\n2023.11.22\\n한영 정상회담 결과\\n보도자료\\n2023.11.22\\n정책에 대한 오해, 불충분한 설명을 대통령실이 직접 바로잡아 알려드립니다.\\n 순방외교 국익 효과 검증 필요?\\n\"역대 최대 외국인직접투자 실적, UAE 300억 달러 투자 결심, 반도체 수출 리스크 해소 등 성과 달성\"\\n2023.10.10\\n미국 정부 도감청 의혹?\\n\"청와대보다 훨씬 강화된 도감청 방지 시스템 운용 중\"\\n2023.04.11\\n日 후쿠시마산 수산물 타협?\\n\"후쿠시마산 수산물 국내 들어올 일 없어\"\\n2023.03.31\\n日 후쿠시마산 수산물 수입?\\n 대한민국은 기후격차 해소에 책임있게 기여해 나갈 것\"\\n\"2030년 부산 엑스포...경쟁의 논리에서 연대의 가치로\\n관점을 전환한 엑스포로 기억될 것\"\\nAPEC 정상회의 참석을 위한 미국 샌프란시스코 방문\\n\"기후위기는 지속 가능한 미래를 위한 가장 시급한 과제.. 대한민국은 기후격차 해소에 책임있게 기여해 나갈 것\"\\nAPEC이 조기경보시스템 출국 [서울공항 출발행사]\\n미국 샌프란시스코 APEC 정상회의 참석\\n브리핑룸\\n국민과 소통하는\\n대통령실 브리핑룸입니다.\\n', 'score': 0.5164741, 'raw_content': None}, {'title': '역대 대한민국 대통령 순서 및 업적 총정리 : 네이버 블로그', 'url': 'https://blog.naver.com/PostView.nhn?blogId=akmaabt&logNo=223188041024', 'content': '헨리의 하루공부\\n블로그\\n역대 대한민국 대통령 순서 및 업적 총정리\\n며칠 전 광복절을 맞아 대한민국이 건국되고 많은 호국 열사 분들의 희생에 많은 분들이 감사함을 느끼며 역대 대통령분들을 회상하는 시간을 가져보았으리라 생각합니다.\\n\\u200b\\n오늘은 보다 깊게 알고 싶어 하시는 분들을 위해 역대 대한민국 대통령 순서 정리와 업적, 별칭 등의 작성자 이외의 방문자에게는 이용이 제한되었습니다.\\n{ALERTMESSAGE}\\n이용제한 파일 : {FILENAME}\\n네이버는 블로그를 통해 저작물이 무단으로 공유되는 것을 막기 위해,\\n저작권을 침해하는 컨텐츠가 포함되어 있는 게시물의 경우 글보내기 기능을 제한하고 있습니다.\\n 2. 블로그 아이디는 한번 변경하면\\n다시 변경이 불가능합니다.\\n변경하시겠습니까?\\n블로그 아이디는 한번 정하면\\n다시 변경이 불가능합니다.\\n 대한민국 대통령 순서 5대 ~ 10대\\n5대 6대 7대 8대 9대 대통령 박정희\\n박정희 대통령은 우리나라 근대화에 큰 영향을 주었다는 긍정적인 평가와 더불어 군사독재 및 인권과 헌법유린 등 대한민국의 민주주의를 파괴하였다는 부정적인 평가도 존재합니다.\\n 이 아이디로 블로그를 만들까요?\\n환영합니다!\\n블로그 아이디가 만들어졌어요.\\n기본정보를 입력해주세요.\\n', 'score': 0.46614134, 'raw_content': None}, {'title': '대한민국의 대통령 - 위키백과, 우리 모두의 백과사전', 'url': 'https://ko.wikipedia.org/wiki/대한민국의_대통령', 'content': '역대 대통령 명단[편집]\\n역대 대통령 지지율[편집]\\n대통령의 특권[편집]\\n불소추특권[편집]\\n대통령은 형사상 특권을 갖고 있다. 제1항)\\n“대통령은 전시·사변 또는 이에 준하는 국가비상사태에 있어서 병력으로써 군사상의 필요에 응하거나 공공의 안녕질서를 유지할 필요가 있을 때에는 법률이 정하는 바에 의하여 계엄을 선포할 수 있다.”(헌법 제77조 제1항)\\n대통령은 국가와 헌법의 수호자로서 위헌정당해산제소권을 갖는다(헌법 제8조 제4항).\\n 권한 행사의 방법[편집]\\n사건[편집]\\n대통령의 선거중립의무준수요청 조치 사건[편집]\\n대통령의 선거중립의무 준수요청 조치 사건(2007헌마700)은 대통령의 선거중립의무 준수요청 등 조치 취소에 대한 헌법재판소 결정례이다.\\n 권한도 부여하고 있다.[12]\\n다만 이러한 사면권에 대하여 한계를 규정한 조문은 없지만, 일부 법학자는,\\n이와 같은 사면권의 한계를 주장하기도 한다.[13]\\n헌법기관 구성자의 지위[편집]\\n대통령은 헌법기관 구성자로서의 지위에서 헌법기관을 구성할 권한을 갖는다. 규정하고 있어 대통령의 국가와 헌법의 수호자로서의 지위와 한반도 통일 책무자로서의 지위를 명시하고 있다.[2]\\n대통령 선거[편집]\\n대통령으로 선출될 수 있는 자는 국회의원의 피선거권이 있고, 선거일 당일 40살에 달하여야 한다.\\n대통령의 선거 시기는 임기가 만료된 때와 궐위된 때로 나누어 규정하고 있다.', 'score': 0.3620896, 'raw_content': None}], 'response_time': 2.17}),\n",
       "  AIMessage(content='현재 대한민국의 대통령은 윤석열입니다. 그는 제20대 대통령으로, 2022년 5월 10일부터 임기를 시작하여 2027년 5월 9일까지 재임할 예정입니다. 더 자세한 정보는 [여기](https://namu.wiki/w/대한민국+대통령)에서 확인할 수 있습니다.', additional_kwargs={'refusal': None}, response_metadata={'token_usage': {'completion_tokens': 78, 'prompt_tokens': 2247, 'total_tokens': 2325, 'completion_tokens_details': {'accepted_prediction_tokens': 0, 'audio_tokens': 0, 'reasoning_tokens': 0, 'rejected_prediction_tokens': 0}, 'prompt_tokens_details': {'audio_tokens': 0, 'cached_tokens': 0}}, 'model_name': 'gpt-4o-mini-2024-07-18', 'system_fingerprint': 'fp_0aa8d3e20b', 'finish_reason': 'stop', 'logprobs': None}, id='run-dd3fb8f5-5eef-4d15-9325-1c8003bb7bdf-0', usage_metadata={'input_tokens': 2247, 'output_tokens': 78, 'total_tokens': 2325, 'input_token_details': {'audio': 0, 'cache_read': 0}, 'output_token_details': {'audio': 0, 'reasoning': 0}})]}"
      ]
     },
     "execution_count": 15,
     "metadata": {},
     "output_type": "execute_result"
    }
   ],
   "source": [
    "# Tool을 사용하는 질문문\n",
    "graph.invoke({\n",
    "    \"messages\" : {\n",
    "        \"role\" : \"user\",\n",
    "        \"content\" : \"지금 한국 대통령은 누구야?\"\n",
    "    }\n",
    "})"
   ]
  },
  {
   "cell_type": "code",
   "execution_count": 16,
   "metadata": {},
   "outputs": [
    {
     "data": {
      "text/plain": [
       "{'messages': [HumanMessage(content='마이크로소프트가 어떤 회사야?', additional_kwargs={}, response_metadata={}, id='221b4a8d-5e3f-4050-b0e5-5c6570abe4b6'),\n",
       "  AIMessage(content='마이크로소프트(Microsoft)는 미국의 다국적 기술 회사로, 소프트웨어, 하드웨어, 전자기기 및 서비스 분야에서 활동하고 있습니다. 1975년에 빌 게이츠와 폴 앨런에 의해 설립되었으며, 본사는 워싱턴주 레드먼드에 위치하고 있습니다.\\n\\n마이크로소프트는 다음과 같은 주요 제품과 서비스를 제공합니다:\\n\\n1. **운영 체제**: Windows 시리즈는 개인용 컴퓨터와 서버에서 널리 사용되는 운영 체제입니다.\\n2. **소프트웨어**: Microsoft Office 제품군(Word, Excel, PowerPoint 등)은 비즈니스 및 개인용으로 많이 사용됩니다.\\n3. **클라우드 서비스**: Azure는 마이크로소프트의 클라우드 컴퓨팅 플랫폼으로, 기업들이 데이터 저장, 분석 및 애플리케이션 호스팅을 할 수 있도록 지원합니다.\\n4. **하드웨어**: Surface 시리즈의 태블릿과 노트북, Xbox 게임 콘솔 등 다양한 하드웨어 제품을 제조합니다.\\n5. **게임**: Xbox 게임 스튜디오와 다양한 게임 타이틀을 통해 게임 산업에서도 큰 영향력을 미치고 있습니다.\\n\\n마이크로소프트는 기술 혁신과 사회적 책임을 강조하며, 인공지능, 클라우드 컴퓨팅, 그리고 다양한 디지털 솔루션을 통해 전 세계적으로 많은 기업과 개인에게 서비스를 제공하고 있습니다.', additional_kwargs={'refusal': None}, response_metadata={'token_usage': {'completion_tokens': 316, 'prompt_tokens': 89, 'total_tokens': 405, 'completion_tokens_details': {'accepted_prediction_tokens': 0, 'audio_tokens': 0, 'reasoning_tokens': 0, 'rejected_prediction_tokens': 0}, 'prompt_tokens_details': {'audio_tokens': 0, 'cached_tokens': 0}}, 'model_name': 'gpt-4o-mini-2024-07-18', 'system_fingerprint': 'fp_0aa8d3e20b', 'finish_reason': 'stop', 'logprobs': None}, id='run-e697a998-a272-4494-8c7c-627c8adcd5f4-0', usage_metadata={'input_tokens': 89, 'output_tokens': 316, 'total_tokens': 405, 'input_token_details': {'audio': 0, 'cache_read': 0}, 'output_token_details': {'audio': 0, 'reasoning': 0}})]}"
      ]
     },
     "execution_count": 16,
     "metadata": {},
     "output_type": "execute_result"
    }
   ],
   "source": [
    "# Tool을 사용하지 않는 질문문\n",
    "graph.invoke({\n",
    "    \"messages\" : {\n",
    "        \"role\" : \"user\",\n",
    "        \"content\" : \"마이크로소프트가 어떤 회사야?\"\n",
    "    }\n",
    "})"
   ]
  },
  {
   "cell_type": "markdown",
   "metadata": {},
   "source": [
    "# Agent에게 기억력 부여하기"
   ]
  },
  {
   "cell_type": "code",
   "execution_count": 19,
   "metadata": {},
   "outputs": [],
   "source": [
    "from typing import Annotated\n",
    "from typing_extensions import TypedDict\n",
    "from langgraph.graph.message import add_messages\n",
    "\n",
    "from langchain_community.tools.tavily_search import TavilySearchResults\n",
    "from langgraph.prebuilt import ToolNode, tools_condition\n",
    "from langchain_openai import ChatOpenAI\n",
    "from langgraph.graph import StateGraph\n",
    "\n",
    "from langgraph.checkpoint.memory import MemorySaver\n",
    "\n",
    "# 인메모리 상에서 기억력이 유지되게끔 함\n",
    "# 실제로 저장소를 구축하고 싶다면 -> SQLLitMemorySaver 등등 과 같은 것을 사용해야함\n",
    "memory = MemorySaver()\n",
    "\n",
    "class State(TypedDict):\n",
    "    messages : Annotated[list, add_messages]\n",
    "\n",
    "tool = TavilySearchResults(max_results=2)\n",
    "tools = [tool]\n",
    "tool_node = ToolNode(tools)\n",
    "\n",
    "model = ChatOpenAI(model=\"gpt-4o-mini\")\n",
    "model_with_tools = model.bind_tools(tools)\n",
    "\n",
    "def agent_node(state: State):\n",
    "    response = model_with_tools.invoke(state['messages'])\n",
    "    return {'messages' : [response]}\n",
    "\n",
    "\n",
    "graph_builder = StateGraph(State)\n",
    "\n",
    "graph_builder.add_node(\"agent\", agent_node)\n",
    "graph_builder.add_node(\"tools\", tool_node)\n",
    "\n",
    "graph_builder.add_edge(\"tools\", \"agent\")\n",
    "graph_builder.add_conditional_edges(\"agent\", tools_condition)\n",
    "\n",
    "graph_builder.set_entry_point(\"agent\")\n",
    "\n",
    "graph = graph_builder.compile(checkpointer=memory)"
   ]
  },
  {
   "cell_type": "code",
   "execution_count": 23,
   "metadata": {},
   "outputs": [
    {
     "name": "stdout",
     "output_type": "stream",
     "text": [
      "Assistant :  현재 대한민국의 대통령은 윤석열입니다.\n",
      "Assistant :  \n",
      "Assistant :  [{\"url\": \"https://www.bbc.com/korean/articles/cge9n1r5v50o\", \"content\": \"윤석열 대통령 2차 탄핵안 14일 표결, 지난주와 상황이 달라졌다 - BBC News 코리아 윤석열 대통령 2차 탄핵 표결, 상황이 달라졌다 윤석열 대통령 '탄핵하든 수사하든 맞서겠다'2024년 12월 12일 윤 대통령 탄핵 '가결' 되면 '리더십 공백' 대안은?2024년 12월 11일 윤석열 대통령 2차 탄핵안 통과될 가능성은?2024년 12월 11일 이날 오전 12·3 비상계엄 해제 후 윤석열 대통령의 두 번째 대국민 담화가 방송돼 탄핵 표결에 영향을 줄지도 주목된다. 윤 대통령은 지난 7일 대국민 담화에서 \\\"저의 임기 포함해 앞으로 정국 안정 방안은 우리 당에 일임하겠다\\\"라며 \\\"향후 국정 운영은 우리 당과 정부가 함께 책임지고 해 나가겠다\\\"라고 밝혔다. 윤석열 대통령 2차 탄핵 표결, 상황이 달라졌다 윤 대통령 탄핵 '가결' 되면 '리더십 공백' 대안은? 윤석열 대통령 2차 탄핵 표결, 상황이 달라졌다 윤 대통령 탄핵 '가결' 되면 '리더십 공백' 대안은?\"}, {\"url\": \"https://www.bbc.com/korean/articles/cdekn42885ro\", \"content\": \"사진 설명, 윤석열 한국 대통령의 계엄령 선포는 한국인과 전 세계를 놀라게 했다 지난 2022년 근소한 차이로 당선된 윤 대통령은 지난 4월 대통령에 대한 중간평가로 여겨지는 국회의원 선거에서 패배한 이후 이미 큰 압박을 받으며 지지율 하락을 겪고 있었다. 조지워싱턴대 ‘한국 재단’ 소장인 셀레스트 애링턴 교수는 해당 총선 결과로 인해 윤 대통령은 레임덕으로 전락하며 통과된 법안에 거부권을 행사하는 식으로 밖에 영향력을 행사할 수 없었다며, 이러한 거부권 행사도 “전례 없는 빈도”로 자주 이용했다고 설명했다. 한편 이화여대 국제학부의 레이프 에릭 이슬리 교수는 윤 대통령의 계엄령 선포는 “법적으로 도를 넘는 행위이자 정치적 오산”이라고 지적했다. 윤 대통령의 계엄령 발표는 한국의 동맹국들을 당혹스럽게 했다. 그러나 윤 대통령이 어떻게 행동하기로 선택하든, 그의 졸속 계엄령 선포는 안 그래도 위태롭게 흔들리고 있던 그의 자리를 무너뜨리는 마지막 한 방이 될 수도 있다.\"}]\n",
      "Assistant :  최근 윤석열 대통령과 관련된 주요 이슈는 다음과 같습니다:\n",
      "\n",
      "1. **2차 탄핵안 표결**: 윤석열 대통령에 대한 두 번째 탄핵안이 2024년 12월 14일에 표결될 예정입니다. 대통령은 \"저의 임기 포함해 앞으로 정국 안정 방안은 우리 당에 일임하겠다\"며, 향후 국정 운영은 당과 정부가 함께 책임지고 해나가겠다고 밝혔습니다. 이 탄핵안이 가결될 경우 리더십 공백이 우려되고 있습니다. [자세한 내용](https://www.bbc.com/korean/articles/cge9n1r5v50o)에서 확인할 수 있습니다.\n",
      "\n",
      "2. **계엄령 선포**: 윤 대통령의 계엄령 선포는 국내외에서 큰 논란을 일으켰습니다. 이는 정치적 오산으로 평가되며, 그의 지지율 하락과 관련된 압박이 커지고 있는 상황에서 발생했습니다. 일부 전문가들은 이 조치가 그의 정치적 위치를 더욱 위태롭게 만들 수 있다고 경고하고 있습니다. [자세한 내용](https://www.bbc.com/korean/articles/cdekn42885ro)에서 확인할 수 있습니다.\n",
      "\n",
      "이와 같은 이슈들은 윤석열 대통령의 정치적 입지와 국정 운영에 큰 영향을 미치고 있습니다.\n",
      "Assistant :  당신이 처음 했던 질문은 \"대한민국 대통령은 누구야?\"였습니다.\n",
      "Goodbye!\n"
     ]
    }
   ],
   "source": [
    "config = {'configurable' : {\"thread_id\" : \"1\"}} # thread_id `1`에 대화가 유지되도록 설정정\n",
    "\n",
    "while True:\n",
    "    user_input = input(\"User : \")\n",
    "    if user_input.lower() in ['quit', 'exit', 'q']:\n",
    "        print(\"Goodbye!\")\n",
    "        break\n",
    "    for event in graph.stream({\"messages\" : (\"user\", user_input)}, config):\n",
    "        for value in event.values():\n",
    "            print(\"Assistant : \", value['messages'][-1].content)"
   ]
  },
  {
   "cell_type": "code",
   "execution_count": 24,
   "metadata": {},
   "outputs": [
    {
     "data": {
      "text/plain": [
       "StateSnapshot(values={'messages': [HumanMessage(content='대한민국 대통령은 누구야?', additional_kwargs={}, response_metadata={}, id='e075756f-f556-4253-a96f-440b6f90fe55'), AIMessage(content='', additional_kwargs={'tool_calls': [{'id': 'call_kS1aQdAIOWXV2jm2XCEbr2av', 'function': {'arguments': '{\"query\":\"현재 대한민국 대통령\"}', 'name': 'tavily_search_results_json'}, 'type': 'function'}], 'refusal': None}, response_metadata={'token_usage': {'completion_tokens': 21, 'prompt_tokens': 86, 'total_tokens': 107, 'completion_tokens_details': {'accepted_prediction_tokens': 0, 'audio_tokens': 0, 'reasoning_tokens': 0, 'rejected_prediction_tokens': 0}, 'prompt_tokens_details': {'audio_tokens': 0, 'cached_tokens': 0}}, 'model_name': 'gpt-4o-mini-2024-07-18', 'system_fingerprint': 'fp_0aa8d3e20b', 'finish_reason': 'tool_calls', 'logprobs': None}, id='run-1f45bf02-8e81-4a37-be63-0012aa2ce746-0', tool_calls=[{'name': 'tavily_search_results_json', 'args': {'query': '현재 대한민국 대통령'}, 'id': 'call_kS1aQdAIOWXV2jm2XCEbr2av', 'type': 'tool_call'}], usage_metadata={'input_tokens': 86, 'output_tokens': 21, 'total_tokens': 107, 'input_token_details': {'audio': 0, 'cache_read': 0}, 'output_token_details': {'audio': 0, 'reasoning': 0}}), ToolMessage(content='[{\"url\": \"https://namu.wiki/w/대한민국+대통령\", \"content\": \"대한민국 대통령은 대한민국의 대통령 기관(機關)·직위(職位) 및 이를 수행하는 인물을 가리킨다. 대한민국의 현직 대통령은 제20대 윤석열이며, 임기는 2022년 5월 10일부터 2027년 5월 9일까지이다. 다만 2024년 12월 14일 부터는 같은 날에 열린 윤석열 대통령 탄핵소추안이 가결되어 윤석열 대통령의\"}, {\"url\": \"https://ko.wikipedia.org/wiki/대한민국의_대통령_목록\", \"content\": \"개인 도구 대한민국의 대통령 목록 도구 위키백과, 우리 모두의 백과사전. 제9차 개헌 이후의 현행 헌법에 따라 대통령의 임기는 5년이며 중임할 수 없지만,[1] 제9차 개헌 이전의 여러 헌법에서는 대통령의 임기가 고정되지 않았으며, 그로 인해 대통령직을 수행한 개인과 대통령 임기의 대수가 불일치하게 되었다. (생몰년)   정당  대[b]    임기  선거 / 득표율[5] ↑ 가 나 2016년 헌법에 위배되는 박근혜-최순실 게이트, 비선실세 의혹, 대기업 뇌물 의혹 등을 사유로 박근혜에 대한 탄핵소추안이 국회에서 가결되었고, 대통령 권한이 정지되어 황교안 국무총리가 권한대행을 맡았다.[27] 결과적으로 2017년 3월 10일 박근혜는 헌법재판소에 의해 전원일치로 대통령직에서 파면되었다.[28][29] ↑ 허정 (1979). ↑ KBS 뉴스 (2004). ↑ KBS 뉴스 (2017). ↑ 중앙일보 후보자 정보 (윤석열). 14 김영삼15 김대중16 노무현17 이명박18 박근혜19 문재인20 윤석열 대한민국의 대통령과 3부요인 및 헌법기관장 분류: 알찬 목록 후보 문서대한민국의 대통령대한민국 정치에 관한 목록대통령 목록대한민국 사람 목록 위키백과 소개\"}]', name='tavily_search_results_json', id='03ba5126-f726-448c-bb66-851a21f2f7ab', tool_call_id='call_kS1aQdAIOWXV2jm2XCEbr2av', artifact={'query': '현재 대한민국 대통령', 'follow_up_questions': None, 'answer': None, 'images': [], 'results': [{'title': '대한민국 대통령 - 나무위키', 'url': 'https://namu.wiki/w/대한민국+대통령', 'content': '대한민국 대통령은 대한민국의 대통령 기관(機關)·직위(職位) 및 이를 수행하는 인물을 가리킨다. 대한민국의 현직 대통령은 제20대 윤석열이며, 임기는 2022년 5월 10일부터 2027년 5월 9일까지이다. 다만 2024년 12월 14일 부터는 같은 날에 열린 윤석열 대통령 탄핵소추안이 가결되어 윤석열 대통령의', 'score': 0.8700796, 'raw_content': None}, {'title': '대한민국의 대통령 목록 - 위키백과, 우리 모두의 백과사전', 'url': 'https://ko.wikipedia.org/wiki/대한민국의_대통령_목록', 'content': '개인 도구 대한민국의 대통령 목록 도구 위키백과, 우리 모두의 백과사전. 제9차 개헌 이후의 현행 헌법에 따라 대통령의 임기는 5년이며 중임할 수 없지만,[1] 제9차 개헌 이전의 여러 헌법에서는 대통령의 임기가 고정되지 않았으며, 그로 인해 대통령직을 수행한 개인과 대통령 임기의 대수가 불일치하게 되었다. (생몰년)   정당  대[b]    임기  선거 / 득표율[5] ↑ 가 나 2016년 헌법에 위배되는 박근혜-최순실 게이트, 비선실세 의혹, 대기업 뇌물 의혹 등을 사유로 박근혜에 대한 탄핵소추안이 국회에서 가결되었고, 대통령 권한이 정지되어 황교안 국무총리가 권한대행을 맡았다.[27] 결과적으로 2017년 3월 10일 박근혜는 헌법재판소에 의해 전원일치로 대통령직에서 파면되었다.[28][29] ↑ 허정 (1979). ↑ KBS 뉴스 (2004). ↑ KBS 뉴스 (2017). ↑ 중앙일보 후보자 정보 (윤석열). 14 김영삼15 김대중16 노무현17 이명박18 박근혜19 문재인20 윤석열 대한민국의 대통령과 3부요인 및 헌법기관장 분류: 알찬 목록 후보 문서대한민국의 대통령대한민국 정치에 관한 목록대통령 목록대한민국 사람 목록 위키백과 소개', 'score': 0.75464433, 'raw_content': None}], 'response_time': 2.25}), AIMessage(content='현재 대한민국의 대통령은 윤석열입니다. 그의 임기는 2022년 5월 10일부터 2027년 5월 9일까지입니다. 자세한 내용은 [여기](https://namu.wiki/w/대한민국+대통령)에서 확인할 수 있습니다.', additional_kwargs={'refusal': None}, response_metadata={'token_usage': {'completion_tokens': 65, 'prompt_tokens': 636, 'total_tokens': 701, 'completion_tokens_details': {'accepted_prediction_tokens': 0, 'audio_tokens': 0, 'reasoning_tokens': 0, 'rejected_prediction_tokens': 0}, 'prompt_tokens_details': {'audio_tokens': 0, 'cached_tokens': 0}}, 'model_name': 'gpt-4o-mini-2024-07-18', 'system_fingerprint': 'fp_d02d531b47', 'finish_reason': 'stop', 'logprobs': None}, id='run-9e52344f-e314-429d-96c4-832ef519c148-0', usage_metadata={'input_tokens': 636, 'output_tokens': 65, 'total_tokens': 701, 'input_token_details': {'audio': 0, 'cache_read': 0}, 'output_token_details': {'audio': 0, 'reasoning': 0}}), HumanMessage(content='대한민국 대통령은 누구야?', additional_kwargs={}, response_metadata={}, id='e17acc19-59ff-4b85-aedf-7e159527ba11'), AIMessage(content='현재 대한민국의 대통령은 윤석열입니다. 그의 임기는 2022년 5월 10일부터 2027년 5월 9일까지입니다.', additional_kwargs={'refusal': None}, response_metadata={'token_usage': {'completion_tokens': 37, 'prompt_tokens': 714, 'total_tokens': 751, 'completion_tokens_details': {'accepted_prediction_tokens': 0, 'audio_tokens': 0, 'reasoning_tokens': 0, 'rejected_prediction_tokens': 0}, 'prompt_tokens_details': {'audio_tokens': 0, 'cached_tokens': 0}}, 'model_name': 'gpt-4o-mini-2024-07-18', 'system_fingerprint': 'fp_d02d531b47', 'finish_reason': 'stop', 'logprobs': None}, id='run-90ae4dc3-79ce-46b4-aa3f-5a345299979c-0', usage_metadata={'input_tokens': 714, 'output_tokens': 37, 'total_tokens': 751, 'input_token_details': {'audio': 0, 'cache_read': 0}, 'output_token_details': {'audio': 0, 'reasoning': 0}}), HumanMessage(content='대한민국 대통령은 누구야?', additional_kwargs={}, response_metadata={}, id='8620a964-f9f3-4d9d-99a6-8f169f5670f3'), AIMessage(content='현재 대한민국의 대통령은 윤석열입니다. 그의 임기는 2022년 5월 10일부터 2027년 5월 9일까지입니다.', additional_kwargs={'refusal': None}, response_metadata={'token_usage': {'completion_tokens': 37, 'prompt_tokens': 764, 'total_tokens': 801, 'completion_tokens_details': {'accepted_prediction_tokens': 0, 'audio_tokens': 0, 'reasoning_tokens': 0, 'rejected_prediction_tokens': 0}, 'prompt_tokens_details': {'audio_tokens': 0, 'cached_tokens': 0}}, 'model_name': 'gpt-4o-mini-2024-07-18', 'system_fingerprint': 'fp_d02d531b47', 'finish_reason': 'stop', 'logprobs': None}, id='run-3a5f55da-4e03-4f00-8979-f839c69799d3-0', usage_metadata={'input_tokens': 764, 'output_tokens': 37, 'total_tokens': 801, 'input_token_details': {'audio': 0, 'cache_read': 0}, 'output_token_details': {'audio': 0, 'reasoning': 0}}), HumanMessage(content='대한민국 대통령은 누구야', additional_kwargs={}, response_metadata={}, id='1a565b24-199d-49a0-b3d2-9f49c7968e11'), AIMessage(content='현재 대한민국의 대통령은 윤석열입니다.', additional_kwargs={'refusal': None}, response_metadata={'token_usage': {'completion_tokens': 12, 'prompt_tokens': 813, 'total_tokens': 825, 'completion_tokens_details': {'accepted_prediction_tokens': 0, 'audio_tokens': 0, 'reasoning_tokens': 0, 'rejected_prediction_tokens': 0}, 'prompt_tokens_details': {'audio_tokens': 0, 'cached_tokens': 0}}, 'model_name': 'gpt-4o-mini-2024-07-18', 'system_fingerprint': 'fp_d02d531b47', 'finish_reason': 'stop', 'logprobs': None}, id='run-30e9d97e-3774-4c9d-8228-9ff2a134e81b-0', usage_metadata={'input_tokens': 813, 'output_tokens': 12, 'total_tokens': 825, 'input_token_details': {'audio': 0, 'cache_read': 0}, 'output_token_details': {'audio': 0, 'reasoning': 0}}), HumanMessage(content='최근 윤석열 대통령의 이슈에 대해 정리해줘', additional_kwargs={}, response_metadata={}, id='6d2b7faa-dda5-48de-b661-607a8e2e098e'), AIMessage(content='', additional_kwargs={'tool_calls': [{'id': 'call_ujorcQa8bnAeueRIWsB6aEGr', 'function': {'arguments': '{\"query\":\"윤석열 대통령 최근 이슈\"}', 'name': 'tavily_search_results_json'}, 'type': 'function'}], 'refusal': None}, response_metadata={'token_usage': {'completion_tokens': 25, 'prompt_tokens': 845, 'total_tokens': 870, 'completion_tokens_details': {'accepted_prediction_tokens': 0, 'audio_tokens': 0, 'reasoning_tokens': 0, 'rejected_prediction_tokens': 0}, 'prompt_tokens_details': {'audio_tokens': 0, 'cached_tokens': 0}}, 'model_name': 'gpt-4o-mini-2024-07-18', 'system_fingerprint': 'fp_d02d531b47', 'finish_reason': 'tool_calls', 'logprobs': None}, id='run-f19e4949-9270-4756-8e6f-e1586e9aff5f-0', tool_calls=[{'name': 'tavily_search_results_json', 'args': {'query': '윤석열 대통령 최근 이슈'}, 'id': 'call_ujorcQa8bnAeueRIWsB6aEGr', 'type': 'tool_call'}], usage_metadata={'input_tokens': 845, 'output_tokens': 25, 'total_tokens': 870, 'input_token_details': {'audio': 0, 'cache_read': 0}, 'output_token_details': {'audio': 0, 'reasoning': 0}}), ToolMessage(content='[{\"url\": \"https://www.bbc.com/korean/articles/cge9n1r5v50o\", \"content\": \"윤석열 대통령 2차 탄핵안 14일 표결, 지난주와 상황이 달라졌다 - BBC News 코리아 윤석열 대통령 2차 탄핵 표결, 상황이 달라졌다 윤석열 대통령 \\'탄핵하든 수사하든 맞서겠다\\'2024년 12월 12일 윤 대통령 탄핵 \\'가결\\' 되면 \\'리더십 공백\\' 대안은?2024년 12월 11일 윤석열 대통령 2차 탄핵안 통과될 가능성은?2024년 12월 11일 이날 오전 12·3 비상계엄 해제 후 윤석열 대통령의 두 번째 대국민 담화가 방송돼 탄핵 표결에 영향을 줄지도 주목된다. 윤 대통령은 지난 7일 대국민 담화에서 \\\\\"저의 임기 포함해 앞으로 정국 안정 방안은 우리 당에 일임하겠다\\\\\"라며 \\\\\"향후 국정 운영은 우리 당과 정부가 함께 책임지고 해 나가겠다\\\\\"라고 밝혔다. 윤석열 대통령 2차 탄핵 표결, 상황이 달라졌다 윤 대통령 탄핵 \\'가결\\' 되면 \\'리더십 공백\\' 대안은? 윤석열 대통령 2차 탄핵 표결, 상황이 달라졌다 윤 대통령 탄핵 \\'가결\\' 되면 \\'리더십 공백\\' 대안은?\"}, {\"url\": \"https://www.bbc.com/korean/articles/cdekn42885ro\", \"content\": \"사진 설명, 윤석열 한국 대통령의 계엄령 선포는 한국인과 전 세계를 놀라게 했다 지난 2022년 근소한 차이로 당선된 윤 대통령은 지난 4월 대통령에 대한 중간평가로 여겨지는 국회의원 선거에서 패배한 이후 이미 큰 압박을 받으며 지지율 하락을 겪고 있었다. 조지워싱턴대 ‘한국 재단’ 소장인 셀레스트 애링턴 교수는 해당 총선 결과로 인해 윤 대통령은 레임덕으로 전락하며 통과된 법안에 거부권을 행사하는 식으로 밖에 영향력을 행사할 수 없었다며, 이러한 거부권 행사도 “전례 없는 빈도”로 자주 이용했다고 설명했다. 한편 이화여대 국제학부의 레이프 에릭 이슬리 교수는 윤 대통령의 계엄령 선포는 “법적으로 도를 넘는 행위이자 정치적 오산”이라고 지적했다. 윤 대통령의 계엄령 발표는 한국의 동맹국들을 당혹스럽게 했다. 그러나 윤 대통령이 어떻게 행동하기로 선택하든, 그의 졸속 계엄령 선포는 안 그래도 위태롭게 흔들리고 있던 그의 자리를 무너뜨리는 마지막 한 방이 될 수도 있다.\"}]', name='tavily_search_results_json', id='d62f6a9e-de47-4b35-a4c0-15a49f5fa58d', tool_call_id='call_ujorcQa8bnAeueRIWsB6aEGr', artifact={'query': '윤석열 대통령 최근 이슈', 'follow_up_questions': None, 'answer': None, 'images': [], 'results': [{'title': '윤석열 대통령 2차 탄핵안 14일 표결, 지난주와 상황이 달라졌다 - BBC News 코리아', 'url': 'https://www.bbc.com/korean/articles/cge9n1r5v50o', 'content': '윤석열 대통령 2차 탄핵안 14일 표결, 지난주와 상황이 달라졌다 - BBC News 코리아 윤석열 대통령 2차 탄핵 표결, 상황이 달라졌다 윤석열 대통령 \\'탄핵하든 수사하든 맞서겠다\\'2024년 12월 12일 윤 대통령 탄핵 \\'가결\\' 되면 \\'리더십 공백\\' 대안은?2024년 12월 11일 윤석열 대통령 2차 탄핵안 통과될 가능성은?2024년 12월 11일 이날 오전 12·3 비상계엄 해제 후 윤석열 대통령의 두 번째 대국민 담화가 방송돼 탄핵 표결에 영향을 줄지도 주목된다. 윤 대통령은 지난 7일 대국민 담화에서 \"저의 임기 포함해 앞으로 정국 안정 방안은 우리 당에 일임하겠다\"라며 \"향후 국정 운영은 우리 당과 정부가 함께 책임지고 해 나가겠다\"라고 밝혔다. 윤석열 대통령 2차 탄핵 표결, 상황이 달라졌다 윤 대통령 탄핵 \\'가결\\' 되면 \\'리더십 공백\\' 대안은? 윤석열 대통령 2차 탄핵 표결, 상황이 달라졌다 윤 대통령 탄핵 \\'가결\\' 되면 \\'리더십 공백\\' 대안은?', 'score': 0.57666177, 'raw_content': None}, {'title': '윤석열, 스캔들에 휩싸였다 계엄령까지 선포한 한국의 대통령 - BBC News 코리아', 'url': 'https://www.bbc.com/korean/articles/cdekn42885ro', 'content': '사진 설명, 윤석열 한국 대통령의 계엄령 선포는 한국인과 전 세계를 놀라게 했다 지난 2022년 근소한 차이로 당선된 윤 대통령은 지난 4월 대통령에 대한 중간평가로 여겨지는 국회의원 선거에서 패배한 이후 이미 큰 압박을 받으며 지지율 하락을 겪고 있었다. 조지워싱턴대 ‘한국 재단’ 소장인 셀레스트 애링턴 교수는 해당 총선 결과로 인해 윤 대통령은 레임덕으로 전락하며 통과된 법안에 거부권을 행사하는 식으로 밖에 영향력을 행사할 수 없었다며, 이러한 거부권 행사도 “전례 없는 빈도”로 자주 이용했다고 설명했다. 한편 이화여대 국제학부의 레이프 에릭 이슬리 교수는 윤 대통령의 계엄령 선포는 “법적으로 도를 넘는 행위이자 정치적 오산”이라고 지적했다. 윤 대통령의 계엄령 발표는 한국의 동맹국들을 당혹스럽게 했다. 그러나 윤 대통령이 어떻게 행동하기로 선택하든, 그의 졸속 계엄령 선포는 안 그래도 위태롭게 흔들리고 있던 그의 자리를 무너뜨리는 마지막 한 방이 될 수도 있다.', 'score': 0.5513086, 'raw_content': None}], 'response_time': 1.77}), AIMessage(content='최근 윤석열 대통령과 관련된 주요 이슈는 다음과 같습니다:\\n\\n1. **2차 탄핵안 표결**: 윤석열 대통령에 대한 두 번째 탄핵안이 2024년 12월 14일에 표결될 예정입니다. 대통령은 \"저의 임기 포함해 앞으로 정국 안정 방안은 우리 당에 일임하겠다\"며, 향후 국정 운영은 당과 정부가 함께 책임지고 해나가겠다고 밝혔습니다. 이 탄핵안이 가결될 경우 리더십 공백이 우려되고 있습니다. [자세한 내용](https://www.bbc.com/korean/articles/cge9n1r5v50o)에서 확인할 수 있습니다.\\n\\n2. **계엄령 선포**: 윤 대통령의 계엄령 선포는 국내외에서 큰 논란을 일으켰습니다. 이는 정치적 오산으로 평가되며, 그의 지지율 하락과 관련된 압박이 커지고 있는 상황에서 발생했습니다. 일부 전문가들은 이 조치가 그의 정치적 위치를 더욱 위태롭게 만들 수 있다고 경고하고 있습니다. [자세한 내용](https://www.bbc.com/korean/articles/cdekn42885ro)에서 확인할 수 있습니다.\\n\\n이와 같은 이슈들은 윤석열 대통령의 정치적 입지와 국정 운영에 큰 영향을 미치고 있습니다.', additional_kwargs={'refusal': None}, response_metadata={'token_usage': {'completion_tokens': 303, 'prompt_tokens': 1539, 'total_tokens': 1842, 'completion_tokens_details': {'accepted_prediction_tokens': 0, 'audio_tokens': 0, 'reasoning_tokens': 0, 'rejected_prediction_tokens': 0}, 'prompt_tokens_details': {'audio_tokens': 0, 'cached_tokens': 0}}, 'model_name': 'gpt-4o-mini-2024-07-18', 'system_fingerprint': 'fp_d02d531b47', 'finish_reason': 'stop', 'logprobs': None}, id='run-c8b2cca8-94bb-4de7-93ff-d295bbdf8c9e-0', usage_metadata={'input_tokens': 1539, 'output_tokens': 303, 'total_tokens': 1842, 'input_token_details': {'audio': 0, 'cache_read': 0}, 'output_token_details': {'audio': 0, 'reasoning': 0}}), HumanMessage(content='내가 했던 첫질문이 뭐였어?', additional_kwargs={}, response_metadata={}, id='2c9f23ac-1584-47c3-b8ac-5b0b29434880'), AIMessage(content='당신이 처음 했던 질문은 \"대한민국 대통령은 누구야?\"였습니다.', additional_kwargs={'refusal': None}, response_metadata={'token_usage': {'completion_tokens': 20, 'prompt_tokens': 1860, 'total_tokens': 1880, 'completion_tokens_details': {'accepted_prediction_tokens': 0, 'audio_tokens': 0, 'reasoning_tokens': 0, 'rejected_prediction_tokens': 0}, 'prompt_tokens_details': {'audio_tokens': 0, 'cached_tokens': 1792}}, 'model_name': 'gpt-4o-mini-2024-07-18', 'system_fingerprint': 'fp_d02d531b47', 'finish_reason': 'stop', 'logprobs': None}, id='run-dae423d5-ae25-42da-bed5-f12c91df5491-0', usage_metadata={'input_tokens': 1860, 'output_tokens': 20, 'total_tokens': 1880, 'input_token_details': {'audio': 0, 'cache_read': 1792}, 'output_token_details': {'audio': 0, 'reasoning': 0}})]}, next=(), config={'configurable': {'thread_id': '1', 'checkpoint_ns': '', 'checkpoint_id': '1efc71c1-6fad-665b-8014-0cb9d84c7330'}}, metadata={'source': 'loop', 'writes': {'agent': {'messages': [AIMessage(content='당신이 처음 했던 질문은 \"대한민국 대통령은 누구야?\"였습니다.', additional_kwargs={'refusal': None}, response_metadata={'token_usage': {'completion_tokens': 20, 'prompt_tokens': 1860, 'total_tokens': 1880, 'completion_tokens_details': {'accepted_prediction_tokens': 0, 'audio_tokens': 0, 'reasoning_tokens': 0, 'rejected_prediction_tokens': 0}, 'prompt_tokens_details': {'audio_tokens': 0, 'cached_tokens': 1792}}, 'model_name': 'gpt-4o-mini-2024-07-18', 'system_fingerprint': 'fp_d02d531b47', 'finish_reason': 'stop', 'logprobs': None}, id='run-dae423d5-ae25-42da-bed5-f12c91df5491-0', usage_metadata={'input_tokens': 1860, 'output_tokens': 20, 'total_tokens': 1880, 'input_token_details': {'audio': 0, 'cache_read': 1792}, 'output_token_details': {'audio': 0, 'reasoning': 0}})]}}, 'thread_id': '1', 'step': 20, 'parents': {}}, created_at='2024-12-31T02:08:13.032405+00:00', parent_config={'configurable': {'thread_id': '1', 'checkpoint_ns': '', 'checkpoint_id': '1efc71c1-5ea5-6b8d-8013-b1d9c07b3f94'}}, tasks=())"
      ]
     },
     "execution_count": 24,
     "metadata": {},
     "output_type": "execute_result"
    }
   ],
   "source": [
    "snapshot = graph.get_state(config) # 현재까지 저장된 state를 가져옴옴\n",
    "snapshot"
   ]
  },
  {
   "cell_type": "code",
   "execution_count": 27,
   "metadata": {},
   "outputs": [
    {
     "data": {
      "text/plain": [
       "{'messages': [HumanMessage(content='내가 한 첫 질문이 뭐였어?', additional_kwargs={}, response_metadata={}, id='e970a933-4a91-43d6-8cb1-01b6facc6e54'),\n",
       "  AIMessage(content='죄송하지만, 이전 대화 내용을 기억할 수 없어서 당신이 한 첫 질문을 알려드릴 수 없습니다. 하지만 새로운 질문이나 요청이 있다면 도와드릴 수 있습니다!', additional_kwargs={'refusal': None}, response_metadata={'token_usage': {'completion_tokens': 42, 'prompt_tokens': 89, 'total_tokens': 131, 'completion_tokens_details': {'accepted_prediction_tokens': 0, 'audio_tokens': 0, 'reasoning_tokens': 0, 'rejected_prediction_tokens': 0}, 'prompt_tokens_details': {'audio_tokens': 0, 'cached_tokens': 0}}, 'model_name': 'gpt-4o-mini-2024-07-18', 'system_fingerprint': 'fp_0aa8d3e20b', 'finish_reason': 'stop', 'logprobs': None}, id='run-49ff1889-3bcf-4838-ab30-d87210fe9de7-0', usage_metadata={'input_tokens': 89, 'output_tokens': 42, 'total_tokens': 131, 'input_token_details': {'audio': 0, 'cache_read': 0}, 'output_token_details': {'audio': 0, 'reasoning': 0}})]}"
      ]
     },
     "execution_count": 27,
     "metadata": {},
     "output_type": "execute_result"
    }
   ],
   "source": [
    "# 이전 대화가 없는 tread_id에서는 이전 대화를 가져올 수 없음음\n",
    "config2 = {\"configurable\" : {\"thread_id\" : \"2\"}}\n",
    "\n",
    "graph.invoke({\"messages\" : [\n",
    "    {\n",
    "        \"role\" : \"user\",\n",
    "        \"content\" : \"내가 한 첫 질문이 뭐였어?\"\n",
    "    }\n",
    "    ]}, config2,\n",
    ")"
   ]
  },
  {
   "cell_type": "markdown",
   "metadata": {},
   "source": [
    "## 기억할 메시지 개수 제한하기\n",
    "\n",
    "- 대화가 길어지면 모든 대화 내역을 답변시 반영할 수 없음\n",
    "- 반영할 메시지의 수를 제한해야 함"
   ]
  },
  {
   "cell_type": "code",
   "execution_count": 35,
   "metadata": {},
   "outputs": [],
   "source": [
    "def filter_messages(messages: list):\n",
    "    # This is very simple helper function which only ever uses the last message\n",
    "    return messages[-2:]\n",
    "\n",
    "def agent_node(state : State):\n",
    "    messages = filter_messages(state['messages'])\n",
    "    result = model_with_tools.invoke(messages)\n",
    "    return {\"messages\" : [result]}\n",
    "\n",
    "graph_builder = StateGraph(State)\n",
    "\n",
    "graph_builder.add_node(\"agent\", agent_node)\n",
    "graph_builder.add_node(\"tools\", tool_node)\n",
    "\n",
    "graph_builder.add_edge(\"tools\", \"agent\")\n",
    "graph_builder.add_conditional_edges(\"agent\", tools_condition)\n",
    "\n",
    "graph_builder.set_entry_point(\"agent\")\n",
    "\n",
    "graph = graph_builder.compile(checkpointer=memory)"
   ]
  },
  {
   "cell_type": "code",
   "execution_count": 36,
   "metadata": {},
   "outputs": [
    {
     "name": "stdout",
     "output_type": "stream",
     "text": [
      "================================\u001b[1m Human Message \u001b[0m=================================\n",
      "\n",
      "Hi! I'm bob and I like soccer\n",
      "==================================\u001b[1m Ai Message \u001b[0m==================================\n",
      "\n",
      "Hi Bob! It's great to meet you! Soccer is an exciting sport with a rich history and a huge following around the world. Do you have a favorite team or player?\n",
      "================================\u001b[1m Human Message \u001b[0m=================================\n",
      "\n",
      "what's my name?\n",
      "==================================\u001b[1m Ai Message \u001b[0m==================================\n",
      "\n",
      "Your name is Bob!\n",
      "================================\u001b[1m Human Message \u001b[0m=================================\n",
      "\n",
      "what's my name?\n",
      "==================================\u001b[1m Ai Message \u001b[0m==================================\n",
      "\n",
      "Your name is Bob!\n",
      "================================\u001b[1m Human Message \u001b[0m=================================\n",
      "\n",
      "what's my favorite?\n",
      "==================================\u001b[1m Ai Message \u001b[0m==================================\n",
      "\n",
      "I don't have access to personal information about you, so I can't know your favorite things. However, if you tell me what you're interested in, I can help you find information or suggest things based on that!\n"
     ]
    }
   ],
   "source": [
    "from langchain_core.messages import HumanMessage\n",
    "\n",
    "config = {\"configurable\" : {\"thread_id\" : \"22\"}}\n",
    "\n",
    "input_message = HumanMessage(content=\"Hi! I'm bob and I like soccer\")\n",
    "for event in graph.stream({\"messages\" : [input_message]}, config, stream_mode=\"values\"):\n",
    "    event['messages'][-1].pretty_print()\n",
    "\n",
    "input_message = HumanMessage(content = \"what's my name?\")\n",
    "for event in graph.stream({\"messages\" : [input_message]}, config, stream_mode=\"values\"):\n",
    "    event['messages'][-1].pretty_print()\n",
    "\n",
    "input_message = HumanMessage(content = \"what's my name?\")\n",
    "for event in graph.stream({\"messages\" : [input_message]}, config, stream_mode=\"values\"):\n",
    "    event['messages'][-1].pretty_print()\n",
    "\n",
    "input_message = HumanMessage(content = \"what's my favorite?\")\n",
    "for event in graph.stream({\"messages\" : [input_message]}, config, stream_mode=\"values\"):\n",
    "    event['messages'][-1].pretty_print()"
   ]
  },
  {
   "cell_type": "markdown",
   "metadata": {},
   "source": [
    "- 사용자 정의 함수 -> State Message 에서 특정한 값만 가져와서 사용하도록 할 수 있음\n",
    "- 메시지를 모두 받아와 요약해 summary에 저장해두고 이를 llm에게 전달해 더 나은 답변을 하도록 유도할 수 있음\n",
    "- 다양한 로직을 정의하고 이를 node 함수 내에 사용하면 -> 의도에 맞도록 대화 내역을 유지 할 수 있음"
   ]
  }
 ],
 "metadata": {
  "kernelspec": {
   "display_name": "finpilot",
   "language": "python",
   "name": "python3"
  },
  "language_info": {
   "codemirror_mode": {
    "name": "ipython",
    "version": 3
   },
   "file_extension": ".py",
   "mimetype": "text/x-python",
   "name": "python",
   "nbconvert_exporter": "python",
   "pygments_lexer": "ipython3",
   "version": "3.11.11"
  }
 },
 "nbformat": 4,
 "nbformat_minor": 2
}
