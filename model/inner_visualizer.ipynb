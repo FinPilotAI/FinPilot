{
 "cells": [
  {
   "cell_type": "markdown",
   "metadata": {},
   "source": [
    "# Inner Visualizer Process\n",
    "\n",
    "---"
   ]
  },
  {
   "cell_type": "markdown",
   "metadata": {},
   "source": [
    "## 1. Set API Keys"
   ]
  },
  {
   "cell_type": "code",
   "execution_count": null,
   "metadata": {},
   "outputs": [],
   "source": [
    "import os\n",
    "\n",
    "# Load API Keys\n",
    "from config.secret_keys import OPENAI_API_KEY\n",
    "\n",
    "os.environ[\"OPENAI_API_KEY\"] = OPENAI_API_KEY"
   ]
  },
  {
   "cell_type": "markdown",
   "metadata": {},
   "source": [
    "## 2. Import Modules"
   ]
  },
  {
   "cell_type": "code",
   "execution_count": 1,
   "metadata": {},
   "outputs": [],
   "source": [
    "# directory setting\n",
    "from pathlib import Path\n",
    "\n",
    "# Define State\n",
    "from typing import Annotated, List\n",
    "from typing_extensions import TypedDict\n",
    "from langchain_core.messages import BaseMessage\n",
    "import operator\n",
    "\n",
    "# Define Tools\n",
    "import pandas as pd\n",
    "from langchain_core.tools import tool\n",
    "from langchain_openai import ChatOpenAI\n",
    "from langchain.agents.agent_types import AgentType\n",
    "from langchain_experimental.agents.agent_toolkits import create_pandas_dataframe_agent"
   ]
  },
  {
   "cell_type": "markdown",
   "metadata": {},
   "source": [
    "## 3. Directory Setting"
   ]
  },
  {
   "cell_type": "code",
   "execution_count": null,
   "metadata": {},
   "outputs": [],
   "source": [
    "BASE_DIR = Path(os.getcwd())\n",
    "DATA_DIR = BASE_DIR / 'data' # 데이터 저장용 디렉토리\n",
    "CHART_DIR = BASE_DIR / 'charts' # 차트 저장용 디엑토리"
   ]
  },
  {
   "cell_type": "markdown",
   "metadata": {},
   "source": [
    "## 4. Build Application"
   ]
  },
  {
   "cell_type": "markdown",
   "metadata": {},
   "source": [
    "## 4-1. Define State"
   ]
  },
  {
   "cell_type": "code",
   "execution_count": null,
   "metadata": {},
   "outputs": [],
   "source": [
    "class AnalysisState(TypedDict):\n",
    "    company: str\n",
    "    messages: Annotated[List[BaseMessage], operator.add]\n",
    "    analyses: Annotated[List[dict], operator.add]\n",
    "    combined_report: str"
   ]
  },
  {
   "cell_type": "markdown",
   "metadata": {},
   "source": [
    "## 4-2. Define Tools"
   ]
  },
  {
   "cell_type": "code",
   "execution_count": null,
   "metadata": {},
   "outputs": [],
   "source": [
    "@tool\n",
    "def inner_visualizer(command:str):\n",
    "    \"\"\"\n",
    "    The tool creates charts using create_pandas_dataframe_agent and stores them in the /charts folder.\n",
    "    \"\"\"\n",
    "\n",
    "    inner_data = pd.read_csv(DATA_DIR / \"stock_data.csv\")\n",
    "    custom_prefix = \"\"\"\n",
    "        Please make the chart and save in './charts' folder.\n",
    "        data path is './data/stock_data.csv'\n",
    "    \"\"\"\n",
    "\n",
    "    agent = create_pandas_dataframe_agent(\n",
    "        ChatOpenAI(model=\"gpt-4o\"),\n",
    "        [inner_data],\n",
    "        verbose=True,\n",
    "        agent_type=AgentType.OPENAI_FUNCTIONS,\n",
    "        allow_dangerous_code=True,\n",
    "        prefix = custom_prefix\n",
    "    )\n",
    "\n",
    "    result = agent.run(command)\n",
    "\n",
    "    return result"
   ]
  },
  {
   "cell_type": "markdown",
   "metadata": {},
   "source": [
    "### 4-3. Define Agent"
   ]
  },
  {
   "cell_type": "code",
   "execution_count": null,
   "metadata": {},
   "outputs": [],
   "source": []
  }
 ],
 "metadata": {
  "kernelspec": {
   "display_name": "finpilot",
   "language": "python",
   "name": "python3"
  },
  "language_info": {
   "codemirror_mode": {
    "name": "ipython",
    "version": 3
   },
   "file_extension": ".py",
   "mimetype": "text/x-python",
   "name": "python",
   "nbconvert_exporter": "python",
   "pygments_lexer": "ipython3",
   "version": "3.10.16"
  }
 },
 "nbformat": 4,
 "nbformat_minor": 2
}
