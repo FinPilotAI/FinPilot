{
 "cells": [
  {
   "cell_type": "markdown",
   "metadata": {},
   "source": [
    "## API KEY Setting"
   ]
  },
  {
   "cell_type": "code",
   "execution_count": 1,
   "metadata": {},
   "outputs": [],
   "source": [
    "import os\n",
    "from config.secret_key import OPENAI_API_KEY, TAVILY_API_KEY, POLYGON_API_KEY\n",
    "\n",
    "os.environ['OPENAI_API_KEY'] = OPENAI_API_KEY\n",
    "os.environ['TAVILY_API_KEY'] = TAVILY_API_KEY\n",
    "os.environ['POLYGON_API_KEY'] = POLYGON_API_KEY"
   ]
  },
  {
   "cell_type": "markdown",
   "metadata": {},
   "source": [
    "## Import Modules"
   ]
  },
  {
   "cell_type": "code",
   "execution_count": 2,
   "metadata": {},
   "outputs": [
    {
     "data": {
      "text/plain": [
       "'c:\\\\finpilot'"
      ]
     },
     "execution_count": 2,
     "metadata": {},
     "output_type": "execute_result"
    }
   ],
   "source": [
    "import pandas as pd\n",
    "import yfinance as yf\n",
    "from polygon import RESTClient # polygon-api-client 모듈 설치 필요요\n",
    "from langchain.agents.agent_types import AgentType # create_pandas_dataframe_agent 의 매개변수로 필요요\n",
    "from langchain_experimental.agents.agent_toolkits import create_pandas_dataframe_agent\n",
    "from langchain_core.tools import tool\n",
    "from pathlib import Path\n",
    "from langchain_openai import ChatOpenAI\n",
    "# from dotenv import load_dotenv\n",
    "# load_dotenv()\n",
    "\n",
    "os.getcwd()"
   ]
  },
  {
   "cell_type": "markdown",
   "metadata": {},
   "source": [
    "## Directory Setting"
   ]
  },
  {
   "cell_type": "code",
   "execution_count": 4,
   "metadata": {},
   "outputs": [],
   "source": [
    "BASE_DIR = Path(os.getcwd())\n",
    "DATA_DIR = BASE_DIR / 'data' # 데이터 저장용 디렉토리\n",
    "CHART_DIR = BASE_DIR / 'charts' # 차트 저장용 디엑토리"
   ]
  },
  {
   "cell_type": "markdown",
   "metadata": {},
   "source": [
    "## `yfinance`, `Polygon` API로 자사, 경쟁사 주식정보 가져오기"
   ]
  },
  {
   "cell_type": "code",
   "execution_count": 5,
   "metadata": {},
   "outputs": [],
   "source": [
    "polygon_client = RESTClient(api_key=os.environ[\"POLYGON_API_KEY\"])"
   ]
  },
  {
   "cell_type": "code",
   "execution_count": 26,
   "metadata": {},
   "outputs": [],
   "source": [
    "@tool\n",
    "def fetch_stock_data(ticker:str, start_date:str, end_date:str):\n",
    "    \"\"\"\n",
    "    Fetch stock data and compare with NASDAQ and competitors.\n",
    "    \"\"\"\n",
    "\n",
    "    stock = yf.download(ticker, start=start_date, end=end_date, progress=False)\n",
    "    nasdaq = yf.download('^IXIC', start=start_date, end=end_date, progress=False)\n",
    "    \n",
    "    df = pd.DataFrame(index=stock.index)\n",
    "    df[f'{ticker}'] = stock['Close']\n",
    "    df['Nasdaq'] = nasdaq['Close']\n",
    "\n",
    "    related_companies = polygon_client.get_related_companies(ticker)\n",
    "    competitors = [company.ticker for company in related_companies]\n",
    "\n",
    "    for company in competitors:\n",
    "        try:\n",
    "            comp_ticker = company.replace('.', '-') if '.' in company else company\n",
    "            comp_data = yf.download(comp_ticker, start=start_date, end=end_date, progress=False)\n",
    "            if not comp_data.empty:\n",
    "                df[company] = comp_data['Close']\n",
    "        except Exception as e:\n",
    "            continue\n",
    "    \n",
    "    csv_path = DATA_DIR / \"stock_data.csv\"\n",
    "    df.to_csv(csv_path)\n",
    "\n",
    "    return f\"Stockfile saved to {csv_path}\""
   ]
  },
  {
   "cell_type": "code",
   "execution_count": 27,
   "metadata": {},
   "outputs": [
    {
     "data": {
      "text/plain": [
       "'Stockfile saved to c:\\\\finpilot\\\\data\\\\stock_data.csv'"
      ]
     },
     "execution_count": 27,
     "metadata": {},
     "output_type": "execute_result"
    }
   ],
   "source": [
    "fetch_stock_data.run({\"ticker\" : \"NVDA\",\n",
    "                      \"start_date\" : \"2023-01-01\",\n",
    "                      \"end_date\" : \"2024-01-01\"})"
   ]
  },
  {
   "cell_type": "markdown",
   "metadata": {},
   "source": [
    "## Polygon API로 재무정보 가져오기"
   ]
  },
  {
   "cell_type": "code",
   "execution_count": 6,
   "metadata": {},
   "outputs": [],
   "source": [
    "@tool\n",
    "def get_financial_data(ticker: str, num_years: int):\n",
    "    \"\"\"\n",
    "    주어진 티커의 재무 데이터를 가져와 DataFrame으로 저장하고 파일 경로를 반환합니다.\n",
    "    \n",
    "    Parameters:\n",
    "    ticker (str): 종목 코드\n",
    "    num_years (int): 가져올 연도 수\n",
    "    \n",
    "    Returns:\n",
    "    str: 저장된 파일 경로 메시지\n",
    "    \"\"\"\n",
    "    # Polygon REST API Client 설정\n",
    "    client = polygon_client\n",
    "    \n",
    "    # 최근 n개년간 분기별 재무제표 데이터 수집\n",
    "    financials = []\n",
    "    for f in client.vx.list_stock_financials(ticker):\n",
    "        if \"Q\" in f.fiscal_period and f.end_date >= f\"{pd.Timestamp.now().year - num_years}-01-01\":\n",
    "            financials.append(f)\n",
    "    \n",
    "    # DataFrame 생성할 데이터 목록 초기화\n",
    "    data = {\n",
    "        # 기본 정보\n",
    "        \"Fiscal Year\": [],\n",
    "        \"Fiscal Period\": [],\n",
    "        \"End Date\": [],\n",
    "        \n",
    "        # 손익계산서 항목\n",
    "        \"Revenues\": [],\n",
    "        \"Cost of Revenue\": [],\n",
    "        \"Gross Profit\": [],\n",
    "        \"Operating Income\": [],\n",
    "        \"Operating Expenses\": [],\n",
    "        \"Basic EPS\": [],\n",
    "        \n",
    "        # 재무상태표 항목\n",
    "        \"Total Assets\": [],\n",
    "        \"Current Assets\": [],\n",
    "        \"Fixed Assets\": [],\n",
    "        \"Intangible Assets\": [],\n",
    "        \"Other Current Assets\": [],\n",
    "        \"Other Non-current Assets\": [],\n",
    "        \"Total Liabilities\": [],\n",
    "        \"Current Liabilities\": [],\n",
    "        \"Non-current Liabilities\": [],\n",
    "        \"Long Term Debt\": [],\n",
    "        \"Total Equity\": [],\n",
    "        \"Inventory\": [],\n",
    "        \"Accounts Payable\": [],\n",
    "        \"Other Current Liabilities\": [],\n",
    "        \n",
    "        # 현금흐름표 항목\n",
    "        \"Net Cash Flow\": [],\n",
    "        \"Financing Cash Flow\": [],\n",
    "        \n",
    "        # 포괄손익 항목\n",
    "        \"Comprehensive Income\": [],\n",
    "        \"Other Comprehensive Income\": [],\n",
    "        \n",
    "        # 성장률\n",
    "        \"YoY Growth\": [],\n",
    "        \"QoQ Growth\": [],\n",
    "        \n",
    "        # 재무비율\n",
    "        \"Current Ratio\": [],  # 유동비율\n",
    "        \"Debt to Equity Ratio\": [],  # 부채비율\n",
    "        \"Gross Profit Margin\": [],  # 매출총이익률\n",
    "        \"Operating Margin\": [],  # 영업이익률\n",
    "        \"Asset Turnover\": []  # 총자산회전율\n",
    "    }\n",
    "    \n",
    "    # 각 재무제표 항목에서 지표들을 추출하여 DataFrame 구성\n",
    "    for i, f in enumerate(financials):\n",
    "        # 기본 정보\n",
    "        data[\"Fiscal Year\"].append(f.fiscal_year)\n",
    "        data[\"Fiscal Period\"].append(f.fiscal_period)\n",
    "        data[\"End Date\"].append(f.end_date)\n",
    "\n",
    "        # 재무제표 데이터 접근\n",
    "        bs = f.financials.balance_sheet\n",
    "        is_ = f.financials.income_statement\n",
    "        cf = f.financials.cash_flow_statement\n",
    "        ci = f.financials.comprehensive_income\n",
    "\n",
    "        # 손익계산서 데이터 추출\n",
    "        revenue = getattr(is_.revenues, 'value', None) if hasattr(is_, 'revenues') else None\n",
    "        data[\"Revenues\"].append(revenue)\n",
    "        data[\"Cost of Revenue\"].append(getattr(is_.cost_of_revenue, 'value', None) if hasattr(is_, 'cost_of_revenue') else None)\n",
    "        data[\"Gross Profit\"].append(getattr(is_.gross_profit, 'value', None) if hasattr(is_, 'gross_profit') else None)\n",
    "        data[\"Operating Expenses\"].append(getattr(is_.operating_expenses, 'value', None) if hasattr(is_, 'operating_expenses') else None)\n",
    "        data[\"Operating Income\"].append(getattr(is_.operating_expenses, 'value', None) if hasattr(is_, 'operating_expenses') else None)\n",
    "        data[\"Basic EPS\"].append(getattr(is_.basic_earnings_per_share, 'value', None) if hasattr(is_, 'basic_earnings_per_share') else None)\n",
    "        \n",
    "        # 재무상태표 데이터 추출\n",
    "        data[\"Total Assets\"].append(bs['assets'].value if 'assets' in bs else None)\n",
    "        data[\"Current Assets\"].append(bs['current_assets'].value if 'current_assets' in bs else None)\n",
    "        data[\"Fixed Assets\"].append(bs['fixed_assets'].value if 'fixed_assets' in bs else None)\n",
    "        data[\"Intangible Assets\"].append(bs['intangible_assets'].value if 'intangible_assets' in bs else None)\n",
    "        data[\"Other Current Assets\"].append(bs['other_current_assets'].value if 'other_current_assets' in bs else None)\n",
    "        data[\"Other Non-current Assets\"].append(bs['other_noncurrent_assets'].value if 'other_noncurrent_assets' in bs else None)\n",
    "        data[\"Total Liabilities\"].append(bs['liabilities'].value if 'liabilities' in bs else None)\n",
    "        data[\"Current Liabilities\"].append(bs['current_liabilities'].value if 'current_liabilities' in bs else None)\n",
    "        data[\"Non-current Liabilities\"].append(bs['noncurrent_liabilities'].value if 'noncurrent_liabilities' in bs else None)\n",
    "        data[\"Long Term Debt\"].append(bs['long_term_debt'].value if 'long_term_debt' in bs else None)\n",
    "        data[\"Total Equity\"].append(bs['equity'].value if 'equity' in bs else None)\n",
    "        data[\"Inventory\"].append(bs['inventory'].value if 'inventory' in bs else None)\n",
    "        data[\"Accounts Payable\"].append(bs['accounts_payable'].value if 'accounts_payable' in bs else None)\n",
    "        data[\"Other Current Liabilities\"].append(bs['other_current_liabilities'].value if 'other_current_liabilities' in bs else None)\n",
    "        \n",
    "        # 현금흐름표 데이터 추출\n",
    "        data[\"Net Cash Flow\"].append(getattr(cf.net_cash_flow, 'value', None) if hasattr(cf, 'net_cash_flow') else None)\n",
    "        data[\"Financing Cash Flow\"].append(getattr(cf.net_cash_flow_from_financing_activities, 'value', None) \n",
    "                                        if hasattr(cf, 'net_cash_flow_from_financing_activities') else None)\n",
    "        \n",
    "        # 포괄손익 데이터 추출\n",
    "        if hasattr(ci, 'comprehensive_income_loss'):\n",
    "            comp_income = ci.comprehensive_income_loss.value\n",
    "        else:\n",
    "            comp_income = ci.comprehensive_income.value if hasattr(ci, 'comprehensive_income') else None\n",
    "        data[\"Comprehensive Income\"].append(comp_income)\n",
    "        data[\"Other Comprehensive Income\"].append(getattr(ci.other_comprehensive_income_loss, 'value', None) \n",
    "                                                if hasattr(ci, 'other_comprehensive_income_loss') else None)\n",
    "        \n",
    "        # YoY 성장률 계산 (전년 동기 대비)\n",
    "        if i > 3 and data[\"Revenues\"][i-4] is not None and revenue is not None:\n",
    "            yoy_growth = ((revenue - data[\"Revenues\"][i-4]) / data[\"Revenues\"][i-4]) * 100\n",
    "        else:\n",
    "            yoy_growth = None\n",
    "        data[\"YoY Growth\"].append(yoy_growth)\n",
    "        \n",
    "        # QoQ 성장률 계산 (직전 분기 대비)\n",
    "        if i > 0 and data[\"Revenues\"][i-1] is not None and revenue is not None:\n",
    "            qoq_growth = ((revenue - data[\"Revenues\"][i-1]) / data[\"Revenues\"][i-1]) * 100\n",
    "        else:\n",
    "            qoq_growth = None\n",
    "        data[\"QoQ Growth\"].append(qoq_growth)\n",
    "        \n",
    "        # 재무비율 계산\n",
    "        current_assets = bs['current_assets'].value if 'current_assets' in bs else None\n",
    "        current_liabilities = bs['current_liabilities'].value if 'current_liabilities' in bs else None\n",
    "        total_liabilities = bs['liabilities'].value if 'liabilities' in bs else None\n",
    "        total_equity = bs['equity'].value if 'equity' in bs else None\n",
    "        total_assets = bs['assets'].value if 'assets' in bs else None\n",
    "        gross_profit = getattr(is_.gross_profit, 'value', None) if hasattr(is_, 'gross_profit') else None\n",
    "        operating_income = getattr(is_.operating_expenses, 'value', None) if hasattr(is_, 'operating_expenses') else None\n",
    "        \n",
    "        # 유동비율 계산\n",
    "        current_ratio = (current_assets / current_liabilities * 100) if (current_assets and current_liabilities) else None\n",
    "        data[\"Current Ratio\"].append(current_ratio)\n",
    "        \n",
    "        # 부채비율 계산\n",
    "        debt_equity_ratio = (total_liabilities / total_equity * 100) if (total_liabilities and total_equity) else None\n",
    "        data[\"Debt to Equity Ratio\"].append(debt_equity_ratio)\n",
    "        \n",
    "        # 매출총이익률 계산\n",
    "        gross_margin = (gross_profit / revenue * 100) if (gross_profit and revenue) else None\n",
    "        data[\"Gross Profit Margin\"].append(gross_margin)\n",
    "        \n",
    "        # 영업이익률 계산\n",
    "        operating_margin = (operating_income / revenue * 100) if (operating_income and revenue) else None\n",
    "        data[\"Operating Margin\"].append(operating_margin)\n",
    "        \n",
    "        # 총자산회전율 계산\n",
    "        asset_turnover = (revenue / total_assets) if (revenue and total_assets) else None\n",
    "        data[\"Asset Turnover\"].append(asset_turnover)\n",
    "\n",
    "    # DataFrame 생성 및 정렬\n",
    "    df = pd.DataFrame(data)\n",
    "    df.sort_values(by=\"End Date\", ascending=False, inplace=True)\n",
    "    \n",
    "    # 한글 컬럼명으로 변경\n",
    "    korean_columns = {\n",
    "        \"Fiscal Year\": \"회계연도\",\n",
    "        \"Fiscal Period\": \"회계기간\",\n",
    "        \"End Date\": \"기준일\",\n",
    "        \"Revenues\": \"매출액\",\n",
    "        \"Cost of Revenue\": \"매출원가\",\n",
    "        \"Gross Profit\": \"매출총이익\",\n",
    "        \"Operating Income\": \"영업이익\",\n",
    "        \"Operating Expenses\": \"영업비용\",\n",
    "        \"Basic EPS\": \"기본주당순이익\",\n",
    "        \"Total Assets\": \"총자산\",\n",
    "        \"Current Assets\": \"유동자산\",\n",
    "        \"Fixed Assets\": \"고정자산\",\n",
    "        \"Intangible Assets\": \"무형자산\",\n",
    "        \"Other Current Assets\": \"기타유동자산\",\n",
    "        \"Other Non-current Assets\": \"기타비유동자산\",\n",
    "        \"Total Liabilities\": \"총부채\",\n",
    "        \"Current Liabilities\": \"유동부채\",\n",
    "        \"Non-current Liabilities\": \"비유동부채\",\n",
    "        \"Long Term Debt\": \"장기부채\",\n",
    "        \"Total Equity\": \"총자본\",\n",
    "        \"Inventory\": \"재고자산\",\n",
    "        \"Accounts Payable\": \"매입채무\",\n",
    "        \"Other Current Liabilities\": \"기타유동부채\",\n",
    "        \"Net Cash Flow\": \"순현금흐름\",\n",
    "        \"Financing Cash Flow\": \"재무활동현금흐름\",\n",
    "        \"Comprehensive Income\": \"포괄손익\",\n",
    "        \"Other Comprehensive Income\": \"기타포괄손익\",\n",
    "        \"YoY Growth\": \"전년동기대비성장률\",\n",
    "        \"QoQ Growth\": \"전기대비성장률\",\n",
    "        \"Current Ratio\": \"유동비율\",\n",
    "        \"Debt to Equity Ratio\": \"부채비율\",\n",
    "        \"Gross Profit Margin\": \"매출총이익률\",\n",
    "        \"Operating Margin\": \"영업이익률\",\n",
    "        \"Asset Turnover\": \"총자산회전율\"\n",
    "    }\n",
    "    \n",
    "    df.rename(columns=korean_columns, inplace=True)\n",
    "    \n",
    "    # CSV 파일로 저장\n",
    "    csv_path = DATA_DIR / \"finance_data.csv\"\n",
    "    df.to_csv(csv_path, encoding='utf-8-sig')  # utf-8-sig로 저장하여 한글 깨짐 방지\n",
    "    return f\"재무제표 데이터가 {csv_path}에 저장되었습니다.\""
   ]
  },
  {
   "cell_type": "code",
   "execution_count": null,
   "metadata": {},
   "outputs": [],
   "source": [
    "get_financial_data.run({\"ticker\" : \"NVDA\", \"num_years\" : 2})"
   ]
  },
  {
   "cell_type": "markdown",
   "metadata": {},
   "source": [
    "## `create_pandas_dataframe_agent` 로 데이터 분석하기"
   ]
  },
  {
   "cell_type": "code",
   "execution_count": 10,
   "metadata": {},
   "outputs": [],
   "source": [
    "@tool\n",
    "def analyze_data(query : str):\n",
    "    \"\"\"\n",
    "    저장된 주식 데이터와 재무 데이터를 pandas_agent로 분석하고 질문에 답변합니다.\n",
    "    \"\"\"\n",
    "\n",
    "    stock_csv_path = DATA_DIR / \"stock_data.csv\"\n",
    "    finance_csv_path = DATA_DIR / \"finance_data.csv\"\n",
    "    stock_df = pd.read_csv(stock_csv_path)\n",
    "    finance_df = pd.read_csv(finance_csv_path)\n",
    "\n",
    "    custom_prefix = f\"\"\"\n",
    "        You are very smart analyst sho can use stock_data and finance_data.\n",
    "        Please analyze the data in various perspective to fine valuable insight.\n",
    "        You shoould always make the greatest output with accurate metrics and tables.\n",
    "        stock_data path : {stock_csv_path}\n",
    "        finance_data path : {finance_csv_path}\n",
    "    \"\"\"\n",
    "\n",
    "    pandas_agent = create_pandas_dataframe_agent(\n",
    "        ChatOpenAI(model=\"gpt-4o\"),\n",
    "        [stock_df, finance_df],\n",
    "        verbose=True,\n",
    "        agent_type=AgentType.OPENAI_FUNCTIONS,\n",
    "        allow_dangerous_code=True,\n",
    "        prefix = custom_prefix # (옵션) prompt에 의도한 문장을 추가가\n",
    "    )\n",
    "\n",
    "    result = pandas_agent.run(query)\n",
    "\n",
    "    return result"
   ]
  },
  {
   "cell_type": "code",
   "execution_count": 14,
   "metadata": {},
   "outputs": [
    {
     "name": "stdout",
     "output_type": "stream",
     "text": [
      "\n",
      "\n",
      "\u001b[1m> Entering new AgentExecutor chain...\u001b[0m\n",
      "\u001b[32;1m\u001b[1;3m\n",
      "Invoking: `python_repl_ast` with `{'query': \"import pandas as pd\\n\\n# Load the stock data\\ndf_stock = pd.read_csv('c:/finpilot/data/stock_data.csv')\\n\\n# Convert 'Date' to datetime type\\ndf_stock['Date'] = pd.to_datetime(df_stock['Date'])\\n\\n# Set 'Date' as the index\\ndf_stock.set_index('Date', inplace=True)\\n\\n# Describe NVDA statistics\\ndf_stock['NVDA'].describe()\"}`\n",
      "\n",
      "\n",
      "\u001b[0m\u001b[36;1m\u001b[1;3mcount    250.000000\n",
      "mean      36.552498\n",
      "std       10.754907\n",
      "min       14.254633\n",
      "25%       26.884763\n",
      "50%       41.876219\n",
      "75%       45.626478\n",
      "max       50.390282\n",
      "Name: NVDA, dtype: float64\u001b[0m\u001b[32;1m\u001b[1;3mNVDA의 가격 추이에 대한 통계 분석 결과는 다음과 같습니다:\n",
      "\n",
      "- 총 데이터 수: 250일\n",
      "- 평균 가격: 36.55\n",
      "- 표준 편차: 10.75\n",
      "- 최소 가격: 14.25\n",
      "- 25% 분위수: 26.88\n",
      "- 중앙값 (50% 분위수): 41.88\n",
      "- 75% 분위수: 45.63\n",
      "- 최대 가격: 50.39\n",
      "\n",
      "이 결과를 통해 NVDA 주식의 가격이 평균적으로 36.55의 값을 가지며, 최소 14.25에서 최대 50.39까지 변동했음을 알 수 있습니다. 가격의 변동성이 꽤 큰 편으로, 표준 편차가 높은 10.75로 나타납니다. 중간값이 41.88인 것을 볼 때, 가격의 중앙 값은 평균보다 높게 형성되어 있습니다.\u001b[0m\n",
      "\n",
      "\u001b[1m> Finished chain.\u001b[0m\n"
     ]
    },
    {
     "data": {
      "text/plain": [
       "'NVDA의 가격 추이에 대한 통계 분석 결과는 다음과 같습니다:\\n\\n- 총 데이터 수: 250일\\n- 평균 가격: 36.55\\n- 표준 편차: 10.75\\n- 최소 가격: 14.25\\n- 25% 분위수: 26.88\\n- 중앙값 (50% 분위수): 41.88\\n- 75% 분위수: 45.63\\n- 최대 가격: 50.39\\n\\n이 결과를 통해 NVDA 주식의 가격이 평균적으로 36.55의 값을 가지며, 최소 14.25에서 최대 50.39까지 변동했음을 알 수 있습니다. 가격의 변동성이 꽤 큰 편으로, 표준 편차가 높은 10.75로 나타납니다. 중간값이 41.88인 것을 볼 때, 가격의 중앙 값은 평균보다 높게 형성되어 있습니다.'"
      ]
     },
     "execution_count": 14,
     "metadata": {},
     "output_type": "execute_result"
    }
   ],
   "source": [
    "analyze_data.run({\"query\" : \"NVDA의 가격 추이에 대해 분석해줘\"})"
   ]
  },
  {
   "cell_type": "markdown",
   "metadata": {},
   "source": [
    "## 차트 생성 도구 만들기 (`create_pandas_dataframe_agent`)"
   ]
  },
  {
   "cell_type": "code",
   "execution_count": 16,
   "metadata": {},
   "outputs": [],
   "source": [
    "@tool\n",
    "def chart_generator(command:str):\n",
    "    \"\"\"\n",
    "    이 도구는 create_pandas_dataframe_agent를 사용하여 차트를 생성하고 차트를 /charts 폴더에 저장합니다.\n",
    "    \"\"\"\n",
    "\n",
    "    stock_data = pd.read_csv(DATA_DIR / \"stock_data.csv\")\n",
    "    finance_data = pd.read_csv(DATA_DIR / \"finance_data.csv\")\n",
    "    custom_prefix = \"\"\"\n",
    "        Please make the chart and save in './charts' folder.\n",
    "        stock_data path is './data/stock_data.csv'\n",
    "        finance_data path is '.data/finance_data.csv'\n",
    "    \"\"\"\n",
    "\n",
    "    agent = create_pandas_dataframe_agent(\n",
    "        ChatOpenAI(model=\"gpt-4o\"),\n",
    "        [stock_data, finance_data],\n",
    "        verbose=True,\n",
    "        agent_type=AgentType.OPENAI_FUNCTIONS,\n",
    "        allow_dangerous_code=True,\n",
    "        prefix = custom_prefix\n",
    "    )\n",
    "\n",
    "    result = agent.run(command)\n",
    "\n",
    "    return result"
   ]
  },
  {
   "cell_type": "code",
   "execution_count": 17,
   "metadata": {},
   "outputs": [
    {
     "name": "stdout",
     "output_type": "stream",
     "text": [
      "\n",
      "\n",
      "\u001b[1m> Entering new AgentExecutor chain...\u001b[0m\n",
      "\u001b[32;1m\u001b[1;3m\n",
      "Invoking: `python_repl_ast` with `{'query': \"import pandas as pd\\nimport matplotlib.pyplot as plt\\n\\n# Load stock data\\ndf = pd.read_csv('./data/stock_data.csv')\\n\\n# Convert Date column to datetime\\ndf['Date'] = pd.to_datetime(df['Date'])\\n\\n# Plot NVDA stock price\\nplt.figure(figsize=(10,5))\\nplt.plot(df['Date'], df['NVDA'], label='NVDA')\\nplt.title('NVDA Stock Price')\\nplt.xlabel('Date')\\nplt.ylabel('Stock Price')\\nplt.legend()\\nplt.grid(True)\\n\\n# Save the plot\\nplt.savefig('./charts/nvda_stock_price_chart.png')\\nplt.show()\"}`\n",
      "\n",
      "\n",
      "\u001b[0m"
     ]
    },
    {
     "data": {
      "image/png": "[encoded data removed]",
      "text/plain": [
       "<Figure size 1000x500 with 1 Axes>"
      ]
     },
     "metadata": {},
     "output_type": "display_data"
    },
    {
     "name": "stdout",
     "output_type": "stream",
     "text": [
      "\u001b[36;1m\u001b[1;3m\u001b[0m\u001b[32;1m\u001b[1;3mThe NVDA stock price chart has been created and saved in the './charts' folder as 'nvda_stock_price_chart.png'.\u001b[0m\n",
      "\n",
      "\u001b[1m> Finished chain.\u001b[0m\n"
     ]
    },
    {
     "data": {
      "text/plain": [
       "\"The NVDA stock price chart has been created and saved in the './charts' folder as 'nvda_stock_price_chart.png'.\""
      ]
     },
     "execution_count": 17,
     "metadata": {},
     "output_type": "execute_result"
    }
   ],
   "source": [
    "chart_generator.run({\"command\" : \"NVDA stock price chart\"})"
   ]
  },
  {
   "cell_type": "code",
   "execution_count": null,
   "metadata": {},
   "outputs": [],
   "source": []
  }
 ],
 "metadata": {
  "kernelspec": {
   "display_name": "finpilot",
   "language": "python",
   "name": "python3"
  },
  "language_info": {
   "codemirror_mode": {
    "name": "ipython",
    "version": 3
   },
   "file_extension": ".py",
   "mimetype": "text/x-python",
   "name": "python",
   "nbconvert_exporter": "python",
   "pygments_lexer": "ipython3",
   "version": "3.10.16"
  }
 },
 "nbformat": 4,
 "nbformat_minor": 2
}
